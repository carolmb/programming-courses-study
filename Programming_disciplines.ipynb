{
 "cells": [
  {
   "cell_type": "code",
   "execution_count": 1,
   "metadata": {
    "collapsed": true
   },
   "outputs": [],
   "source": [
    "# Import necessary module\n",
    "from sqlalchemy import create_engine\n",
    "import pandas as pd\n",
    "\n",
    "# Create engine: engine\n",
    "engine = create_engine('sqlite:///programming.sqlite')"
   ]
  },
  {
   "cell_type": "code",
   "execution_count": 2,
   "metadata": {
    "collapsed": false
   },
   "outputs": [
    {
     "name": "stdout",
     "output_type": "stream",
     "text": [
      "['Grade']\n"
     ]
    }
   ],
   "source": [
    "# What are the tables in the database?\n",
    "\n",
    "# Save the table names to a list: table_names\n",
    "table_names  = engine.table_names()\n",
    "\n",
    "# Print the table names to the shell\n",
    "print(table_names)\n",
    "\n",
    "# See the data model here: http://chinookdatabase.codeplex.com/wikipage?title=Chinook_Schema&referringTitle=Home\n"
   ]
  },
  {
   "cell_type": "code",
   "execution_count": 3,
   "metadata": {
    "collapsed": false
   },
   "outputs": [
    {
     "name": "stdout",
     "output_type": "stream",
     "text": [
      "766\n"
     ]
    },
    {
     "data": {
      "text/html": [
       "<div>\n",
       "<table border=\"1\" class=\"dataframe\">\n",
       "  <thead>\n",
       "    <tr style=\"text-align: right;\">\n",
       "      <th></th>\n",
       "      <th>Aluno_ID</th>\n",
       "      <th>Período</th>\n",
       "      <th>Disciplina</th>\n",
       "      <th>Situaçăo</th>\n",
       "      <th>Média Final</th>\n",
       "      <th>Unidade I</th>\n",
       "      <th>Unidade II</th>\n",
       "      <th>Unidade III</th>\n",
       "    </tr>\n",
       "  </thead>\n",
       "  <tbody>\n",
       "    <tr>\n",
       "      <th>0</th>\n",
       "      <td>0</td>\n",
       "      <td>2014.1</td>\n",
       "      <td>IMD0012.0 - INTRODUÇĂO ŔS TÉCNICAS DE PROGRAMAÇĂO</td>\n",
       "      <td>APROVADO</td>\n",
       "      <td>7.0</td>\n",
       "      <td>4.9</td>\n",
       "      <td>9.0</td>\n",
       "      <td>7.0</td>\n",
       "    </tr>\n",
       "    <tr>\n",
       "      <th>1</th>\n",
       "      <td>1</td>\n",
       "      <td>2014.1</td>\n",
       "      <td>IMD0012.0 - INTRODUÇĂO ŔS TÉCNICAS DE PROGRAMAÇĂO</td>\n",
       "      <td>APROVADO</td>\n",
       "      <td>7.3</td>\n",
       "      <td>8.0</td>\n",
       "      <td>7.0</td>\n",
       "      <td>7.0</td>\n",
       "    </tr>\n",
       "    <tr>\n",
       "      <th>2</th>\n",
       "      <td>2</td>\n",
       "      <td>2014.1</td>\n",
       "      <td>IMD0012.0 - INTRODUÇĂO ŔS TÉCNICAS DE PROGRAMAÇĂO</td>\n",
       "      <td>APROVADO</td>\n",
       "      <td>9.3</td>\n",
       "      <td>9.5</td>\n",
       "      <td>8.3</td>\n",
       "      <td>10.0</td>\n",
       "    </tr>\n",
       "    <tr>\n",
       "      <th>3</th>\n",
       "      <td>3</td>\n",
       "      <td>2014.1</td>\n",
       "      <td>IMD0012.0 - INTRODUÇĂO ŔS TÉCNICAS DE PROGRAMAÇĂO</td>\n",
       "      <td>APROVADO</td>\n",
       "      <td>7.3</td>\n",
       "      <td>6.5</td>\n",
       "      <td>7.0</td>\n",
       "      <td>8.3</td>\n",
       "    </tr>\n",
       "    <tr>\n",
       "      <th>4</th>\n",
       "      <td>4</td>\n",
       "      <td>2014.1</td>\n",
       "      <td>IMD0012.0 - INTRODUÇĂO ŔS TÉCNICAS DE PROGRAMAÇĂO</td>\n",
       "      <td>APROVADO</td>\n",
       "      <td>7.5</td>\n",
       "      <td>5.5</td>\n",
       "      <td>8.0</td>\n",
       "      <td>9.0</td>\n",
       "    </tr>\n",
       "  </tbody>\n",
       "</table>\n",
       "</div>"
      ],
      "text/plain": [
       "   Aluno_ID  Período                                         Disciplina  \\\n",
       "0         0   2014.1  IMD0012.0 - INTRODUÇĂO ŔS TÉCNICAS DE PROGRAMAÇĂO   \n",
       "1         1   2014.1  IMD0012.0 - INTRODUÇĂO ŔS TÉCNICAS DE PROGRAMAÇĂO   \n",
       "2         2   2014.1  IMD0012.0 - INTRODUÇĂO ŔS TÉCNICAS DE PROGRAMAÇĂO   \n",
       "3         3   2014.1  IMD0012.0 - INTRODUÇĂO ŔS TÉCNICAS DE PROGRAMAÇĂO   \n",
       "4         4   2014.1  IMD0012.0 - INTRODUÇĂO ŔS TÉCNICAS DE PROGRAMAÇĂO   \n",
       "\n",
       "   Situaçăo  Média Final  Unidade I  Unidade II   Unidade III  \n",
       "0  APROVADO          7.0        4.9          9.0          7.0  \n",
       "1  APROVADO          7.3        8.0          7.0          7.0  \n",
       "2  APROVADO          9.3        9.5          8.3         10.0  \n",
       "3  APROVADO          7.3        6.5          7.0          8.3  \n",
       "4  APROVADO          7.5        5.5          8.0          9.0  "
      ]
     },
     "execution_count": 3,
     "metadata": {},
     "output_type": "execute_result"
    }
   ],
   "source": [
    "# The power of SQL lies in relationships between tables: INNER JOIN\n",
    "\n",
    "# Execute query and store records in DataFrame: df\n",
    "df = pd.read_sql_query(\"select * from Grade\",engine)\n",
    "\n",
    "# drop the unnecessary column\n",
    "df = df.drop('index', 1)\n",
    "\n",
    "# print the number of unique students\n",
    "print(len(df['Aluno_ID'].unique()))\n",
    "\n",
    "# Print head of DataFrame\n",
    "df.head()\n"
   ]
  },
  {
   "cell_type": "code",
   "execution_count": 19,
   "metadata": {
    "collapsed": true
   },
   "outputs": [],
   "source": [
    "semesters = pd.read_sql_query(\"SELECT DISTINCT Período FROM Grade\", engine)"
   ]
  },
  {
   "cell_type": "code",
   "execution_count": 21,
   "metadata": {
    "collapsed": false,
    "scrolled": true
   },
   "outputs": [
    {
     "data": {
      "text/plain": [
       "[2014.1, 2014.2, 2015.1, 2015.2, 2016.1, 2016.2]"
      ]
     },
     "execution_count": 21,
     "metadata": {},
     "output_type": "execute_result"
    }
   ],
   "source": [
    "semesters = semesters[semesters.columns[0]].tolist()\n",
    "semesters"
   ]
  },
  {
   "cell_type": "code",
   "execution_count": 30,
   "metadata": {
    "collapsed": false
   },
   "outputs": [],
   "source": [
    "studentsbySemester = []\n",
    "for s in semesters:\n",
    "    students = pd.read_sql_query(\n",
    "        \"SELECT Aluno_ID, Período, Disciplina, \\\"Situação\\\", \\\"Média Final\\\" FROM Grade WHERE Período = \" + str(s), \n",
    "        engine)\n",
    "    studentsbySemester.append(students)"
   ]
  },
  {
   "cell_type": "code",
   "execution_count": null,
   "metadata": {
    "collapsed": true
   },
   "outputs": [],
   "source": []
  }
 ],
 "metadata": {
  "kernelspec": {
   "display_name": "Python 3",
   "language": "python",
   "name": "python3"
  },
  "language_info": {
   "codemirror_mode": {
    "name": "ipython",
    "version": 3
   },
   "file_extension": ".py",
   "mimetype": "text/x-python",
   "name": "python",
   "nbconvert_exporter": "python",
   "pygments_lexer": "ipython3",
   "version": "3.6.0"
  }
 },
 "nbformat": 4,
 "nbformat_minor": 2
}
