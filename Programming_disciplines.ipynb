{
 "cells": [
  {
   "cell_type": "markdown",
   "metadata": {},
   "source": [
    "# Performance study on BTI's programming classes"
   ]
  },
  {
   "cell_type": "code",
   "execution_count": 1,
   "metadata": {
    "collapsed": true
   },
   "outputs": [],
   "source": [
    "# Importing necessary modules\n",
    "# Import the ColumnDataSource class from bokeh.plotting\n",
    "# Import figure from bokeh.plotting\n",
    "from bokeh.plotting import figure\n",
    "# Import output_notebook and show from bokeh.io\n",
    "from bokeh.io import output_notebook, show\n",
    "# Import gridplot from bokeh.layouts\n",
    "from bokeh.layouts import gridplot\n",
    "from sqlalchemy import create_engine\n",
    "import pandas as pd"
   ]
  },
  {
   "cell_type": "markdown",
   "metadata": {
    "collapsed": false
   },
   "source": [
    "## Create engine to get the original dataframe from SQLite database"
   ]
  },
  {
   "cell_type": "code",
   "execution_count": 2,
   "metadata": {
    "collapsed": false
   },
   "outputs": [
    {
     "name": "stdout",
     "output_type": "stream",
     "text": [
      "Number of students on the database:\n",
      "766\n"
     ]
    },
    {
     "data": {
      "text/html": [
       "<div>\n",
       "<table border=\"1\" class=\"dataframe\">\n",
       "  <thead>\n",
       "    <tr style=\"text-align: right;\">\n",
       "      <th></th>\n",
       "      <th>Aluno_ID</th>\n",
       "      <th>Período</th>\n",
       "      <th>Disciplina</th>\n",
       "      <th>Situaçăo</th>\n",
       "      <th>Média Final</th>\n",
       "      <th>Unidade I</th>\n",
       "      <th>Unidade II</th>\n",
       "      <th>Unidade III</th>\n",
       "    </tr>\n",
       "  </thead>\n",
       "  <tbody>\n",
       "    <tr>\n",
       "      <th>0</th>\n",
       "      <td>0</td>\n",
       "      <td>2014.1</td>\n",
       "      <td>IMD0012.0 - INTRODUÇĂO ŔS TÉCNICAS DE PROGRAMAÇĂO</td>\n",
       "      <td>APROVADO</td>\n",
       "      <td>7.0</td>\n",
       "      <td>4.9</td>\n",
       "      <td>9.0</td>\n",
       "      <td>7.0</td>\n",
       "    </tr>\n",
       "    <tr>\n",
       "      <th>1</th>\n",
       "      <td>1</td>\n",
       "      <td>2014.1</td>\n",
       "      <td>IMD0012.0 - INTRODUÇĂO ŔS TÉCNICAS DE PROGRAMAÇĂO</td>\n",
       "      <td>APROVADO</td>\n",
       "      <td>7.3</td>\n",
       "      <td>8.0</td>\n",
       "      <td>7.0</td>\n",
       "      <td>7.0</td>\n",
       "    </tr>\n",
       "    <tr>\n",
       "      <th>2</th>\n",
       "      <td>2</td>\n",
       "      <td>2014.1</td>\n",
       "      <td>IMD0012.0 - INTRODUÇĂO ŔS TÉCNICAS DE PROGRAMAÇĂO</td>\n",
       "      <td>APROVADO</td>\n",
       "      <td>9.3</td>\n",
       "      <td>9.5</td>\n",
       "      <td>8.3</td>\n",
       "      <td>10.0</td>\n",
       "    </tr>\n",
       "    <tr>\n",
       "      <th>3</th>\n",
       "      <td>3</td>\n",
       "      <td>2014.1</td>\n",
       "      <td>IMD0012.0 - INTRODUÇĂO ŔS TÉCNICAS DE PROGRAMAÇĂO</td>\n",
       "      <td>APROVADO</td>\n",
       "      <td>7.3</td>\n",
       "      <td>6.5</td>\n",
       "      <td>7.0</td>\n",
       "      <td>8.3</td>\n",
       "    </tr>\n",
       "    <tr>\n",
       "      <th>4</th>\n",
       "      <td>4</td>\n",
       "      <td>2014.1</td>\n",
       "      <td>IMD0012.0 - INTRODUÇĂO ŔS TÉCNICAS DE PROGRAMAÇĂO</td>\n",
       "      <td>APROVADO</td>\n",
       "      <td>7.5</td>\n",
       "      <td>5.5</td>\n",
       "      <td>8.0</td>\n",
       "      <td>9.0</td>\n",
       "    </tr>\n",
       "  </tbody>\n",
       "</table>\n",
       "</div>"
      ],
      "text/plain": [
       "   Aluno_ID  Período                                         Disciplina  \\\n",
       "0         0   2014.1  IMD0012.0 - INTRODUÇĂO ŔS TÉCNICAS DE PROGRAMAÇĂO   \n",
       "1         1   2014.1  IMD0012.0 - INTRODUÇĂO ŔS TÉCNICAS DE PROGRAMAÇĂO   \n",
       "2         2   2014.1  IMD0012.0 - INTRODUÇĂO ŔS TÉCNICAS DE PROGRAMAÇĂO   \n",
       "3         3   2014.1  IMD0012.0 - INTRODUÇĂO ŔS TÉCNICAS DE PROGRAMAÇĂO   \n",
       "4         4   2014.1  IMD0012.0 - INTRODUÇĂO ŔS TÉCNICAS DE PROGRAMAÇĂO   \n",
       "\n",
       "   Situaçăo  Média Final  Unidade I  Unidade II   Unidade III  \n",
       "0  APROVADO          7.0        4.9          9.0          7.0  \n",
       "1  APROVADO          7.3        8.0          7.0          7.0  \n",
       "2  APROVADO          9.3        9.5          8.3         10.0  \n",
       "3  APROVADO          7.3        6.5          7.0          8.3  \n",
       "4  APROVADO          7.5        5.5          8.0          9.0  "
      ]
     },
     "execution_count": 2,
     "metadata": {},
     "output_type": "execute_result"
    }
   ],
   "source": [
    "#Create database engine\n",
    "engine = create_engine('sqlite:///programming.sqlite')\n",
    "\n",
    "# Execute query and store records in DataFrame: df\n",
    "df = pd.read_sql_query(\"select * from Grade\",engine)\n",
    "\n",
    "# drop the unnecessary column\n",
    "df = df.drop('index', 1)\n",
    "\n",
    "print(\"Number of students on the database:\")\n",
    "print(len(df['Aluno_ID'].unique()))\n",
    "\n",
    "# Print head of DataFrame\n",
    "df.head()\n"
   ]
  },
  {
   "cell_type": "markdown",
   "metadata": {
    "collapsed": true
   },
   "source": [
    "## Get semesters"
   ]
  },
  {
   "cell_type": "code",
   "execution_count": 3,
   "metadata": {
    "collapsed": false,
    "scrolled": true
   },
   "outputs": [
    {
     "name": "stdout",
     "output_type": "stream",
     "text": [
      "Semesters:\n"
     ]
    },
    {
     "data": {
      "text/plain": [
       "[2014.1, 2014.2, 2015.1, 2015.2, 2016.1, 2016.2]"
      ]
     },
     "execution_count": 3,
     "metadata": {},
     "output_type": "execute_result"
    }
   ],
   "source": [
    "semesters = pd.read_sql_query(\"SELECT DISTINCT Período FROM Grade\", engine)\n",
    "semesters = semesters[semesters.columns[0]].tolist()\n",
    "first_semester = min(semesters)\n",
    "print(\"Semesters:\")\n",
    "semesters"
   ]
  },
  {
   "cell_type": "markdown",
   "metadata": {
    "collapsed": false
   },
   "source": [
    "## Create dataframes for the grades of each student"
   ]
  },
  {
   "cell_type": "code",
   "execution_count": 4,
   "metadata": {
    "collapsed": false
   },
   "outputs": [],
   "source": [
    "maxID = pd.read_sql_query(\"SELECT MAX(Aluno_ID) as max FROM Grade\", engine) \n",
    "maxID = maxID['max'][0]\n",
    "students = dict()\n",
    "for i in range(0, maxID):\n",
    "    student = pd.read_sql_query(\n",
    "        \"SELECT Período, Disciplina, \\\"Situaçăo\\\", \\\"Média Final\\\" FROM Grade WHERE Aluno_ID = \" + str(i), \n",
    "        engine)\n",
    "    #print(student)\n",
    "    students[i] = student"
   ]
  },
  {
   "cell_type": "markdown",
   "metadata": {},
   "source": [
    "## Create dictionary with the students of IMD0012.0 of each semester"
   ]
  },
  {
   "cell_type": "code",
   "execution_count": 5,
   "metadata": {
    "collapsed": false
   },
   "outputs": [],
   "source": [
    "studentsBySemester = dict()\n",
    "for s in semesters:\n",
    "    studentsBySemester[s] = []\n",
    "for key, value in students.items():\n",
    "    first = value[value['Disciplina'] == 'IMD0012.0 - INTRODUÇĂO ŔS TÉCNICAS DE PROGRAMAÇĂO']['Período']\n",
    "    first = first.tolist()\n",
    "    if len(first) > 0:\n",
    "        first = first[0]\n",
    "        studentsBySemester[first].append(value)"
   ]
  },
  {
   "cell_type": "markdown",
   "metadata": {},
   "source": [
    "## Define function to get the a student's grade on IMD0012.0 and his average grades on the other classes"
   ]
  },
  {
   "cell_type": "code",
   "execution_count": 24,
   "metadata": {
    "collapsed": false
   },
   "outputs": [],
   "source": [
    "def studentGrades(grades):\n",
    "    itp = grades.loc[\n",
    "        (grades['Situaçăo'] == \"REPROVADO\") &\n",
    "        (grades['Disciplina'] == 'IMD0012.0 - INTRODUÇĂO ŔS TÉCNICAS DE PROGRAMAÇĂO')]\n",
    "    color = 'green'\n",
    "    if (len(itp) > 0):\n",
    "        color = 'red'\n",
    "    s = 0\n",
    "    count = 0\n",
    "    itp = 0\n",
    "    for index, row in grades.iterrows(): \n",
    "        if not \"IMD0012.0\" in row['Disciplina']:\n",
    "            g = row['Média Final']\n",
    "            if g == None:\n",
    "                g = 0\n",
    "            s += g\n",
    "            count += 1\n",
    "        elif \"IMD0012.0\" in row['Disciplina']:\n",
    "            itp = row['Média Final']\n",
    "    if count > 0:\n",
    "        average = s/count\n",
    "    else:\n",
    "        average = 0\n",
    "    if itp == None:\n",
    "        itp = 0\n",
    "    if(color == 'green' and itp < 7.0):\n",
    "        color = 'yellow'\n",
    "    return itp, average, color"
   ]
  },
  {
   "cell_type": "markdown",
   "metadata": {},
   "source": [
    "## Separate the students with red (failed) and green (succeded) circles"
   ]
  },
  {
   "cell_type": "code",
   "execution_count": 25,
   "metadata": {
    "collapsed": false
   },
   "outputs": [],
   "source": [
    "l = len(studentsBySemester)\n",
    "points_red = [None] * l\n",
    "points_green = [None] * l\n",
    "points_yellow = [None] * l\n",
    "i = 0\n",
    "for key, value in studentsBySemester.items():\n",
    "    points_red[i] = [[],[]]\n",
    "    points_green[i] = [[],[]]\n",
    "    points_yellow[i] = [[],[]]\n",
    "    for grades in value:\n",
    "        itp, ave, color = studentGrades(grades)\n",
    "        if itp > 0:\n",
    "            if color is 'green':\n",
    "                points_green[i][0].append(itp)\n",
    "                points_green[i][1].append(ave)\n",
    "            elif color is 'yellow':\n",
    "                points_yellow[i][0].append(itp)\n",
    "                points_yellow[i][1].append(ave)\n",
    "            else:\n",
    "                points_red[i][0].append(itp)\n",
    "                points_red[i][1].append(ave)\n",
    "    i += 1"
   ]
  },
  {
   "cell_type": "markdown",
   "metadata": {},
   "source": [
    "# Scatter plots relating the grades in ITP (IMD0012.0) with the average grades, on each semester"
   ]
  },
  {
   "cell_type": "code",
   "execution_count": 34,
   "metadata": {
    "collapsed": false,
    "scrolled": false
   },
   "outputs": [
    {
     "data": {
      "text/html": [
       "\n",
       "    <div class=\"bk-root\">\n",
       "        <a href=\"http://bokeh.pydata.org\" target=\"_blank\" class=\"bk-logo bk-logo-small bk-logo-notebook\"></a>\n",
       "        <span id=\"c2701599-cd21-4d47-a9f3-3582acff43cf\">Loading BokehJS ...</span>\n",
       "    </div>"
      ]
     },
     "metadata": {},
     "output_type": "display_data"
    },
    {
     "data": {
      "application/javascript": [
       "\n",
       "(function(global) {\n",
       "  function now() {\n",
       "    return new Date();\n",
       "  }\n",
       "\n",
       "  var force = true;\n",
       "\n",
       "  if (typeof (window._bokeh_onload_callbacks) === \"undefined\" || force === true) {\n",
       "    window._bokeh_onload_callbacks = [];\n",
       "    window._bokeh_is_loading = undefined;\n",
       "  }\n",
       "\n",
       "\n",
       "  \n",
       "  if (typeof (window._bokeh_timeout) === \"undefined\" || force === true) {\n",
       "    window._bokeh_timeout = Date.now() + 5000;\n",
       "    window._bokeh_failed_load = false;\n",
       "  }\n",
       "\n",
       "  var NB_LOAD_WARNING = {'data': {'text/html':\n",
       "     \"<div style='background-color: #fdd'>\\n\"+\n",
       "     \"<p>\\n\"+\n",
       "     \"BokehJS does not appear to have successfully loaded. If loading BokehJS from CDN, this \\n\"+\n",
       "     \"may be due to a slow or bad network connection. Possible fixes:\\n\"+\n",
       "     \"</p>\\n\"+\n",
       "     \"<ul>\\n\"+\n",
       "     \"<li>re-rerun `output_notebook()` to attempt to load from CDN again, or</li>\\n\"+\n",
       "     \"<li>use INLINE resources instead, as so:</li>\\n\"+\n",
       "     \"</ul>\\n\"+\n",
       "     \"<code>\\n\"+\n",
       "     \"from bokeh.resources import INLINE\\n\"+\n",
       "     \"output_notebook(resources=INLINE)\\n\"+\n",
       "     \"</code>\\n\"+\n",
       "     \"</div>\"}};\n",
       "\n",
       "  function display_loaded() {\n",
       "    if (window.Bokeh !== undefined) {\n",
       "      document.getElementById(\"c2701599-cd21-4d47-a9f3-3582acff43cf\").textContent = \"BokehJS successfully loaded.\";\n",
       "    } else if (Date.now() < window._bokeh_timeout) {\n",
       "      setTimeout(display_loaded, 100)\n",
       "    }\n",
       "  }\n",
       "\n",
       "  function run_callbacks() {\n",
       "    window._bokeh_onload_callbacks.forEach(function(callback) { callback() });\n",
       "    delete window._bokeh_onload_callbacks\n",
       "    console.info(\"Bokeh: all callbacks have finished\");\n",
       "  }\n",
       "\n",
       "  function load_libs(js_urls, callback) {\n",
       "    window._bokeh_onload_callbacks.push(callback);\n",
       "    if (window._bokeh_is_loading > 0) {\n",
       "      console.log(\"Bokeh: BokehJS is being loaded, scheduling callback at\", now());\n",
       "      return null;\n",
       "    }\n",
       "    if (js_urls == null || js_urls.length === 0) {\n",
       "      run_callbacks();\n",
       "      return null;\n",
       "    }\n",
       "    console.log(\"Bokeh: BokehJS not loaded, scheduling load and callback at\", now());\n",
       "    window._bokeh_is_loading = js_urls.length;\n",
       "    for (var i = 0; i < js_urls.length; i++) {\n",
       "      var url = js_urls[i];\n",
       "      var s = document.createElement('script');\n",
       "      s.src = url;\n",
       "      s.async = false;\n",
       "      s.onreadystatechange = s.onload = function() {\n",
       "        window._bokeh_is_loading--;\n",
       "        if (window._bokeh_is_loading === 0) {\n",
       "          console.log(\"Bokeh: all BokehJS libraries loaded\");\n",
       "          run_callbacks()\n",
       "        }\n",
       "      };\n",
       "      s.onerror = function() {\n",
       "        console.warn(\"failed to load library \" + url);\n",
       "      };\n",
       "      console.log(\"Bokeh: injecting script tag for BokehJS library: \", url);\n",
       "      document.getElementsByTagName(\"head\")[0].appendChild(s);\n",
       "    }\n",
       "  };var element = document.getElementById(\"c2701599-cd21-4d47-a9f3-3582acff43cf\");\n",
       "  if (element == null) {\n",
       "    console.log(\"Bokeh: ERROR: autoload.js configured with elementid 'c2701599-cd21-4d47-a9f3-3582acff43cf' but no matching script tag was found. \")\n",
       "    return false;\n",
       "  }\n",
       "\n",
       "  var js_urls = [\"https://cdn.pydata.org/bokeh/release/bokeh-0.12.4.min.js\", \"https://cdn.pydata.org/bokeh/release/bokeh-widgets-0.12.4.min.js\"];\n",
       "\n",
       "  var inline_js = [\n",
       "    function(Bokeh) {\n",
       "      Bokeh.set_log_level(\"info\");\n",
       "    },\n",
       "    \n",
       "    function(Bokeh) {\n",
       "      \n",
       "      document.getElementById(\"c2701599-cd21-4d47-a9f3-3582acff43cf\").textContent = \"BokehJS is loading...\";\n",
       "    },\n",
       "    function(Bokeh) {\n",
       "      console.log(\"Bokeh: injecting CSS: https://cdn.pydata.org/bokeh/release/bokeh-0.12.4.min.css\");\n",
       "      Bokeh.embed.inject_css(\"https://cdn.pydata.org/bokeh/release/bokeh-0.12.4.min.css\");\n",
       "      console.log(\"Bokeh: injecting CSS: https://cdn.pydata.org/bokeh/release/bokeh-widgets-0.12.4.min.css\");\n",
       "      Bokeh.embed.inject_css(\"https://cdn.pydata.org/bokeh/release/bokeh-widgets-0.12.4.min.css\");\n",
       "    }\n",
       "  ];\n",
       "\n",
       "  function run_inline_js() {\n",
       "    \n",
       "    if ((window.Bokeh !== undefined) || (force === true)) {\n",
       "      for (var i = 0; i < inline_js.length; i++) {\n",
       "        inline_js[i](window.Bokeh);\n",
       "      }if (force === true) {\n",
       "        display_loaded();\n",
       "      }} else if (Date.now() < window._bokeh_timeout) {\n",
       "      setTimeout(run_inline_js, 100);\n",
       "    } else if (!window._bokeh_failed_load) {\n",
       "      console.log(\"Bokeh: BokehJS failed to load within specified timeout.\");\n",
       "      window._bokeh_failed_load = true;\n",
       "    } else if (force !== true) {\n",
       "      var cell = $(document.getElementById(\"c2701599-cd21-4d47-a9f3-3582acff43cf\")).parents('.cell').data().cell;\n",
       "      cell.output_area.append_execute_result(NB_LOAD_WARNING)\n",
       "    }\n",
       "\n",
       "  }\n",
       "\n",
       "  if (window._bokeh_is_loading === 0) {\n",
       "    console.log(\"Bokeh: BokehJS loaded, going straight to plotting\");\n",
       "    run_inline_js();\n",
       "  } else {\n",
       "    load_libs(js_urls, function() {\n",
       "      console.log(\"Bokeh: BokehJS plotting callback run at\", now());\n",
       "      run_inline_js();\n",
       "    });\n",
       "  }\n",
       "}(this));"
      ]
     },
     "metadata": {},
     "output_type": "display_data"
    },
    {
     "data": {
      "text/html": [
       "\n",
       "\n",
       "    <div class=\"bk-root\">\n",
       "        <div class=\"bk-plotdiv\" id=\"da00d8f8-9e2a-496d-baf7-7085157e7139\"></div>\n",
       "    </div>\n",
       "<script type=\"text/javascript\">\n",
       "  \n",
       "  (function(global) {\n",
       "    function now() {\n",
       "      return new Date();\n",
       "    }\n",
       "  \n",
       "    var force = false;\n",
       "  \n",
       "    if (typeof (window._bokeh_onload_callbacks) === \"undefined\" || force === true) {\n",
       "      window._bokeh_onload_callbacks = [];\n",
       "      window._bokeh_is_loading = undefined;\n",
       "    }\n",
       "  \n",
       "  \n",
       "    \n",
       "    if (typeof (window._bokeh_timeout) === \"undefined\" || force === true) {\n",
       "      window._bokeh_timeout = Date.now() + 0;\n",
       "      window._bokeh_failed_load = false;\n",
       "    }\n",
       "  \n",
       "    var NB_LOAD_WARNING = {'data': {'text/html':\n",
       "       \"<div style='background-color: #fdd'>\\n\"+\n",
       "       \"<p>\\n\"+\n",
       "       \"BokehJS does not appear to have successfully loaded. If loading BokehJS from CDN, this \\n\"+\n",
       "       \"may be due to a slow or bad network connection. Possible fixes:\\n\"+\n",
       "       \"</p>\\n\"+\n",
       "       \"<ul>\\n\"+\n",
       "       \"<li>re-rerun `output_notebook()` to attempt to load from CDN again, or</li>\\n\"+\n",
       "       \"<li>use INLINE resources instead, as so:</li>\\n\"+\n",
       "       \"</ul>\\n\"+\n",
       "       \"<code>\\n\"+\n",
       "       \"from bokeh.resources import INLINE\\n\"+\n",
       "       \"output_notebook(resources=INLINE)\\n\"+\n",
       "       \"</code>\\n\"+\n",
       "       \"</div>\"}};\n",
       "  \n",
       "    function display_loaded() {\n",
       "      if (window.Bokeh !== undefined) {\n",
       "        document.getElementById(\"da00d8f8-9e2a-496d-baf7-7085157e7139\").textContent = \"BokehJS successfully loaded.\";\n",
       "      } else if (Date.now() < window._bokeh_timeout) {\n",
       "        setTimeout(display_loaded, 100)\n",
       "      }\n",
       "    }\n",
       "  \n",
       "    function run_callbacks() {\n",
       "      window._bokeh_onload_callbacks.forEach(function(callback) { callback() });\n",
       "      delete window._bokeh_onload_callbacks\n",
       "      console.info(\"Bokeh: all callbacks have finished\");\n",
       "    }\n",
       "  \n",
       "    function load_libs(js_urls, callback) {\n",
       "      window._bokeh_onload_callbacks.push(callback);\n",
       "      if (window._bokeh_is_loading > 0) {\n",
       "        console.log(\"Bokeh: BokehJS is being loaded, scheduling callback at\", now());\n",
       "        return null;\n",
       "      }\n",
       "      if (js_urls == null || js_urls.length === 0) {\n",
       "        run_callbacks();\n",
       "        return null;\n",
       "      }\n",
       "      console.log(\"Bokeh: BokehJS not loaded, scheduling load and callback at\", now());\n",
       "      window._bokeh_is_loading = js_urls.length;\n",
       "      for (var i = 0; i < js_urls.length; i++) {\n",
       "        var url = js_urls[i];\n",
       "        var s = document.createElement('script');\n",
       "        s.src = url;\n",
       "        s.async = false;\n",
       "        s.onreadystatechange = s.onload = function() {\n",
       "          window._bokeh_is_loading--;\n",
       "          if (window._bokeh_is_loading === 0) {\n",
       "            console.log(\"Bokeh: all BokehJS libraries loaded\");\n",
       "            run_callbacks()\n",
       "          }\n",
       "        };\n",
       "        s.onerror = function() {\n",
       "          console.warn(\"failed to load library \" + url);\n",
       "        };\n",
       "        console.log(\"Bokeh: injecting script tag for BokehJS library: \", url);\n",
       "        document.getElementsByTagName(\"head\")[0].appendChild(s);\n",
       "      }\n",
       "    };var element = document.getElementById(\"da00d8f8-9e2a-496d-baf7-7085157e7139\");\n",
       "    if (element == null) {\n",
       "      console.log(\"Bokeh: ERROR: autoload.js configured with elementid 'da00d8f8-9e2a-496d-baf7-7085157e7139' but no matching script tag was found. \")\n",
       "      return false;\n",
       "    }\n",
       "  \n",
       "    var js_urls = [];\n",
       "  \n",
       "    var inline_js = [\n",
       "      function(Bokeh) {\n",
       "        (function() {\n",
       "          var fn = function() {\n",
       "            var docs_json = {\"777a407a-3c9a-4e90-b2c0-8e13d04e3ae5\":{\"roots\":{\"references\":[{\"attributes\":{\"axis_label\":\"Average grade in other classes\",\"formatter\":{\"id\":\"11a32f58-cc02-4baf-9cbe-793b09265ad1\",\"type\":\"BasicTickFormatter\"},\"plot\":{\"id\":\"0c548b7d-ccd4-4504-9d75-dcdf1e7f0564\",\"subtype\":\"Figure\",\"type\":\"Plot\"},\"ticker\":{\"id\":\"bd96c204-df57-4e06-8c53-aaa02feef57b\",\"type\":\"BasicTicker\"}},\"id\":\"15921b03-6bd5-46d8-b358-87419efa9ac8\",\"type\":\"LinearAxis\"},{\"attributes\":{},\"id\":\"22ee181a-a8ae-4320-b6fe-31ada9276357\",\"type\":\"BasicTickFormatter\"},{\"attributes\":{},\"id\":\"bd96c204-df57-4e06-8c53-aaa02feef57b\",\"type\":\"BasicTicker\"},{\"attributes\":{\"dimension\":1,\"plot\":{\"id\":\"0c548b7d-ccd4-4504-9d75-dcdf1e7f0564\",\"subtype\":\"Figure\",\"type\":\"Plot\"},\"ticker\":{\"id\":\"bd96c204-df57-4e06-8c53-aaa02feef57b\",\"type\":\"BasicTicker\"}},\"id\":\"17fc9cfa-a541-4fab-b255-a29111be6c90\",\"type\":\"Grid\"},{\"attributes\":{},\"id\":\"1443ff2a-cf57-4674-b9c8-b91bb626fcf9\",\"type\":\"BasicTickFormatter\"},{\"attributes\":{\"data_source\":{\"id\":\"ab5f09d6-637f-470a-87e7-b8e488e7867c\",\"type\":\"ColumnDataSource\"},\"glyph\":{\"id\":\"894f4601-5988-43a2-8d19-4b0ac2c68ac3\",\"type\":\"Circle\"},\"hover_glyph\":null,\"nonselection_glyph\":{\"id\":\"0b5bac43-c776-4f2a-a525-0d9a1464d262\",\"type\":\"Circle\"},\"selection_glyph\":null},\"id\":\"38566159-9700-4ed4-aff2-df2b375c166a\",\"type\":\"GlyphRenderer\"},{\"attributes\":{\"callback\":null,\"column_names\":[\"x\",\"y\"],\"data\":{\"x\":[5.6,6.0,5.0,5.6,6.7,6.8,2.3,5.0,3.6,1.0,6.1,5.3,0.5,0.7,5.6,2.5,1.2,2.5,0.9],\"y\":[6.7,\"NaN\",7.959999999999999,6.9799999999999995,\"NaN\",\"NaN\",0.7000000000000001,3.4499999999999997,4.3,0.0,\"NaN\",\"NaN\",\"NaN\",\"NaN\",2.375,2.3,0.0,\"NaN\",3.3]}},\"id\":\"ef8a0786-1331-445e-9e35-ea9c0c8ec029\",\"type\":\"ColumnDataSource\"},{\"attributes\":{\"fill_alpha\":{\"value\":0.1},\"fill_color\":{\"value\":\"#1f77b4\"},\"line_alpha\":{\"value\":0.1},\"line_color\":{\"value\":\"#1f77b4\"},\"size\":{\"units\":\"screen\",\"value\":40},\"x\":{\"field\":\"x\"},\"y\":{\"field\":\"y\"}},\"id\":\"92a20ebc-ad99-4f9e-8f58-5c3ff0432bfb\",\"type\":\"Circle\"},{\"attributes\":{\"plot\":{\"id\":\"0c548b7d-ccd4-4504-9d75-dcdf1e7f0564\",\"subtype\":\"Figure\",\"type\":\"Plot\"}},\"id\":\"8e0bd1f4-716a-40df-9a89-736e1a9e7af7\",\"type\":\"PanTool\"},{\"attributes\":{\"fill_alpha\":{\"value\":0.52},\"fill_color\":{\"value\":\"#EE0000\"},\"line_alpha\":{\"value\":0.0},\"line_color\":{\"value\":\"#1f77b4\"},\"size\":{\"units\":\"screen\",\"value\":40},\"x\":{\"field\":\"x\"},\"y\":{\"field\":\"y\"}},\"id\":\"a7e00a52-df62-470c-8dc7-e873fdc0be7f\",\"type\":\"Circle\"},{\"attributes\":{\"plot\":{\"id\":\"0c548b7d-ccd4-4504-9d75-dcdf1e7f0564\",\"subtype\":\"Figure\",\"type\":\"Plot\"}},\"id\":\"f51d5fd3-6420-474d-bdc8-692ef5644aa1\",\"type\":\"WheelZoomTool\"},{\"attributes\":{\"overlay\":{\"id\":\"076e4312-8334-4eb6-afb6-3b19e69768e0\",\"type\":\"BoxAnnotation\"},\"plot\":{\"id\":\"0c548b7d-ccd4-4504-9d75-dcdf1e7f0564\",\"subtype\":\"Figure\",\"type\":\"Plot\"}},\"id\":\"c49f9b50-9d76-44b6-b4da-b2b88f24a830\",\"type\":\"BoxZoomTool\"},{\"attributes\":{\"fill_alpha\":{\"value\":0.52},\"fill_color\":{\"value\":\"#EEEE00\"},\"line_alpha\":{\"value\":0.0},\"line_color\":{\"value\":\"#1f77b4\"},\"size\":{\"units\":\"screen\",\"value\":40},\"x\":{\"field\":\"x\"},\"y\":{\"field\":\"y\"}},\"id\":\"2634eea5-ffca-47a3-b18a-32f43d4a35af\",\"type\":\"Circle\"},{\"attributes\":{\"data_source\":{\"id\":\"ef8a0786-1331-445e-9e35-ea9c0c8ec029\",\"type\":\"ColumnDataSource\"},\"glyph\":{\"id\":\"2634eea5-ffca-47a3-b18a-32f43d4a35af\",\"type\":\"Circle\"},\"hover_glyph\":null,\"nonselection_glyph\":{\"id\":\"92a20ebc-ad99-4f9e-8f58-5c3ff0432bfb\",\"type\":\"Circle\"},\"selection_glyph\":null},\"id\":\"3a20370d-4c69-4df8-ab58-01028a5dfec1\",\"type\":\"GlyphRenderer\"},{\"attributes\":{\"callback\":null,\"column_names\":[\"x\",\"y\"],\"data\":{\"x\":[4.6,5.6,8.1,5.9,1.5,0.6,1.6,7.8,6.7,6.2,5.9,6.4],\"y\":[1.25,\"NaN\",4.833333333333333,\"NaN\",0.7,0.6,4.0,6.749999999999999,5.012499999999999,\"NaN\",3.5500000000000003,\"NaN\"]}},\"id\":\"8e6de093-6e1f-443f-9585-138e9c903acc\",\"type\":\"ColumnDataSource\"},{\"attributes\":{\"fill_alpha\":{\"value\":0.52},\"fill_color\":{\"value\":\"#006611\"},\"line_alpha\":{\"value\":0.0},\"line_color\":{\"value\":\"#1f77b4\"},\"size\":{\"units\":\"screen\",\"value\":40},\"x\":{\"field\":\"x\"},\"y\":{\"field\":\"y\"}},\"id\":\"7b9facec-8a2e-4e3f-a9d8-007ac7fcbcdc\",\"type\":\"Circle\"},{\"attributes\":{\"data_source\":{\"id\":\"8e6de093-6e1f-443f-9585-138e9c903acc\",\"type\":\"ColumnDataSource\"},\"glyph\":{\"id\":\"a7e00a52-df62-470c-8dc7-e873fdc0be7f\",\"type\":\"Circle\"},\"hover_glyph\":null,\"nonselection_glyph\":{\"id\":\"ccc7eaf7-640e-4b43-8f0f-cf4a9b2c1fa0\",\"type\":\"Circle\"},\"selection_glyph\":null},\"id\":\"1b6020b2-a792-4b49-a99c-b96c3fc29138\",\"type\":\"GlyphRenderer\"},{\"attributes\":{\"fill_alpha\":{\"value\":0.1},\"fill_color\":{\"value\":\"#1f77b4\"},\"line_alpha\":{\"value\":0.1},\"line_color\":{\"value\":\"#1f77b4\"},\"size\":{\"units\":\"screen\",\"value\":40},\"x\":{\"field\":\"x\"},\"y\":{\"field\":\"y\"}},\"id\":\"ccc7eaf7-640e-4b43-8f0f-cf4a9b2c1fa0\",\"type\":\"Circle\"},{\"attributes\":{\"callback\":null,\"column_names\":[\"x\",\"y\"],\"data\":{\"x\":[10.0,10.0,8.4,8.3,9.1,7.9,8.5,8.1,8.3,7.5,9.3,8.3,10.0,8.7,7.4,8.4,7.9,9.6,8.5,7.9,9.3,9.3,7.3,8.3,9.5,7.7,8.0,7.0,7.4,7.3,8.9,7.9,8.4,9.8,8.4,8.2,9.5,9.3,8.4,8.5,7.6,8.5,8.7,7.5],\"y\":[7.816666666666666,8.52,7.18,6.960000000000001,8.36,3.614285714285714,5.2,7.62,\"NaN\",7.279999999999999,7.840000000000001,8.04,8.419999999999998,8.2,6.1499999999999995,8.3,7.279999999999999,8.419999999999998,9.08,7.359999999999999,7.76,9.0,\"NaN\",\"NaN\",\"NaN\",5.562499999999999,8.06,\"NaN\",\"NaN\",1.5285714285714287,5.325,5.983333333333333,8.38,8.26,1.75,\"NaN\",7.283333333333334,4.040000000000001,\"NaN\",4.4,\"NaN\",\"NaN\",\"NaN\",\"NaN\"]}},\"id\":\"1b7e1bfe-bfc3-4d68-9bfb-15c2b6421b49\",\"type\":\"ColumnDataSource\"},{\"attributes\":{\"callback\":null,\"column_names\":[\"x\",\"y\"],\"data\":{\"x\":[6.2,5.5,5.0,6.9,6.4,6.8,6.8,5.8,5.0,5.8,6.9,6.0,6.7,6.5,6.7,6.2,6.7,6.7,6.1,5.7,6.0,6.0,6.6,5.6,6.2,6.3,0.3,4.8,0.2,1.5,3.6,6.4,2.0,5.4,5.7,0.7,0.7,6.3,1.0,0.8,5.0,6.4,0.9,2.2,6.4,4.2,2.1,5.8,1.9,5.3,6.5,5.4,2.7],\"y\":[7.483333333333333,2.733333333333333,\"NaN\",5.033333333333333,7.0600000000000005,1.385714285714286,7.279999999999999,7.24,\"NaN\",3.5555555555555554,\"NaN\",\"NaN\",\"NaN\",1.9333333333333333,\"NaN\",\"NaN\",6.233333333333333,2.9799999999999995,7.62,\"NaN\",\"NaN\",5.1,6.233333333333333,6.38,\"NaN\",\"NaN\",0.8,0.5,0.5,\"NaN\",2.6,4.4,0.7749999999999999,2.614285714285714,1.46,0.0,0.0,4.071428571428571,\"NaN\",0.0,5.266666666666667,2.3625000000000003,2.3,0.0,3.8833333333333333,3.9,0.875,\"NaN\",0.78,1.675,\"NaN\",3.35,\"NaN\"]}},\"id\":\"aa776f1c-fb99-4611-bb48-d4699888edd5\",\"type\":\"ColumnDataSource\"},{\"attributes\":{\"data_source\":{\"id\":\"1b7e1bfe-bfc3-4d68-9bfb-15c2b6421b49\",\"type\":\"ColumnDataSource\"},\"glyph\":{\"id\":\"7b9facec-8a2e-4e3f-a9d8-007ac7fcbcdc\",\"type\":\"Circle\"},\"hover_glyph\":null,\"nonselection_glyph\":{\"id\":\"21e6f100-bb87-4a64-80a0-3b8ddb7eaf93\",\"type\":\"Circle\"},\"selection_glyph\":null},\"id\":\"8b2cc4f8-ae12-4445-9556-74177ff16682\",\"type\":\"GlyphRenderer\"},{\"attributes\":{\"fill_alpha\":{\"value\":0.1},\"fill_color\":{\"value\":\"#1f77b4\"},\"line_alpha\":{\"value\":0.1},\"line_color\":{\"value\":\"#1f77b4\"},\"size\":{\"units\":\"screen\",\"value\":40},\"x\":{\"field\":\"x\"},\"y\":{\"field\":\"y\"}},\"id\":\"21e6f100-bb87-4a64-80a0-3b8ddb7eaf93\",\"type\":\"Circle\"},{\"attributes\":{},\"id\":\"11a32f58-cc02-4baf-9cbe-793b09265ad1\",\"type\":\"BasicTickFormatter\"},{\"attributes\":{},\"id\":\"7d5f9fa7-5f87-482c-abb8-ab8eb8ebdec2\",\"type\":\"BasicTickFormatter\"},{\"attributes\":{\"fill_alpha\":{\"value\":0.52},\"fill_color\":{\"value\":\"#EE0000\"},\"line_alpha\":{\"value\":0.0},\"line_color\":{\"value\":\"#1f77b4\"},\"size\":{\"units\":\"screen\",\"value\":40},\"x\":{\"field\":\"x\"},\"y\":{\"field\":\"y\"}},\"id\":\"35f0c49d-8c9d-4648-ac03-74b8072ef002\",\"type\":\"Circle\"},{\"attributes\":{\"fill_alpha\":{\"value\":0.1},\"fill_color\":{\"value\":\"#1f77b4\"},\"line_alpha\":{\"value\":0.1},\"line_color\":{\"value\":\"#1f77b4\"},\"size\":{\"units\":\"screen\",\"value\":40},\"x\":{\"field\":\"x\"},\"y\":{\"field\":\"y\"}},\"id\":\"96161520-ea6c-4a73-8dc5-c2c595a7190e\",\"type\":\"Circle\"},{\"attributes\":{\"fill_alpha\":{\"value\":0.52},\"fill_color\":{\"value\":\"#EEEE00\"},\"line_alpha\":{\"value\":0.0},\"line_color\":{\"value\":\"#1f77b4\"},\"size\":{\"units\":\"screen\",\"value\":40},\"x\":{\"field\":\"x\"},\"y\":{\"field\":\"y\"}},\"id\":\"6a136a33-57ee-4b22-8b70-760bbe74aac7\",\"type\":\"Circle\"},{\"attributes\":{\"data_source\":{\"id\":\"aa776f1c-fb99-4611-bb48-d4699888edd5\",\"type\":\"ColumnDataSource\"},\"glyph\":{\"id\":\"6a136a33-57ee-4b22-8b70-760bbe74aac7\",\"type\":\"Circle\"},\"hover_glyph\":null,\"nonselection_glyph\":{\"id\":\"96161520-ea6c-4a73-8dc5-c2c595a7190e\",\"type\":\"Circle\"},\"selection_glyph\":null},\"id\":\"64c8281e-6b48-44bd-a977-9fec6f180e01\",\"type\":\"GlyphRenderer\"},{\"attributes\":{\"callback\":null,\"column_names\":[\"x\",\"y\"],\"data\":{\"x\":[3.0,9.3,6.4,7.4,6.6,3.1,5.0,5.0,5.0,5.7,5.0,5.4,5.2,4.9,6.1,5.8,5.5,9.0,3.9,2.2,3.1,8.0,1.9],\"y\":[1.4333333333333333,\"NaN\",5.566666666666666,4.733333333333333,\"NaN\",4.6,3.625,\"NaN\",5.642857142857143,3.3666666666666667,3.45,3.6999999999999997,2.1666666666666665,\"NaN\",2.8999999999999995,3.9333333333333336,\"NaN\",4.428571428571429,2.1,2.25,\"NaN\",3.62,\"NaN\"]}},\"id\":\"14c9502b-3a6a-4b23-b51a-6c4b04c6d258\",\"type\":\"ColumnDataSource\"},{\"attributes\":{\"plot\":null,\"text\":\"2015.1 class of ITP: Green=SUCCESS, Red=FAILURE;\"},\"id\":\"3b43c0bf-00cf-420f-bf59-869383bf8a70\",\"type\":\"Title\"},{\"attributes\":{\"data_source\":{\"id\":\"14c9502b-3a6a-4b23-b51a-6c4b04c6d258\",\"type\":\"ColumnDataSource\"},\"glyph\":{\"id\":\"35f0c49d-8c9d-4648-ac03-74b8072ef002\",\"type\":\"Circle\"},\"hover_glyph\":null,\"nonselection_glyph\":{\"id\":\"32533552-f9b5-4a64-a65c-318497696513\",\"type\":\"Circle\"},\"selection_glyph\":null},\"id\":\"47ed6127-2c32-42e5-8fb7-ca842cb66bf2\",\"type\":\"GlyphRenderer\"},{\"attributes\":{\"fill_alpha\":{\"value\":0.1},\"fill_color\":{\"value\":\"#1f77b4\"},\"line_alpha\":{\"value\":0.1},\"line_color\":{\"value\":\"#1f77b4\"},\"size\":{\"units\":\"screen\",\"value\":40},\"x\":{\"field\":\"x\"},\"y\":{\"field\":\"y\"}},\"id\":\"32533552-f9b5-4a64-a65c-318497696513\",\"type\":\"Circle\"},{\"attributes\":{\"below\":[{\"id\":\"41542513-b3e5-4317-a267-02338aec6b96\",\"type\":\"LinearAxis\"}],\"left\":[{\"id\":\"9c9df49f-a68b-4e63-997b-551072f6ac7b\",\"type\":\"LinearAxis\"}],\"renderers\":[{\"id\":\"41542513-b3e5-4317-a267-02338aec6b96\",\"type\":\"LinearAxis\"},{\"id\":\"0467480d-13e6-45d2-a6c3-f8fcd8eef12e\",\"type\":\"Grid\"},{\"id\":\"9c9df49f-a68b-4e63-997b-551072f6ac7b\",\"type\":\"LinearAxis\"},{\"id\":\"5cc0e50e-a34b-44f8-8a82-7e5965639c9f\",\"type\":\"Grid\"},{\"id\":\"8b025cd7-5ad9-4e35-b1f4-759b7d7a3cf4\",\"type\":\"BoxAnnotation\"},{\"id\":\"c0bcba75-df33-411b-b7ed-f7cbca1169f1\",\"type\":\"GlyphRenderer\"},{\"id\":\"8d3dae5c-4aba-40e3-811a-8940e44aa298\",\"type\":\"GlyphRenderer\"},{\"id\":\"bcd6020c-8574-40c8-aa15-0037e543e14e\",\"type\":\"GlyphRenderer\"}],\"sizing_mode\":\"scale_width\",\"title\":{\"id\":\"3b43c0bf-00cf-420f-bf59-869383bf8a70\",\"type\":\"Title\"},\"tool_events\":{\"id\":\"9f08c032-4925-4f16-a7f7-1dd3e1dd4cf5\",\"type\":\"ToolEvents\"},\"toolbar\":{\"id\":\"8c9c3897-29f3-4c4d-ac54-c7f5e81184b8\",\"type\":\"Toolbar\"},\"toolbar_location\":null,\"x_range\":{\"id\":\"56b02a5d-7000-4a70-9fbd-1cf36d2ff2da\",\"type\":\"DataRange1d\"},\"y_range\":{\"id\":\"a49c1c82-c698-4b99-b5b7-690aad088438\",\"type\":\"DataRange1d\"}},\"id\":\"37f8aa94-bd95-45f7-9bb6-59d68c433d77\",\"subtype\":\"Figure\",\"type\":\"Plot\"},{\"attributes\":{},\"id\":\"d0856466-1947-4017-83fb-b4405e1111f0\",\"type\":\"ToolEvents\"},{\"attributes\":{},\"id\":\"9f08c032-4925-4f16-a7f7-1dd3e1dd4cf5\",\"type\":\"ToolEvents\"},{\"attributes\":{\"callback\":null},\"id\":\"56b02a5d-7000-4a70-9fbd-1cf36d2ff2da\",\"type\":\"DataRange1d\"},{\"attributes\":{\"active_drag\":\"auto\",\"active_scroll\":\"auto\",\"active_tap\":\"auto\",\"tools\":[{\"id\":\"04e5e435-0aa7-412a-a41f-c72df99f935c\",\"type\":\"PanTool\"},{\"id\":\"fafbc4cd-f277-4a51-b3a2-48d26bfa112f\",\"type\":\"WheelZoomTool\"},{\"id\":\"2ff78b64-afda-4e8d-b052-d7a96e1e62e5\",\"type\":\"BoxZoomTool\"},{\"id\":\"473736f4-423b-40a3-9aa2-26a776316845\",\"type\":\"SaveTool\"},{\"id\":\"50bc892b-171c-447d-afec-f7a982a0a5ab\",\"type\":\"ResetTool\"},{\"id\":\"c76e0a44-3cc7-4455-8ca2-323ed90e7d55\",\"type\":\"HelpTool\"}]},\"id\":\"8c9c3897-29f3-4c4d-ac54-c7f5e81184b8\",\"type\":\"Toolbar\"},{\"attributes\":{\"plot\":null,\"text\":\"2015.2 class of ITP: Green=SUCCESS, Red=FAILURE;\"},\"id\":\"4cbf1fed-82ff-4670-a3aa-a6f8c0c2facd\",\"type\":\"Title\"},{\"attributes\":{\"axis_label\":\"ITP Grade\",\"formatter\":{\"id\":\"7b427660-a3f5-419f-a945-5faa45df800e\",\"type\":\"BasicTickFormatter\"},\"plot\":{\"id\":\"37f8aa94-bd95-45f7-9bb6-59d68c433d77\",\"subtype\":\"Figure\",\"type\":\"Plot\"},\"ticker\":{\"id\":\"f1479b6f-8f6e-4c79-bc03-a2df498a2723\",\"type\":\"BasicTicker\"}},\"id\":\"41542513-b3e5-4317-a267-02338aec6b96\",\"type\":\"LinearAxis\"},{\"attributes\":{\"callback\":null},\"id\":\"a49c1c82-c698-4b99-b5b7-690aad088438\",\"type\":\"DataRange1d\"},{\"attributes\":{},\"id\":\"f1479b6f-8f6e-4c79-bc03-a2df498a2723\",\"type\":\"BasicTicker\"},{\"attributes\":{\"plot\":{\"id\":\"37f8aa94-bd95-45f7-9bb6-59d68c433d77\",\"subtype\":\"Figure\",\"type\":\"Plot\"},\"ticker\":{\"id\":\"f1479b6f-8f6e-4c79-bc03-a2df498a2723\",\"type\":\"BasicTicker\"}},\"id\":\"0467480d-13e6-45d2-a6c3-f8fcd8eef12e\",\"type\":\"Grid\"},{\"attributes\":{\"axis_label\":\"Average grade in other classes\",\"formatter\":{\"id\":\"50a253eb-5963-48ab-a798-192847b7670d\",\"type\":\"BasicTickFormatter\"},\"plot\":{\"id\":\"37f8aa94-bd95-45f7-9bb6-59d68c433d77\",\"subtype\":\"Figure\",\"type\":\"Plot\"},\"ticker\":{\"id\":\"0e0fcdd1-6c5a-4305-97cb-f98ed609161d\",\"type\":\"BasicTicker\"}},\"id\":\"9c9df49f-a68b-4e63-997b-551072f6ac7b\",\"type\":\"LinearAxis\"},{\"attributes\":{},\"id\":\"0e0fcdd1-6c5a-4305-97cb-f98ed609161d\",\"type\":\"BasicTicker\"},{\"attributes\":{\"dimension\":1,\"plot\":{\"id\":\"37f8aa94-bd95-45f7-9bb6-59d68c433d77\",\"subtype\":\"Figure\",\"type\":\"Plot\"},\"ticker\":{\"id\":\"0e0fcdd1-6c5a-4305-97cb-f98ed609161d\",\"type\":\"BasicTicker\"}},\"id\":\"5cc0e50e-a34b-44f8-8a82-7e5965639c9f\",\"type\":\"Grid\"},{\"attributes\":{\"callback\":null},\"id\":\"8a137a6c-d8dc-4192-8192-c28503d845f4\",\"type\":\"DataRange1d\"},{\"attributes\":{\"data_source\":{\"id\":\"cbb55d4c-540f-401a-81cd-4168419a33b2\",\"type\":\"ColumnDataSource\"},\"glyph\":{\"id\":\"31ad8086-01b6-42b9-8bf8-446c9e395e9a\",\"type\":\"Circle\"},\"hover_glyph\":null,\"nonselection_glyph\":{\"id\":\"230e1253-bc17-4271-9dc6-9602597b1c47\",\"type\":\"Circle\"},\"selection_glyph\":null},\"id\":\"c0bcba75-df33-411b-b7ed-f7cbca1169f1\",\"type\":\"GlyphRenderer\"},{\"attributes\":{\"below\":[{\"id\":\"dbdf1930-8d6e-4d76-a368-fa6dfa7c8c33\",\"type\":\"LinearAxis\"}],\"left\":[{\"id\":\"6938c220-eaa0-47ec-90b6-97c4d5280ce2\",\"type\":\"LinearAxis\"}],\"renderers\":[{\"id\":\"dbdf1930-8d6e-4d76-a368-fa6dfa7c8c33\",\"type\":\"LinearAxis\"},{\"id\":\"59b06be0-9115-4b81-aec6-26d3833fbc65\",\"type\":\"Grid\"},{\"id\":\"6938c220-eaa0-47ec-90b6-97c4d5280ce2\",\"type\":\"LinearAxis\"},{\"id\":\"e9c7e4e0-4635-4d1e-a7cb-880ee3fedef2\",\"type\":\"Grid\"},{\"id\":\"0d41c119-4c3c-426b-9393-df484a17e1b2\",\"type\":\"BoxAnnotation\"},{\"id\":\"58117464-57d7-49fb-81c9-21653ad72734\",\"type\":\"GlyphRenderer\"},{\"id\":\"38f9ae63-122d-4ca8-bfe7-ec14dca1c6ca\",\"type\":\"GlyphRenderer\"},{\"id\":\"33c8bf0f-a25a-46cb-bf35-a376eff1eb8f\",\"type\":\"GlyphRenderer\"}],\"sizing_mode\":\"scale_width\",\"title\":{\"id\":\"4cbf1fed-82ff-4670-a3aa-a6f8c0c2facd\",\"type\":\"Title\"},\"tool_events\":{\"id\":\"d0856466-1947-4017-83fb-b4405e1111f0\",\"type\":\"ToolEvents\"},\"toolbar\":{\"id\":\"ba943abc-5b20-47e6-9250-ed990219ff99\",\"type\":\"Toolbar\"},\"toolbar_location\":null,\"x_range\":{\"id\":\"8a137a6c-d8dc-4192-8192-c28503d845f4\",\"type\":\"DataRange1d\"},\"y_range\":{\"id\":\"d4fe297f-1140-40a5-99b9-5b231611854a\",\"type\":\"DataRange1d\"}},\"id\":\"129e13d4-746a-46ca-bd5d-eb4609915c4e\",\"subtype\":\"Figure\",\"type\":\"Plot\"},{\"attributes\":{\"bottom_units\":\"screen\",\"fill_alpha\":{\"value\":0.5},\"fill_color\":{\"value\":\"lightgrey\"},\"left_units\":\"screen\",\"level\":\"overlay\",\"line_alpha\":{\"value\":1.0},\"line_color\":{\"value\":\"black\"},\"line_dash\":[4,4],\"line_width\":{\"value\":2},\"plot\":null,\"render_mode\":\"css\",\"right_units\":\"screen\",\"top_units\":\"screen\"},\"id\":\"8b025cd7-5ad9-4e35-b1f4-759b7d7a3cf4\",\"type\":\"BoxAnnotation\"},{\"attributes\":{\"plot\":{\"id\":\"37f8aa94-bd95-45f7-9bb6-59d68c433d77\",\"subtype\":\"Figure\",\"type\":\"Plot\"}},\"id\":\"04e5e435-0aa7-412a-a41f-c72df99f935c\",\"type\":\"PanTool\"},{\"attributes\":{\"active_drag\":\"auto\",\"active_scroll\":\"auto\",\"active_tap\":\"auto\",\"tools\":[{\"id\":\"b040b738-4764-4de0-a84f-b01c7bc575f8\",\"type\":\"PanTool\"},{\"id\":\"37e28b0f-9caf-4149-954c-0a6b0d765fb6\",\"type\":\"WheelZoomTool\"},{\"id\":\"d19de832-f78f-4dee-99ab-b7b502dfe95e\",\"type\":\"BoxZoomTool\"},{\"id\":\"56d00dd6-30ee-463e-bab8-ef6299dd3bd3\",\"type\":\"SaveTool\"},{\"id\":\"afece307-5683-4811-be4d-fdbdda1b5941\",\"type\":\"ResetTool\"},{\"id\":\"3274d582-a93d-483e-aa9a-caf634d80b37\",\"type\":\"HelpTool\"}]},\"id\":\"ba943abc-5b20-47e6-9250-ed990219ff99\",\"type\":\"Toolbar\"},{\"attributes\":{\"plot\":{\"id\":\"37f8aa94-bd95-45f7-9bb6-59d68c433d77\",\"subtype\":\"Figure\",\"type\":\"Plot\"}},\"id\":\"fafbc4cd-f277-4a51-b3a2-48d26bfa112f\",\"type\":\"WheelZoomTool\"},{\"attributes\":{\"overlay\":{\"id\":\"8b025cd7-5ad9-4e35-b1f4-759b7d7a3cf4\",\"type\":\"BoxAnnotation\"},\"plot\":{\"id\":\"37f8aa94-bd95-45f7-9bb6-59d68c433d77\",\"subtype\":\"Figure\",\"type\":\"Plot\"}},\"id\":\"2ff78b64-afda-4e8d-b052-d7a96e1e62e5\",\"type\":\"BoxZoomTool\"},{\"attributes\":{\"plot\":{\"id\":\"37f8aa94-bd95-45f7-9bb6-59d68c433d77\",\"subtype\":\"Figure\",\"type\":\"Plot\"}},\"id\":\"473736f4-423b-40a3-9aa2-26a776316845\",\"type\":\"SaveTool\"},{\"attributes\":{\"plot\":{\"id\":\"37f8aa94-bd95-45f7-9bb6-59d68c433d77\",\"subtype\":\"Figure\",\"type\":\"Plot\"}},\"id\":\"50bc892b-171c-447d-afec-f7a982a0a5ab\",\"type\":\"ResetTool\"},{\"attributes\":{\"plot\":{\"id\":\"37f8aa94-bd95-45f7-9bb6-59d68c433d77\",\"subtype\":\"Figure\",\"type\":\"Plot\"}},\"id\":\"c76e0a44-3cc7-4455-8ca2-323ed90e7d55\",\"type\":\"HelpTool\"},{\"attributes\":{\"axis_label\":\"ITP Grade\",\"formatter\":{\"id\":\"68d39f72-f3f7-46bb-b379-39009301a074\",\"type\":\"BasicTickFormatter\"},\"plot\":{\"id\":\"129e13d4-746a-46ca-bd5d-eb4609915c4e\",\"subtype\":\"Figure\",\"type\":\"Plot\"},\"ticker\":{\"id\":\"293ca423-6b23-41d6-a669-20fb0a86cce0\",\"type\":\"BasicTicker\"}},\"id\":\"dbdf1930-8d6e-4d76-a368-fa6dfa7c8c33\",\"type\":\"LinearAxis\"},{\"attributes\":{\"fill_alpha\":{\"value\":0.52},\"fill_color\":{\"value\":\"#006611\"},\"line_alpha\":{\"value\":0.0},\"line_color\":{\"value\":\"#1f77b4\"},\"size\":{\"units\":\"screen\",\"value\":40},\"x\":{\"field\":\"x\"},\"y\":{\"field\":\"y\"}},\"id\":\"31ad8086-01b6-42b9-8bf8-446c9e395e9a\",\"type\":\"Circle\"},{\"attributes\":{\"callback\":null},\"id\":\"d4fe297f-1140-40a5-99b9-5b231611854a\",\"type\":\"DataRange1d\"},{\"attributes\":{},\"id\":\"293ca423-6b23-41d6-a669-20fb0a86cce0\",\"type\":\"BasicTicker\"},{\"attributes\":{\"plot\":{\"id\":\"129e13d4-746a-46ca-bd5d-eb4609915c4e\",\"subtype\":\"Figure\",\"type\":\"Plot\"},\"ticker\":{\"id\":\"293ca423-6b23-41d6-a669-20fb0a86cce0\",\"type\":\"BasicTicker\"}},\"id\":\"59b06be0-9115-4b81-aec6-26d3833fbc65\",\"type\":\"Grid\"},{\"attributes\":{\"axis_label\":\"Average grade in other classes\",\"formatter\":{\"id\":\"d3adc01f-d842-40d8-bf24-5876a562364e\",\"type\":\"BasicTickFormatter\"},\"plot\":{\"id\":\"129e13d4-746a-46ca-bd5d-eb4609915c4e\",\"subtype\":\"Figure\",\"type\":\"Plot\"},\"ticker\":{\"id\":\"f2ef1484-baca-411a-b702-56eaf1e7aefb\",\"type\":\"BasicTicker\"}},\"id\":\"6938c220-eaa0-47ec-90b6-97c4d5280ce2\",\"type\":\"LinearAxis\"},{\"attributes\":{},\"id\":\"f2ef1484-baca-411a-b702-56eaf1e7aefb\",\"type\":\"BasicTicker\"},{\"attributes\":{\"dimension\":1,\"plot\":{\"id\":\"129e13d4-746a-46ca-bd5d-eb4609915c4e\",\"subtype\":\"Figure\",\"type\":\"Plot\"},\"ticker\":{\"id\":\"f2ef1484-baca-411a-b702-56eaf1e7aefb\",\"type\":\"BasicTicker\"}},\"id\":\"e9c7e4e0-4635-4d1e-a7cb-880ee3fedef2\",\"type\":\"Grid\"},{\"attributes\":{\"fill_alpha\":{\"value\":0.1},\"fill_color\":{\"value\":\"#1f77b4\"},\"line_alpha\":{\"value\":0.1},\"line_color\":{\"value\":\"#1f77b4\"},\"size\":{\"units\":\"screen\",\"value\":40},\"x\":{\"field\":\"x\"},\"y\":{\"field\":\"y\"}},\"id\":\"230e1253-bc17-4271-9dc6-9602597b1c47\",\"type\":\"Circle\"},{\"attributes\":{},\"id\":\"7b427660-a3f5-419f-a945-5faa45df800e\",\"type\":\"BasicTickFormatter\"},{\"attributes\":{\"callback\":null,\"column_names\":[\"x\",\"y\"],\"data\":{\"x\":[7.4,9.5,10.0,7.7,8.4,8.7,8.7,10.0,7.4,9.4,7.9,8.4,9.8,7.3,8.2],\"y\":[6.06,5.4750000000000005,9.34,\"NaN\",\"NaN\",\"NaN\",\"NaN\",9.52,5.3,7.140000000000001,6.5200000000000005,6.58,\"NaN\",4.8,\"NaN\"]}},\"id\":\"cbb55d4c-540f-401a-81cd-4168419a33b2\",\"type\":\"ColumnDataSource\"},{\"attributes\":{},\"id\":\"50a253eb-5963-48ab-a798-192847b7670d\",\"type\":\"BasicTickFormatter\"},{\"attributes\":{\"plot\":{\"id\":\"129e13d4-746a-46ca-bd5d-eb4609915c4e\",\"subtype\":\"Figure\",\"type\":\"Plot\"}},\"id\":\"b040b738-4764-4de0-a84f-b01c7bc575f8\",\"type\":\"PanTool\"},{\"attributes\":{\"plot\":{\"id\":\"129e13d4-746a-46ca-bd5d-eb4609915c4e\",\"subtype\":\"Figure\",\"type\":\"Plot\"}},\"id\":\"56d00dd6-30ee-463e-bab8-ef6299dd3bd3\",\"type\":\"SaveTool\"},{\"attributes\":{\"plot\":{\"id\":\"129e13d4-746a-46ca-bd5d-eb4609915c4e\",\"subtype\":\"Figure\",\"type\":\"Plot\"}},\"id\":\"37e28b0f-9caf-4149-954c-0a6b0d765fb6\",\"type\":\"WheelZoomTool\"},{\"attributes\":{\"overlay\":{\"id\":\"0d41c119-4c3c-426b-9393-df484a17e1b2\",\"type\":\"BoxAnnotation\"},\"plot\":{\"id\":\"129e13d4-746a-46ca-bd5d-eb4609915c4e\",\"subtype\":\"Figure\",\"type\":\"Plot\"}},\"id\":\"d19de832-f78f-4dee-99ab-b7b502dfe95e\",\"type\":\"BoxZoomTool\"},{\"attributes\":{\"fill_alpha\":{\"value\":0.1},\"fill_color\":{\"value\":\"#1f77b4\"},\"line_alpha\":{\"value\":0.1},\"line_color\":{\"value\":\"#1f77b4\"},\"size\":{\"units\":\"screen\",\"value\":40},\"x\":{\"field\":\"x\"},\"y\":{\"field\":\"y\"}},\"id\":\"0b5bac43-c776-4f2a-a525-0d9a1464d262\",\"type\":\"Circle\"},{\"attributes\":{\"bottom_units\":\"screen\",\"fill_alpha\":{\"value\":0.5},\"fill_color\":{\"value\":\"lightgrey\"},\"left_units\":\"screen\",\"level\":\"overlay\",\"line_alpha\":{\"value\":1.0},\"line_color\":{\"value\":\"black\"},\"line_dash\":[4,4],\"line_width\":{\"value\":2},\"plot\":null,\"render_mode\":\"css\",\"right_units\":\"screen\",\"top_units\":\"screen\"},\"id\":\"0d41c119-4c3c-426b-9393-df484a17e1b2\",\"type\":\"BoxAnnotation\"},{\"attributes\":{\"plot\":{\"id\":\"129e13d4-746a-46ca-bd5d-eb4609915c4e\",\"subtype\":\"Figure\",\"type\":\"Plot\"}},\"id\":\"afece307-5683-4811-be4d-fdbdda1b5941\",\"type\":\"ResetTool\"},{\"attributes\":{\"plot\":{\"id\":\"129e13d4-746a-46ca-bd5d-eb4609915c4e\",\"subtype\":\"Figure\",\"type\":\"Plot\"}},\"id\":\"3274d582-a93d-483e-aa9a-caf634d80b37\",\"type\":\"HelpTool\"},{\"attributes\":{\"fill_alpha\":{\"value\":0.52},\"fill_color\":{\"value\":\"#EE0000\"},\"line_alpha\":{\"value\":0.0},\"line_color\":{\"value\":\"#1f77b4\"},\"size\":{\"units\":\"screen\",\"value\":40},\"x\":{\"field\":\"x\"},\"y\":{\"field\":\"y\"}},\"id\":\"b2100488-6643-43e0-b531-201fee4e55f3\",\"type\":\"Circle\"},{\"attributes\":{\"callback\":null,\"column_names\":[\"x\",\"y\"],\"data\":{\"x\":[6.9,0.9,2.8,3.2,0.7],\"y\":[8.72,2.2,0.3,3.1,\"NaN\"]}},\"id\":\"17c97dda-8ff7-49df-a3d0-3868d944582d\",\"type\":\"ColumnDataSource\"},{\"attributes\":{\"fill_alpha\":{\"value\":0.1},\"fill_color\":{\"value\":\"#1f77b4\"},\"line_alpha\":{\"value\":0.1},\"line_color\":{\"value\":\"#1f77b4\"},\"size\":{\"units\":\"screen\",\"value\":40},\"x\":{\"field\":\"x\"},\"y\":{\"field\":\"y\"}},\"id\":\"7a4f1a73-634c-4ffb-ab06-3f521b1e53ad\",\"type\":\"Circle\"},{\"attributes\":{\"fill_alpha\":{\"value\":0.52},\"fill_color\":{\"value\":\"#EEEE00\"},\"line_alpha\":{\"value\":0.0},\"line_color\":{\"value\":\"#1f77b4\"},\"size\":{\"units\":\"screen\",\"value\":40},\"x\":{\"field\":\"x\"},\"y\":{\"field\":\"y\"}},\"id\":\"f6fba4a8-807b-4499-ba6f-00a4a225446b\",\"type\":\"Circle\"},{\"attributes\":{\"data_source\":{\"id\":\"17c97dda-8ff7-49df-a3d0-3868d944582d\",\"type\":\"ColumnDataSource\"},\"glyph\":{\"id\":\"f6fba4a8-807b-4499-ba6f-00a4a225446b\",\"type\":\"Circle\"},\"hover_glyph\":null,\"nonselection_glyph\":{\"id\":\"7a4f1a73-634c-4ffb-ab06-3f521b1e53ad\",\"type\":\"Circle\"},\"selection_glyph\":null},\"id\":\"8d3dae5c-4aba-40e3-811a-8940e44aa298\",\"type\":\"GlyphRenderer\"},{\"attributes\":{\"callback\":null,\"column_names\":[\"x\",\"y\"],\"data\":{\"x\":[2.6],\"y\":[2.3]}},\"id\":\"6156414d-85f2-4568-b717-3234e3f5a1d7\",\"type\":\"ColumnDataSource\"},{\"attributes\":{\"fill_alpha\":{\"value\":0.52},\"fill_color\":{\"value\":\"#006611\"},\"line_alpha\":{\"value\":0.0},\"line_color\":{\"value\":\"#1f77b4\"},\"size\":{\"units\":\"screen\",\"value\":40},\"x\":{\"field\":\"x\"},\"y\":{\"field\":\"y\"}},\"id\":\"4deb12e1-f418-4650-be67-651f4d52265d\",\"type\":\"Circle\"},{\"attributes\":{\"data_source\":{\"id\":\"6156414d-85f2-4568-b717-3234e3f5a1d7\",\"type\":\"ColumnDataSource\"},\"glyph\":{\"id\":\"b2100488-6643-43e0-b531-201fee4e55f3\",\"type\":\"Circle\"},\"hover_glyph\":null,\"nonselection_glyph\":{\"id\":\"f0a8eb15-46e1-4a21-83df-70362226cfe7\",\"type\":\"Circle\"},\"selection_glyph\":null},\"id\":\"bcd6020c-8574-40c8-aa15-0037e543e14e\",\"type\":\"GlyphRenderer\"},{\"attributes\":{\"fill_alpha\":{\"value\":0.1},\"fill_color\":{\"value\":\"#1f77b4\"},\"line_alpha\":{\"value\":0.1},\"line_color\":{\"value\":\"#1f77b4\"},\"size\":{\"units\":\"screen\",\"value\":40},\"x\":{\"field\":\"x\"},\"y\":{\"field\":\"y\"}},\"id\":\"f0a8eb15-46e1-4a21-83df-70362226cfe7\",\"type\":\"Circle\"},{\"attributes\":{\"callback\":null,\"column_names\":[\"x\",\"y\"],\"data\":{\"x\":[9.8,7.9,8.0,7.6,7.1,9.3,8.5,7.0,9.8,7.6,8.5,9.6,9.7,9.0,8.5,8.2,7.1,7.5,8.5,9.4,8.3,9.7,8.6,7.1,8.5,8.9,8.5,9.4,9.7,7.5,7.9,7.4,8.1,8.0,9.1,8.0,8.8,7.9,8.7,7.8,9.2,8.8,9.4,7.7,7.8,8.2,7.1,8.2,7.3,7.7,7.3,7.3,8.2,7.4,9.3,8.3,7.1],\"y\":[8.48,7.8,6.859999999999999,5.36,6.8,9.34,6.824999999999999,4.58,9.66,5.425000000000001,3.1399999999999997,8.94,6.720000000000001,4.16,4.88,6.04,7.5200000000000005,7.640000000000001,4.16,7.76,8.080000000000002,7.219999999999999,8.219999999999999,6.74,8.74,\"NaN\",\"NaN\",7.9,7.9,\"NaN\",5.64,7.7,7.139999999999999,3.5200000000000005,7.9,\"NaN\",7.62,\"NaN\",7.76,5.74,7.066666666666666,6.279999999999999,6.760000000000001,4.96,6.58,\"NaN\",\"NaN\",3.3,4.58,4.76,4.675,\"NaN\",5.36,3.0749999999999997,4.6,\"NaN\",5.033333333333333]}},\"id\":\"29231d63-0efe-455c-bf87-dea16473b355\",\"type\":\"ColumnDataSource\"},{\"attributes\":{\"callback\":null,\"column_names\":[\"x\",\"y\"],\"data\":{\"x\":[5.0,6.0,6.8,6.9,5.0,5.8,5.9,5.5,6.7,6.3,5.0,5.1,5.8,6.5,6.7,5.4,5.6,6.5,6.4,1.8,5.3,1.2,2.0,5.2,1.3,1.0,6.0,0.8,0.5,0.9,2.1,6.5,1.8,1.5,2.5,3.5,6.1,5.2],\"y\":[2.54,5.84,5.26,2.08,4.76,\"NaN\",7.88,\"NaN\",5.94,7.38,\"NaN\",5.875,6.88,6.859999999999999,5.140000000000001,\"NaN\",5.8,3.0599999999999996,\"NaN\",\"NaN\",5.05,1.1,1.4333333333333333,\"NaN\",0.5,3.3,\"NaN\",\"NaN\",\"NaN\",0.0,1.15,4.033333333333334,0.5,0.05,0.16666666666666666,\"NaN\",2.325,3.1333333333333333]}},\"id\":\"600e47b5-7c85-459e-b33b-3ac0c831bfc7\",\"type\":\"ColumnDataSource\"},{\"attributes\":{\"data_source\":{\"id\":\"29231d63-0efe-455c-bf87-dea16473b355\",\"type\":\"ColumnDataSource\"},\"glyph\":{\"id\":\"4deb12e1-f418-4650-be67-651f4d52265d\",\"type\":\"Circle\"},\"hover_glyph\":null,\"nonselection_glyph\":{\"id\":\"3b602b87-43bc-4cb3-a2eb-6c219e56c5ed\",\"type\":\"Circle\"},\"selection_glyph\":null},\"id\":\"58117464-57d7-49fb-81c9-21653ad72734\",\"type\":\"GlyphRenderer\"},{\"attributes\":{\"fill_alpha\":{\"value\":0.1},\"fill_color\":{\"value\":\"#1f77b4\"},\"line_alpha\":{\"value\":0.1},\"line_color\":{\"value\":\"#1f77b4\"},\"size\":{\"units\":\"screen\",\"value\":40},\"x\":{\"field\":\"x\"},\"y\":{\"field\":\"y\"}},\"id\":\"3b602b87-43bc-4cb3-a2eb-6c219e56c5ed\",\"type\":\"Circle\"},{\"attributes\":{},\"id\":\"d3adc01f-d842-40d8-bf24-5876a562364e\",\"type\":\"BasicTickFormatter\"},{\"attributes\":{},\"id\":\"68d39f72-f3f7-46bb-b379-39009301a074\",\"type\":\"BasicTickFormatter\"},{\"attributes\":{\"fill_alpha\":{\"value\":0.52},\"fill_color\":{\"value\":\"#EE0000\"},\"line_alpha\":{\"value\":0.0},\"line_color\":{\"value\":\"#1f77b4\"},\"size\":{\"units\":\"screen\",\"value\":40},\"x\":{\"field\":\"x\"},\"y\":{\"field\":\"y\"}},\"id\":\"3f766bb5-dbe2-4ba6-b443-61fbfab9c4a1\",\"type\":\"Circle\"},{\"attributes\":{\"fill_alpha\":{\"value\":0.1},\"fill_color\":{\"value\":\"#1f77b4\"},\"line_alpha\":{\"value\":0.1},\"line_color\":{\"value\":\"#1f77b4\"},\"size\":{\"units\":\"screen\",\"value\":40},\"x\":{\"field\":\"x\"},\"y\":{\"field\":\"y\"}},\"id\":\"3e60b8df-dd4a-46d4-82b5-1b3208a14789\",\"type\":\"Circle\"},{\"attributes\":{\"fill_alpha\":{\"value\":0.52},\"fill_color\":{\"value\":\"#EEEE00\"},\"line_alpha\":{\"value\":0.0},\"line_color\":{\"value\":\"#1f77b4\"},\"size\":{\"units\":\"screen\",\"value\":40},\"x\":{\"field\":\"x\"},\"y\":{\"field\":\"y\"}},\"id\":\"a89c7bb3-6ae5-45bc-94fd-73481119b01b\",\"type\":\"Circle\"},{\"attributes\":{\"data_source\":{\"id\":\"600e47b5-7c85-459e-b33b-3ac0c831bfc7\",\"type\":\"ColumnDataSource\"},\"glyph\":{\"id\":\"a89c7bb3-6ae5-45bc-94fd-73481119b01b\",\"type\":\"Circle\"},\"hover_glyph\":null,\"nonselection_glyph\":{\"id\":\"3e60b8df-dd4a-46d4-82b5-1b3208a14789\",\"type\":\"Circle\"},\"selection_glyph\":null},\"id\":\"38f9ae63-122d-4ca8-bfe7-ec14dca1c6ca\",\"type\":\"GlyphRenderer\"},{\"attributes\":{\"callback\":null,\"column_names\":[\"x\",\"y\"],\"data\":{\"x\":[1.5,5.0,5.9,7.6,3.7,6.5,4.2,6.2,7.9,1.5,7.1,0.6,3.4,3.6,5.7,5.0,3.3,5.8,1.4,6.3,3.8,7.5,5.8,5.6,5.3,5.1],\"y\":[1.8666666666666665,3.766666666666667,4.45,2.6,1.0999999999999999,4.825,3.3000000000000003,3.7000000000000006,5.475,1.2666666666666666,6.050000000000001,0.2,1.25,1.35,4.825,3.475,1.2333333333333334,1.75,1.0,4.45,2.5999999999999996,2.466666666666667,2.75,\"NaN\",1.725,2.6]}},\"id\":\"c25ae3fe-c18b-498c-ad22-ea768a9f9189\",\"type\":\"ColumnDataSource\"},{\"attributes\":{\"plot\":null,\"text\":\"2016.1 class of ITP: Green=SUCCESS, Red=FAILURE;\"},\"id\":\"46d016ec-87e6-40c5-b236-b100034b9e03\",\"type\":\"Title\"},{\"attributes\":{\"data_source\":{\"id\":\"c25ae3fe-c18b-498c-ad22-ea768a9f9189\",\"type\":\"ColumnDataSource\"},\"glyph\":{\"id\":\"3f766bb5-dbe2-4ba6-b443-61fbfab9c4a1\",\"type\":\"Circle\"},\"hover_glyph\":null,\"nonselection_glyph\":{\"id\":\"fd79ab9f-098f-4a0e-8802-ffe27e83a045\",\"type\":\"Circle\"},\"selection_glyph\":null},\"id\":\"33c8bf0f-a25a-46cb-bf35-a376eff1eb8f\",\"type\":\"GlyphRenderer\"},{\"attributes\":{\"fill_alpha\":{\"value\":0.1},\"fill_color\":{\"value\":\"#1f77b4\"},\"line_alpha\":{\"value\":0.1},\"line_color\":{\"value\":\"#1f77b4\"},\"size\":{\"units\":\"screen\",\"value\":40},\"x\":{\"field\":\"x\"},\"y\":{\"field\":\"y\"}},\"id\":\"fd79ab9f-098f-4a0e-8802-ffe27e83a045\",\"type\":\"Circle\"},{\"attributes\":{\"below\":[{\"id\":\"8239f3b5-dc92-4834-9c6a-ffd5b9795e6b\",\"type\":\"LinearAxis\"}],\"left\":[{\"id\":\"718d070f-af2a-43d0-b697-2ddc66d002d3\",\"type\":\"LinearAxis\"}],\"renderers\":[{\"id\":\"8239f3b5-dc92-4834-9c6a-ffd5b9795e6b\",\"type\":\"LinearAxis\"},{\"id\":\"c34a7c88-816f-45e3-8381-78a14e54b7d3\",\"type\":\"Grid\"},{\"id\":\"718d070f-af2a-43d0-b697-2ddc66d002d3\",\"type\":\"LinearAxis\"},{\"id\":\"034102d1-e15d-4a77-8b06-28284ee55347\",\"type\":\"Grid\"},{\"id\":\"2d778d3e-ea2c-4dcc-850d-b0a0558aeab2\",\"type\":\"BoxAnnotation\"},{\"id\":\"5e99ffb2-bdfe-44f5-a5ad-f159393ec753\",\"type\":\"GlyphRenderer\"},{\"id\":\"19caacb8-7f5f-4c5a-a062-1a6ddd095cb0\",\"type\":\"GlyphRenderer\"},{\"id\":\"3b91212a-0f26-4a79-b878-6e0c8897dc7e\",\"type\":\"GlyphRenderer\"}],\"sizing_mode\":\"scale_width\",\"title\":{\"id\":\"46d016ec-87e6-40c5-b236-b100034b9e03\",\"type\":\"Title\"},\"tool_events\":{\"id\":\"c8aad237-daa5-4220-b026-e9dc9c216cb6\",\"type\":\"ToolEvents\"},\"toolbar\":{\"id\":\"cff55515-b498-4617-9cc5-4efe91d03a80\",\"type\":\"Toolbar\"},\"toolbar_location\":null,\"x_range\":{\"id\":\"a84a7053-815c-4371-8614-8044de6301ec\",\"type\":\"DataRange1d\"},\"y_range\":{\"id\":\"8ea59d59-4d06-4664-8c7d-91a1b3851b97\",\"type\":\"DataRange1d\"}},\"id\":\"49178922-d384-41fb-b372-64a844095b7f\",\"subtype\":\"Figure\",\"type\":\"Plot\"},{\"attributes\":{},\"id\":\"0d09b919-2773-4904-b786-bf80ddbd4d47\",\"type\":\"ToolEvents\"},{\"attributes\":{},\"id\":\"c8aad237-daa5-4220-b026-e9dc9c216cb6\",\"type\":\"ToolEvents\"},{\"attributes\":{\"callback\":null},\"id\":\"a84a7053-815c-4371-8614-8044de6301ec\",\"type\":\"DataRange1d\"},{\"attributes\":{\"active_drag\":\"auto\",\"active_scroll\":\"auto\",\"active_tap\":\"auto\",\"tools\":[{\"id\":\"5261c2f7-4f30-42cd-8dfc-1b779feb26e9\",\"type\":\"PanTool\"},{\"id\":\"d6fad611-02e2-45f5-b642-a59bd6053ced\",\"type\":\"WheelZoomTool\"},{\"id\":\"f0cc35a5-767b-44b2-b5e3-f8df67e544c9\",\"type\":\"BoxZoomTool\"},{\"id\":\"f425af84-4ec0-41f7-bf10-df7a061b5f1f\",\"type\":\"SaveTool\"},{\"id\":\"91f42bec-5016-4716-add1-043bd571481f\",\"type\":\"ResetTool\"},{\"id\":\"1aaa535d-85cd-4f37-b5f8-c74d4472cb8e\",\"type\":\"HelpTool\"}]},\"id\":\"cff55515-b498-4617-9cc5-4efe91d03a80\",\"type\":\"Toolbar\"},{\"attributes\":{\"plot\":null,\"text\":\"2016.2 class of ITP: Green=SUCCESS, Red=FAILURE;\"},\"id\":\"7f8f7641-d811-43ea-8d3b-85eb29e29ec3\",\"type\":\"Title\"},{\"attributes\":{\"axis_label\":\"ITP Grade\",\"formatter\":{\"id\":\"8ff71339-4722-470f-b007-7f7b9779796d\",\"type\":\"BasicTickFormatter\"},\"plot\":{\"id\":\"49178922-d384-41fb-b372-64a844095b7f\",\"subtype\":\"Figure\",\"type\":\"Plot\"},\"ticker\":{\"id\":\"5b182b0f-c3e6-482a-9b90-d17f98b4968b\",\"type\":\"BasicTicker\"}},\"id\":\"8239f3b5-dc92-4834-9c6a-ffd5b9795e6b\",\"type\":\"LinearAxis\"},{\"attributes\":{\"callback\":null},\"id\":\"8ea59d59-4d06-4664-8c7d-91a1b3851b97\",\"type\":\"DataRange1d\"},{\"attributes\":{},\"id\":\"5b182b0f-c3e6-482a-9b90-d17f98b4968b\",\"type\":\"BasicTicker\"},{\"attributes\":{\"plot\":{\"id\":\"49178922-d384-41fb-b372-64a844095b7f\",\"subtype\":\"Figure\",\"type\":\"Plot\"},\"ticker\":{\"id\":\"5b182b0f-c3e6-482a-9b90-d17f98b4968b\",\"type\":\"BasicTicker\"}},\"id\":\"c34a7c88-816f-45e3-8381-78a14e54b7d3\",\"type\":\"Grid\"},{\"attributes\":{\"axis_label\":\"Average grade in other classes\",\"formatter\":{\"id\":\"75fa1ebc-1736-4b1e-99e7-743dc78f4bba\",\"type\":\"BasicTickFormatter\"},\"plot\":{\"id\":\"49178922-d384-41fb-b372-64a844095b7f\",\"subtype\":\"Figure\",\"type\":\"Plot\"},\"ticker\":{\"id\":\"9d9b6933-22d6-45b7-b8b7-43225e66787e\",\"type\":\"BasicTicker\"}},\"id\":\"718d070f-af2a-43d0-b697-2ddc66d002d3\",\"type\":\"LinearAxis\"},{\"attributes\":{},\"id\":\"9d9b6933-22d6-45b7-b8b7-43225e66787e\",\"type\":\"BasicTicker\"},{\"attributes\":{\"dimension\":1,\"plot\":{\"id\":\"49178922-d384-41fb-b372-64a844095b7f\",\"subtype\":\"Figure\",\"type\":\"Plot\"},\"ticker\":{\"id\":\"9d9b6933-22d6-45b7-b8b7-43225e66787e\",\"type\":\"BasicTicker\"}},\"id\":\"034102d1-e15d-4a77-8b06-28284ee55347\",\"type\":\"Grid\"},{\"attributes\":{\"callback\":null},\"id\":\"465e3c20-e726-4c93-8cf7-267f52e656ff\",\"type\":\"DataRange1d\"},{\"attributes\":{\"data_source\":{\"id\":\"916ef8db-a9b5-4097-97ae-c8bca82e0b89\",\"type\":\"ColumnDataSource\"},\"glyph\":{\"id\":\"9233d73e-6e97-4258-bfc2-a2f4fa664bac\",\"type\":\"Circle\"},\"hover_glyph\":null,\"nonselection_glyph\":{\"id\":\"36cd8bbb-da84-458b-9954-cb647dc4f579\",\"type\":\"Circle\"},\"selection_glyph\":null},\"id\":\"5e99ffb2-bdfe-44f5-a5ad-f159393ec753\",\"type\":\"GlyphRenderer\"},{\"attributes\":{\"below\":[{\"id\":\"2b0a504d-4689-4e9c-9c67-654e9d04d565\",\"type\":\"LinearAxis\"}],\"left\":[{\"id\":\"092be454-10f4-4862-93d6-029dedc554c0\",\"type\":\"LinearAxis\"}],\"renderers\":[{\"id\":\"2b0a504d-4689-4e9c-9c67-654e9d04d565\",\"type\":\"LinearAxis\"},{\"id\":\"5f8f9078-c9e8-4a9d-873d-ffe3f6a3e5c7\",\"type\":\"Grid\"},{\"id\":\"092be454-10f4-4862-93d6-029dedc554c0\",\"type\":\"LinearAxis\"},{\"id\":\"e1140034-a363-4d36-8f75-9a9fd73fe039\",\"type\":\"Grid\"},{\"id\":\"681215a9-6647-4870-ae11-5e5b6d22a1f3\",\"type\":\"BoxAnnotation\"},{\"id\":\"fb518c22-5241-4a28-83d7-42aab19129ae\",\"type\":\"GlyphRenderer\"},{\"id\":\"71eb8d86-723c-4f84-80d2-7d4a41e95041\",\"type\":\"GlyphRenderer\"},{\"id\":\"a65aa3b1-1466-4428-b645-82fe349da56f\",\"type\":\"GlyphRenderer\"}],\"sizing_mode\":\"scale_width\",\"title\":{\"id\":\"7f8f7641-d811-43ea-8d3b-85eb29e29ec3\",\"type\":\"Title\"},\"tool_events\":{\"id\":\"0d09b919-2773-4904-b786-bf80ddbd4d47\",\"type\":\"ToolEvents\"},\"toolbar\":{\"id\":\"6d375230-114e-4b58-811e-a2587a6a54b2\",\"type\":\"Toolbar\"},\"toolbar_location\":null,\"x_range\":{\"id\":\"465e3c20-e726-4c93-8cf7-267f52e656ff\",\"type\":\"DataRange1d\"},\"y_range\":{\"id\":\"7654ee3c-3873-43f9-beed-eebf5f281dc0\",\"type\":\"DataRange1d\"}},\"id\":\"9c60247e-ed2c-45b8-a4ef-c52eaf4c484f\",\"subtype\":\"Figure\",\"type\":\"Plot\"},{\"attributes\":{\"bottom_units\":\"screen\",\"fill_alpha\":{\"value\":0.5},\"fill_color\":{\"value\":\"lightgrey\"},\"left_units\":\"screen\",\"level\":\"overlay\",\"line_alpha\":{\"value\":1.0},\"line_color\":{\"value\":\"black\"},\"line_dash\":[4,4],\"line_width\":{\"value\":2},\"plot\":null,\"render_mode\":\"css\",\"right_units\":\"screen\",\"top_units\":\"screen\"},\"id\":\"2d778d3e-ea2c-4dcc-850d-b0a0558aeab2\",\"type\":\"BoxAnnotation\"},{\"attributes\":{\"plot\":{\"id\":\"49178922-d384-41fb-b372-64a844095b7f\",\"subtype\":\"Figure\",\"type\":\"Plot\"}},\"id\":\"5261c2f7-4f30-42cd-8dfc-1b779feb26e9\",\"type\":\"PanTool\"},{\"attributes\":{\"active_drag\":\"auto\",\"active_scroll\":\"auto\",\"active_tap\":\"auto\",\"tools\":[{\"id\":\"f55e80c6-3711-414b-a0ae-087a8154d0bd\",\"type\":\"PanTool\"},{\"id\":\"e7557a40-1f39-4153-b6c7-4e07b69bf8ec\",\"type\":\"WheelZoomTool\"},{\"id\":\"9dcc8267-1aed-41b5-a992-54bc4e92c608\",\"type\":\"BoxZoomTool\"},{\"id\":\"d35d500d-8ac0-4cca-966c-a543dca76a23\",\"type\":\"SaveTool\"},{\"id\":\"fed2b9b7-68e2-4116-af46-da7daac85cab\",\"type\":\"ResetTool\"},{\"id\":\"7d170d20-0bf3-4a2e-bc55-115df674e43f\",\"type\":\"HelpTool\"}]},\"id\":\"6d375230-114e-4b58-811e-a2587a6a54b2\",\"type\":\"Toolbar\"},{\"attributes\":{\"plot\":{\"id\":\"49178922-d384-41fb-b372-64a844095b7f\",\"subtype\":\"Figure\",\"type\":\"Plot\"}},\"id\":\"d6fad611-02e2-45f5-b642-a59bd6053ced\",\"type\":\"WheelZoomTool\"},{\"attributes\":{\"overlay\":{\"id\":\"2d778d3e-ea2c-4dcc-850d-b0a0558aeab2\",\"type\":\"BoxAnnotation\"},\"plot\":{\"id\":\"49178922-d384-41fb-b372-64a844095b7f\",\"subtype\":\"Figure\",\"type\":\"Plot\"}},\"id\":\"f0cc35a5-767b-44b2-b5e3-f8df67e544c9\",\"type\":\"BoxZoomTool\"},{\"attributes\":{\"plot\":{\"id\":\"49178922-d384-41fb-b372-64a844095b7f\",\"subtype\":\"Figure\",\"type\":\"Plot\"}},\"id\":\"f425af84-4ec0-41f7-bf10-df7a061b5f1f\",\"type\":\"SaveTool\"},{\"attributes\":{\"plot\":{\"id\":\"49178922-d384-41fb-b372-64a844095b7f\",\"subtype\":\"Figure\",\"type\":\"Plot\"}},\"id\":\"91f42bec-5016-4716-add1-043bd571481f\",\"type\":\"ResetTool\"},{\"attributes\":{\"plot\":{\"id\":\"49178922-d384-41fb-b372-64a844095b7f\",\"subtype\":\"Figure\",\"type\":\"Plot\"}},\"id\":\"1aaa535d-85cd-4f37-b5f8-c74d4472cb8e\",\"type\":\"HelpTool\"},{\"attributes\":{\"axis_label\":\"ITP Grade\",\"formatter\":{\"id\":\"2005cc11-9bb7-4b89-96c9-b9274152be4b\",\"type\":\"BasicTickFormatter\"},\"plot\":{\"id\":\"9c60247e-ed2c-45b8-a4ef-c52eaf4c484f\",\"subtype\":\"Figure\",\"type\":\"Plot\"},\"ticker\":{\"id\":\"3014d54c-1469-4163-a89d-4b4ee7e48db8\",\"type\":\"BasicTicker\"}},\"id\":\"2b0a504d-4689-4e9c-9c67-654e9d04d565\",\"type\":\"LinearAxis\"},{\"attributes\":{\"fill_alpha\":{\"value\":0.52},\"fill_color\":{\"value\":\"#006611\"},\"line_alpha\":{\"value\":0.0},\"line_color\":{\"value\":\"#1f77b4\"},\"size\":{\"units\":\"screen\",\"value\":40},\"x\":{\"field\":\"x\"},\"y\":{\"field\":\"y\"}},\"id\":\"9233d73e-6e97-4258-bfc2-a2f4fa664bac\",\"type\":\"Circle\"},{\"attributes\":{\"callback\":null},\"id\":\"7654ee3c-3873-43f9-beed-eebf5f281dc0\",\"type\":\"DataRange1d\"},{\"attributes\":{},\"id\":\"3014d54c-1469-4163-a89d-4b4ee7e48db8\",\"type\":\"BasicTicker\"},{\"attributes\":{\"plot\":{\"id\":\"9c60247e-ed2c-45b8-a4ef-c52eaf4c484f\",\"subtype\":\"Figure\",\"type\":\"Plot\"},\"ticker\":{\"id\":\"3014d54c-1469-4163-a89d-4b4ee7e48db8\",\"type\":\"BasicTicker\"}},\"id\":\"5f8f9078-c9e8-4a9d-873d-ffe3f6a3e5c7\",\"type\":\"Grid\"},{\"attributes\":{\"axis_label\":\"Average grade in other classes\",\"formatter\":{\"id\":\"4222c889-5e09-467f-9ed4-f63cb2995247\",\"type\":\"BasicTickFormatter\"},\"plot\":{\"id\":\"9c60247e-ed2c-45b8-a4ef-c52eaf4c484f\",\"subtype\":\"Figure\",\"type\":\"Plot\"},\"ticker\":{\"id\":\"fc628466-40da-45b8-a382-bea39c0d2a52\",\"type\":\"BasicTicker\"}},\"id\":\"092be454-10f4-4862-93d6-029dedc554c0\",\"type\":\"LinearAxis\"},{\"attributes\":{},\"id\":\"fc628466-40da-45b8-a382-bea39c0d2a52\",\"type\":\"BasicTicker\"},{\"attributes\":{\"dimension\":1,\"plot\":{\"id\":\"9c60247e-ed2c-45b8-a4ef-c52eaf4c484f\",\"subtype\":\"Figure\",\"type\":\"Plot\"},\"ticker\":{\"id\":\"fc628466-40da-45b8-a382-bea39c0d2a52\",\"type\":\"BasicTicker\"}},\"id\":\"e1140034-a363-4d36-8f75-9a9fd73fe039\",\"type\":\"Grid\"},{\"attributes\":{\"fill_alpha\":{\"value\":0.1},\"fill_color\":{\"value\":\"#1f77b4\"},\"line_alpha\":{\"value\":0.1},\"line_color\":{\"value\":\"#1f77b4\"},\"size\":{\"units\":\"screen\",\"value\":40},\"x\":{\"field\":\"x\"},\"y\":{\"field\":\"y\"}},\"id\":\"36cd8bbb-da84-458b-9954-cb647dc4f579\",\"type\":\"Circle\"},{\"attributes\":{\"callback\":null,\"column_names\":[\"x\",\"y\"],\"data\":{\"x\":[5.8,6.5,5.0,5.3,5.3,5.2,5.6,5.2,5.0,5.4,6.8,5.8,6.0,5.9,6.1,3.8,5.0,6.6,5.0,6.5,5.8,0.1,1.0,0.9,1.5,6.8,5.1,6.1,1.4,0.5,1.5,5.9,5.3,6.6],\"y\":[1.6666666666666667,4.1000000000000005,4.333333333333333,3.6999999999999997,2.3333333333333335,4.2,4.300000000000001,\"NaN\",4.266666666666667,\"NaN\",\"NaN\",3.8000000000000003,\"NaN\",3.733333333333333,6.233333333333333,4.9,4.233333333333333,6.8,2.733333333333333,2.8,1.95,0.9,\"NaN\",1.6,1.35,3.55,1.9500000000000002,2.95,1.2999999999999998,1.75,1.9,4.25,3.9,3.3]}},\"id\":\"3ff85d26-67af-4d42-af60-7f49fe0801af\",\"type\":\"ColumnDataSource\"},{\"attributes\":{\"callback\":null,\"column_names\":[\"x\",\"y\"],\"data\":{\"x\":[7.1,7.6,9.9,7.0,7.5,7.1,7.0,8.0,7.3,8.6,7.1,7.6,8.3,7.4,8.7,9.5],\"y\":[\"NaN\",3.733333333333333,8.299999999999999,6.633333333333333,\"NaN\",\"NaN\",7.633333333333334,5.8999999999999995,\"NaN\",4.3,4.9,7.166666666666667,2.8666666666666667,2.9,6.6000000000000005,2.8]}},\"id\":\"916ef8db-a9b5-4097-97ae-c8bca82e0b89\",\"type\":\"ColumnDataSource\"},{\"attributes\":{\"bottom_units\":\"screen\",\"fill_alpha\":{\"value\":0.5},\"fill_color\":{\"value\":\"lightgrey\"},\"left_units\":\"screen\",\"level\":\"overlay\",\"line_alpha\":{\"value\":1.0},\"line_color\":{\"value\":\"black\"},\"line_dash\":[4,4],\"line_width\":{\"value\":2},\"plot\":null,\"render_mode\":\"css\",\"right_units\":\"screen\",\"top_units\":\"screen\"},\"id\":\"681215a9-6647-4870-ae11-5e5b6d22a1f3\",\"type\":\"BoxAnnotation\"},{\"attributes\":{\"plot\":{\"id\":\"9c60247e-ed2c-45b8-a4ef-c52eaf4c484f\",\"subtype\":\"Figure\",\"type\":\"Plot\"}},\"id\":\"f55e80c6-3711-414b-a0ae-087a8154d0bd\",\"type\":\"PanTool\"},{\"attributes\":{},\"id\":\"75fa1ebc-1736-4b1e-99e7-743dc78f4bba\",\"type\":\"BasicTickFormatter\"},{\"attributes\":{\"plot\":{\"id\":\"9c60247e-ed2c-45b8-a4ef-c52eaf4c484f\",\"subtype\":\"Figure\",\"type\":\"Plot\"}},\"id\":\"e7557a40-1f39-4153-b6c7-4e07b69bf8ec\",\"type\":\"WheelZoomTool\"},{\"attributes\":{\"overlay\":{\"id\":\"681215a9-6647-4870-ae11-5e5b6d22a1f3\",\"type\":\"BoxAnnotation\"},\"plot\":{\"id\":\"9c60247e-ed2c-45b8-a4ef-c52eaf4c484f\",\"subtype\":\"Figure\",\"type\":\"Plot\"}},\"id\":\"9dcc8267-1aed-41b5-a992-54bc4e92c608\",\"type\":\"BoxZoomTool\"},{\"attributes\":{\"plot\":{\"id\":\"9c60247e-ed2c-45b8-a4ef-c52eaf4c484f\",\"subtype\":\"Figure\",\"type\":\"Plot\"}},\"id\":\"d35d500d-8ac0-4cca-966c-a543dca76a23\",\"type\":\"SaveTool\"},{\"attributes\":{\"plot\":{\"id\":\"9c60247e-ed2c-45b8-a4ef-c52eaf4c484f\",\"subtype\":\"Figure\",\"type\":\"Plot\"}},\"id\":\"fed2b9b7-68e2-4116-af46-da7daac85cab\",\"type\":\"ResetTool\"},{\"attributes\":{\"bottom_units\":\"screen\",\"fill_alpha\":{\"value\":0.5},\"fill_color\":{\"value\":\"lightgrey\"},\"left_units\":\"screen\",\"level\":\"overlay\",\"line_alpha\":{\"value\":1.0},\"line_color\":{\"value\":\"black\"},\"line_dash\":[4,4],\"line_width\":{\"value\":2},\"plot\":null,\"render_mode\":\"css\",\"right_units\":\"screen\",\"top_units\":\"screen\"},\"id\":\"076e4312-8334-4eb6-afb6-3b19e69768e0\",\"type\":\"BoxAnnotation\"},{\"attributes\":{\"plot\":{\"id\":\"0c548b7d-ccd4-4504-9d75-dcdf1e7f0564\",\"subtype\":\"Figure\",\"type\":\"Plot\"}},\"id\":\"620dbf13-01db-4cb4-8e17-399fdc4fb833\",\"type\":\"ResetTool\"},{\"attributes\":{\"plot\":{\"id\":\"9c60247e-ed2c-45b8-a4ef-c52eaf4c484f\",\"subtype\":\"Figure\",\"type\":\"Plot\"}},\"id\":\"7d170d20-0bf3-4a2e-bc55-115df674e43f\",\"type\":\"HelpTool\"},{\"attributes\":{\"fill_alpha\":{\"value\":0.1},\"fill_color\":{\"value\":\"#1f77b4\"},\"line_alpha\":{\"value\":0.1},\"line_color\":{\"value\":\"#1f77b4\"},\"size\":{\"units\":\"screen\",\"value\":40},\"x\":{\"field\":\"x\"},\"y\":{\"field\":\"y\"}},\"id\":\"1864c289-a8ce-41b7-bf41-d9bebfd00a12\",\"type\":\"Circle\"},{\"attributes\":{},\"id\":\"8ff71339-4722-470f-b007-7f7b9779796d\",\"type\":\"BasicTickFormatter\"},{\"attributes\":{\"fill_alpha\":{\"value\":0.52},\"fill_color\":{\"value\":\"#EEEE00\"},\"line_alpha\":{\"value\":0.0},\"line_color\":{\"value\":\"#1f77b4\"},\"size\":{\"units\":\"screen\",\"value\":40},\"x\":{\"field\":\"x\"},\"y\":{\"field\":\"y\"}},\"id\":\"4fc35fef-7cd5-4ad2-9fba-9b14d40ff0ac\",\"type\":\"Circle\"},{\"attributes\":{\"fill_alpha\":{\"value\":0.52},\"fill_color\":{\"value\":\"#EE0000\"},\"line_alpha\":{\"value\":0.0},\"line_color\":{\"value\":\"#1f77b4\"},\"size\":{\"units\":\"screen\",\"value\":40},\"x\":{\"field\":\"x\"},\"y\":{\"field\":\"y\"}},\"id\":\"7d5ec397-a7e1-4e9f-a8fb-c021a61c9092\",\"type\":\"Circle\"},{\"attributes\":{\"data_source\":{\"id\":\"3ff85d26-67af-4d42-af60-7f49fe0801af\",\"type\":\"ColumnDataSource\"},\"glyph\":{\"id\":\"4fc35fef-7cd5-4ad2-9fba-9b14d40ff0ac\",\"type\":\"Circle\"},\"hover_glyph\":null,\"nonselection_glyph\":{\"id\":\"1864c289-a8ce-41b7-bf41-d9bebfd00a12\",\"type\":\"Circle\"},\"selection_glyph\":null},\"id\":\"19caacb8-7f5f-4c5a-a062-1a6ddd095cb0\",\"type\":\"GlyphRenderer\"},{\"attributes\":{\"callback\":null,\"column_names\":[\"x\",\"y\"],\"data\":{\"x\":[2.2,6.6,5.2,4.0,7.8,6.3,6.4,5.8,0.5,0.3,8.4,7.6,2.9,5.7,4.0,0.7,1.1],\"y\":[3.15,5.449999999999999,3.3,3.1,4.75,5.75,3.95,3.05,1.7999999999999998,1.15,6.800000000000001,5.5,1.25,5.55,1.1,1.85,1.35]}},\"id\":\"fa3cf374-3d92-4856-937b-d283f28a6ca2\",\"type\":\"ColumnDataSource\"},{\"attributes\":{\"fill_alpha\":{\"value\":0.52},\"fill_color\":{\"value\":\"#006611\"},\"line_alpha\":{\"value\":0.0},\"line_color\":{\"value\":\"#1f77b4\"},\"size\":{\"units\":\"screen\",\"value\":40},\"x\":{\"field\":\"x\"},\"y\":{\"field\":\"y\"}},\"id\":\"49d93996-9be2-4788-9df8-6493a80a30f7\",\"type\":\"Circle\"},{\"attributes\":{\"data_source\":{\"id\":\"fa3cf374-3d92-4856-937b-d283f28a6ca2\",\"type\":\"ColumnDataSource\"},\"glyph\":{\"id\":\"7d5ec397-a7e1-4e9f-a8fb-c021a61c9092\",\"type\":\"Circle\"},\"hover_glyph\":null,\"nonselection_glyph\":{\"id\":\"5722005a-de2f-4752-b361-edb8c4cb3ea1\",\"type\":\"Circle\"},\"selection_glyph\":null},\"id\":\"3b91212a-0f26-4a79-b878-6e0c8897dc7e\",\"type\":\"GlyphRenderer\"},{\"attributes\":{\"fill_alpha\":{\"value\":0.1},\"fill_color\":{\"value\":\"#1f77b4\"},\"line_alpha\":{\"value\":0.1},\"line_color\":{\"value\":\"#1f77b4\"},\"size\":{\"units\":\"screen\",\"value\":40},\"x\":{\"field\":\"x\"},\"y\":{\"field\":\"y\"}},\"id\":\"5722005a-de2f-4752-b361-edb8c4cb3ea1\",\"type\":\"Circle\"},{\"attributes\":{\"callback\":null,\"column_names\":[\"x\",\"y\"],\"data\":{\"x\":[7.5,9.0,8.3,8.0,9.5,9.8,9.2,8.2,8.8,7.3,9.5,10.0,8.0,7.1,7.1,8.5,8.1,9.4,7.3,7.5,8.6,9.7,9.0,9.2,10.0,9.2,7.4,8.4,8.6,9.4,7.8,8.8,9.3,7.5,8.1,9.1,8.0,8.8,7.8,7.7,8.6,7.8,8.4,9.4,8.8,9.0,9.3,9.3,9.0,7.0,7.9,7.7],\"y\":[5.6,6.8,6.7,9.2,9.8,5.8,8.6,7.0,8.9,6.4,9.0,9.6,6.3,8.8,4.7,8.0,8.5,9.5,4.3,6.2,6.0,8.2,9.1,9.3,10.0,3.4,9.8,8.7,9.3,5.7,6.7,8.2,8.0,9.4,6.7,8.4,8.2,4.7,8.2,8.6,10.0,5.2,6.6,9.8,8.1,7.7,9.7,9.4,5.1,6.7,7.5,4.7]}},\"id\":\"98564c3f-c4ab-4a9c-a94e-a0cbfd63ebef\",\"type\":\"ColumnDataSource\"},{\"attributes\":{\"callback\":null,\"column_names\":[\"x\",\"y\"],\"data\":{\"x\":[6.5,5.4,5.2,6.8,6.1,6.4,6.9,6.6,6.7,5.5,6.8,6.6,5.7,6.5,5.8,2.3,4.1,5.4,1.7,1.5,1.9,0.3,1.4,4.4,5.7,5.2],\"y\":[\"NaN\",8.7,7.9,9.2,5.4,9.7,7.7,7.3,8.2,5.8,2.1,5.0,3.4,8.5,9.0,1.7,1.4,2.7,1.8,1.5,0.5,1.5,2.3,2.1,1.2,1.3]}},\"id\":\"abf5d227-6459-4d00-9e26-2bdf0219285b\",\"type\":\"ColumnDataSource\"},{\"attributes\":{\"data_source\":{\"id\":\"98564c3f-c4ab-4a9c-a94e-a0cbfd63ebef\",\"type\":\"ColumnDataSource\"},\"glyph\":{\"id\":\"49d93996-9be2-4788-9df8-6493a80a30f7\",\"type\":\"Circle\"},\"hover_glyph\":null,\"nonselection_glyph\":{\"id\":\"2c83fc06-1c74-4e8a-b2fa-8dcb39007afe\",\"type\":\"Circle\"},\"selection_glyph\":null},\"id\":\"fb518c22-5241-4a28-83d7-42aab19129ae\",\"type\":\"GlyphRenderer\"},{\"attributes\":{\"fill_alpha\":{\"value\":0.1},\"fill_color\":{\"value\":\"#1f77b4\"},\"line_alpha\":{\"value\":0.1},\"line_color\":{\"value\":\"#1f77b4\"},\"size\":{\"units\":\"screen\",\"value\":40},\"x\":{\"field\":\"x\"},\"y\":{\"field\":\"y\"}},\"id\":\"2c83fc06-1c74-4e8a-b2fa-8dcb39007afe\",\"type\":\"Circle\"},{\"attributes\":{},\"id\":\"4222c889-5e09-467f-9ed4-f63cb2995247\",\"type\":\"BasicTickFormatter\"},{\"attributes\":{},\"id\":\"2005cc11-9bb7-4b89-96c9-b9274152be4b\",\"type\":\"BasicTickFormatter\"},{\"attributes\":{\"fill_alpha\":{\"value\":0.52},\"fill_color\":{\"value\":\"#EE0000\"},\"line_alpha\":{\"value\":0.0},\"line_color\":{\"value\":\"#1f77b4\"},\"size\":{\"units\":\"screen\",\"value\":40},\"x\":{\"field\":\"x\"},\"y\":{\"field\":\"y\"}},\"id\":\"d7b4cac1-4f5f-4c2b-8c75-3e29b04dd425\",\"type\":\"Circle\"},{\"attributes\":{\"fill_alpha\":{\"value\":0.1},\"fill_color\":{\"value\":\"#1f77b4\"},\"line_alpha\":{\"value\":0.1},\"line_color\":{\"value\":\"#1f77b4\"},\"size\":{\"units\":\"screen\",\"value\":40},\"x\":{\"field\":\"x\"},\"y\":{\"field\":\"y\"}},\"id\":\"61a9462b-f400-406c-b43d-61f8605a5deb\",\"type\":\"Circle\"},{\"attributes\":{\"fill_alpha\":{\"value\":0.52},\"fill_color\":{\"value\":\"#EEEE00\"},\"line_alpha\":{\"value\":0.0},\"line_color\":{\"value\":\"#1f77b4\"},\"size\":{\"units\":\"screen\",\"value\":40},\"x\":{\"field\":\"x\"},\"y\":{\"field\":\"y\"}},\"id\":\"81b5551a-120c-43d2-8ca8-12ca772bda28\",\"type\":\"Circle\"},{\"attributes\":{\"data_source\":{\"id\":\"abf5d227-6459-4d00-9e26-2bdf0219285b\",\"type\":\"ColumnDataSource\"},\"glyph\":{\"id\":\"81b5551a-120c-43d2-8ca8-12ca772bda28\",\"type\":\"Circle\"},\"hover_glyph\":null,\"nonselection_glyph\":{\"id\":\"61a9462b-f400-406c-b43d-61f8605a5deb\",\"type\":\"Circle\"},\"selection_glyph\":null},\"id\":\"71eb8d86-723c-4f84-80d2-7d4a41e95041\",\"type\":\"GlyphRenderer\"},{\"attributes\":{\"callback\":null,\"column_names\":[\"x\",\"y\"],\"data\":{\"x\":[2.0,1.7,3.5,1.8,2.5,2.7,0.5],\"y\":[2.5,0.0,0.4,0.0,2.7,2.4,0.3]}},\"id\":\"b8f4da18-a646-497f-9f19-b75608bfa8ad\",\"type\":\"ColumnDataSource\"},{\"attributes\":{\"children\":[{\"id\":\"a9db443b-4de3-425f-bc7b-b68225ce5720\",\"subtype\":\"Figure\",\"type\":\"Plot\"},{\"id\":\"0c548b7d-ccd4-4504-9d75-dcdf1e7f0564\",\"subtype\":\"Figure\",\"type\":\"Plot\"}],\"sizing_mode\":\"scale_width\"},\"id\":\"73ce4b79-4e69-49c3-b77e-087b9a806fb4\",\"type\":\"Row\"},{\"attributes\":{\"data_source\":{\"id\":\"b8f4da18-a646-497f-9f19-b75608bfa8ad\",\"type\":\"ColumnDataSource\"},\"glyph\":{\"id\":\"d7b4cac1-4f5f-4c2b-8c75-3e29b04dd425\",\"type\":\"Circle\"},\"hover_glyph\":null,\"nonselection_glyph\":{\"id\":\"f23a637c-09d6-46f7-b033-5f0331e09c6a\",\"type\":\"Circle\"},\"selection_glyph\":null},\"id\":\"a65aa3b1-1466-4428-b645-82fe349da56f\",\"type\":\"GlyphRenderer\"},{\"attributes\":{\"fill_alpha\":{\"value\":0.1},\"fill_color\":{\"value\":\"#1f77b4\"},\"line_alpha\":{\"value\":0.1},\"line_color\":{\"value\":\"#1f77b4\"},\"size\":{\"units\":\"screen\",\"value\":40},\"x\":{\"field\":\"x\"},\"y\":{\"field\":\"y\"}},\"id\":\"f23a637c-09d6-46f7-b033-5f0331e09c6a\",\"type\":\"Circle\"},{\"attributes\":{\"children\":[{\"id\":\"37f8aa94-bd95-45f7-9bb6-59d68c433d77\",\"subtype\":\"Figure\",\"type\":\"Plot\"},{\"id\":\"129e13d4-746a-46ca-bd5d-eb4609915c4e\",\"subtype\":\"Figure\",\"type\":\"Plot\"}],\"sizing_mode\":\"scale_width\"},\"id\":\"2eaf357c-5bc4-4d5c-bf99-0dc87ebdb9e1\",\"type\":\"Row\"},{\"attributes\":{\"sizing_mode\":\"scale_width\",\"toolbar_location\":\"above\",\"tools\":[{\"id\":\"dc72af13-8112-4277-b775-a9fda563c712\",\"type\":\"PanTool\"},{\"id\":\"f1ddbaca-dc70-44f7-b0ad-cfb87237791c\",\"type\":\"WheelZoomTool\"},{\"id\":\"6dd8e983-c757-4ba7-93b0-01b83d0ae002\",\"type\":\"BoxZoomTool\"},{\"id\":\"05d16f4e-8d12-4787-94a7-113cd2f37c9d\",\"type\":\"SaveTool\"},{\"id\":\"b475c35a-d093-4fa7-94f6-f75bc28ab7d7\",\"type\":\"ResetTool\"},{\"id\":\"84a87a96-e12d-4b58-82cd-2bfe19861fa2\",\"type\":\"HelpTool\"},{\"id\":\"8e0bd1f4-716a-40df-9a89-736e1a9e7af7\",\"type\":\"PanTool\"},{\"id\":\"f51d5fd3-6420-474d-bdc8-692ef5644aa1\",\"type\":\"WheelZoomTool\"},{\"id\":\"c49f9b50-9d76-44b6-b4da-b2b88f24a830\",\"type\":\"BoxZoomTool\"},{\"id\":\"55c3c2a0-a9ef-406c-a003-457893d25ebb\",\"type\":\"SaveTool\"},{\"id\":\"620dbf13-01db-4cb4-8e17-399fdc4fb833\",\"type\":\"ResetTool\"},{\"id\":\"98fef3fb-ebc5-498a-bb78-f5030ee7a9ec\",\"type\":\"HelpTool\"},{\"id\":\"04e5e435-0aa7-412a-a41f-c72df99f935c\",\"type\":\"PanTool\"},{\"id\":\"fafbc4cd-f277-4a51-b3a2-48d26bfa112f\",\"type\":\"WheelZoomTool\"},{\"id\":\"2ff78b64-afda-4e8d-b052-d7a96e1e62e5\",\"type\":\"BoxZoomTool\"},{\"id\":\"473736f4-423b-40a3-9aa2-26a776316845\",\"type\":\"SaveTool\"},{\"id\":\"50bc892b-171c-447d-afec-f7a982a0a5ab\",\"type\":\"ResetTool\"},{\"id\":\"c76e0a44-3cc7-4455-8ca2-323ed90e7d55\",\"type\":\"HelpTool\"},{\"id\":\"b040b738-4764-4de0-a84f-b01c7bc575f8\",\"type\":\"PanTool\"},{\"id\":\"37e28b0f-9caf-4149-954c-0a6b0d765fb6\",\"type\":\"WheelZoomTool\"},{\"id\":\"d19de832-f78f-4dee-99ab-b7b502dfe95e\",\"type\":\"BoxZoomTool\"},{\"id\":\"56d00dd6-30ee-463e-bab8-ef6299dd3bd3\",\"type\":\"SaveTool\"},{\"id\":\"afece307-5683-4811-be4d-fdbdda1b5941\",\"type\":\"ResetTool\"},{\"id\":\"3274d582-a93d-483e-aa9a-caf634d80b37\",\"type\":\"HelpTool\"},{\"id\":\"5261c2f7-4f30-42cd-8dfc-1b779feb26e9\",\"type\":\"PanTool\"},{\"id\":\"d6fad611-02e2-45f5-b642-a59bd6053ced\",\"type\":\"WheelZoomTool\"},{\"id\":\"f0cc35a5-767b-44b2-b5e3-f8df67e544c9\",\"type\":\"BoxZoomTool\"},{\"id\":\"f425af84-4ec0-41f7-bf10-df7a061b5f1f\",\"type\":\"SaveTool\"},{\"id\":\"91f42bec-5016-4716-add1-043bd571481f\",\"type\":\"ResetTool\"},{\"id\":\"1aaa535d-85cd-4f37-b5f8-c74d4472cb8e\",\"type\":\"HelpTool\"},{\"id\":\"f55e80c6-3711-414b-a0ae-087a8154d0bd\",\"type\":\"PanTool\"},{\"id\":\"e7557a40-1f39-4153-b6c7-4e07b69bf8ec\",\"type\":\"WheelZoomTool\"},{\"id\":\"9dcc8267-1aed-41b5-a992-54bc4e92c608\",\"type\":\"BoxZoomTool\"},{\"id\":\"d35d500d-8ac0-4cca-966c-a543dca76a23\",\"type\":\"SaveTool\"},{\"id\":\"fed2b9b7-68e2-4116-af46-da7daac85cab\",\"type\":\"ResetTool\"},{\"id\":\"7d170d20-0bf3-4a2e-bc55-115df674e43f\",\"type\":\"HelpTool\"}]},\"id\":\"0188b4c2-f951-4118-adca-846c8a9154ef\",\"type\":\"ToolbarBox\"},{\"attributes\":{\"children\":[{\"id\":\"49178922-d384-41fb-b372-64a844095b7f\",\"subtype\":\"Figure\",\"type\":\"Plot\"},{\"id\":\"9c60247e-ed2c-45b8-a4ef-c52eaf4c484f\",\"subtype\":\"Figure\",\"type\":\"Plot\"}],\"sizing_mode\":\"scale_width\"},\"id\":\"df4a52fe-73b6-4b81-bf86-d8c0db7d2b4f\",\"type\":\"Row\"},{\"attributes\":{\"children\":[{\"id\":\"0188b4c2-f951-4118-adca-846c8a9154ef\",\"type\":\"ToolbarBox\"},{\"id\":\"75c423a1-0295-4007-9ff7-f020de2ab397\",\"type\":\"Column\"}],\"sizing_mode\":\"scale_width\"},\"id\":\"5c66aab2-56a1-427a-9c3f-6b1180e34765\",\"type\":\"Column\"},{\"attributes\":{\"plot\":{\"id\":\"a9db443b-4de3-425f-bc7b-b68225ce5720\",\"subtype\":\"Figure\",\"type\":\"Plot\"}},\"id\":\"84a87a96-e12d-4b58-82cd-2bfe19861fa2\",\"type\":\"HelpTool\"},{\"attributes\":{\"callback\":null},\"id\":\"92c732db-396d-48ea-887c-58e602a3aa43\",\"type\":\"DataRange1d\"},{\"attributes\":{\"plot\":{\"id\":\"0c548b7d-ccd4-4504-9d75-dcdf1e7f0564\",\"subtype\":\"Figure\",\"type\":\"Plot\"},\"ticker\":{\"id\":\"2293978b-d117-4d01-97a6-faf8ca76c869\",\"type\":\"BasicTicker\"}},\"id\":\"d2f4a5cd-443d-4405-986a-288ceb9bf183\",\"type\":\"Grid\"},{\"attributes\":{\"fill_alpha\":{\"value\":0.52},\"fill_color\":{\"value\":\"#006611\"},\"line_alpha\":{\"value\":0.0},\"line_color\":{\"value\":\"#1f77b4\"},\"size\":{\"units\":\"screen\",\"value\":40},\"x\":{\"field\":\"x\"},\"y\":{\"field\":\"y\"}},\"id\":\"894f4601-5988-43a2-8d19-4b0ac2c68ac3\",\"type\":\"Circle\"},{\"attributes\":{\"overlay\":{\"id\":\"8780b1aa-fb6e-4f6e-97b6-b87d704c3e39\",\"type\":\"BoxAnnotation\"},\"plot\":{\"id\":\"a9db443b-4de3-425f-bc7b-b68225ce5720\",\"subtype\":\"Figure\",\"type\":\"Plot\"}},\"id\":\"6dd8e983-c757-4ba7-93b0-01b83d0ae002\",\"type\":\"BoxZoomTool\"},{\"attributes\":{},\"id\":\"2293978b-d117-4d01-97a6-faf8ca76c869\",\"type\":\"BasicTicker\"},{\"attributes\":{\"plot\":{\"id\":\"a9db443b-4de3-425f-bc7b-b68225ce5720\",\"subtype\":\"Figure\",\"type\":\"Plot\"}},\"id\":\"05d16f4e-8d12-4787-94a7-113cd2f37c9d\",\"type\":\"SaveTool\"},{\"attributes\":{\"below\":[{\"id\":\"eba4d17b-7a40-4cd3-a25d-1c51c9980894\",\"type\":\"LinearAxis\"}],\"left\":[{\"id\":\"f22a34c4-3117-4327-af14-6b63068b04e1\",\"type\":\"LinearAxis\"}],\"renderers\":[{\"id\":\"eba4d17b-7a40-4cd3-a25d-1c51c9980894\",\"type\":\"LinearAxis\"},{\"id\":\"bb182fde-dd01-4947-a0b5-577648421591\",\"type\":\"Grid\"},{\"id\":\"f22a34c4-3117-4327-af14-6b63068b04e1\",\"type\":\"LinearAxis\"},{\"id\":\"ebed766f-09c0-49f7-a5ac-75617abffb65\",\"type\":\"Grid\"},{\"id\":\"8780b1aa-fb6e-4f6e-97b6-b87d704c3e39\",\"type\":\"BoxAnnotation\"},{\"id\":\"38566159-9700-4ed4-aff2-df2b375c166a\",\"type\":\"GlyphRenderer\"},{\"id\":\"3a20370d-4c69-4df8-ab58-01028a5dfec1\",\"type\":\"GlyphRenderer\"},{\"id\":\"1b6020b2-a792-4b49-a99c-b96c3fc29138\",\"type\":\"GlyphRenderer\"}],\"sizing_mode\":\"scale_width\",\"title\":{\"id\":\"073dbb56-c808-4e8b-95d2-e4d0b58a85a5\",\"type\":\"Title\"},\"tool_events\":{\"id\":\"dff9c1e4-81d6-43e4-b7f7-3b8b0d8e9422\",\"type\":\"ToolEvents\"},\"toolbar\":{\"id\":\"d5777535-bb5d-4bcd-b387-790733a89b67\",\"type\":\"Toolbar\"},\"toolbar_location\":null,\"x_range\":{\"id\":\"3ee4acdb-e6d7-4dd4-93fc-8142fed5478c\",\"type\":\"DataRange1d\"},\"y_range\":{\"id\":\"931aa949-fea7-4689-95d7-92b841f29fa3\",\"type\":\"DataRange1d\"}},\"id\":\"a9db443b-4de3-425f-bc7b-b68225ce5720\",\"subtype\":\"Figure\",\"type\":\"Plot\"},{\"attributes\":{\"children\":[{\"id\":\"73ce4b79-4e69-49c3-b77e-087b9a806fb4\",\"type\":\"Row\"},{\"id\":\"2eaf357c-5bc4-4d5c-bf99-0dc87ebdb9e1\",\"type\":\"Row\"},{\"id\":\"df4a52fe-73b6-4b81-bf86-d8c0db7d2b4f\",\"type\":\"Row\"}],\"sizing_mode\":\"scale_width\"},\"id\":\"75c423a1-0295-4007-9ff7-f020de2ab397\",\"type\":\"Column\"},{\"attributes\":{},\"id\":\"6aea0895-d60d-446c-aa71-cb9e26aabb31\",\"type\":\"ToolEvents\"},{\"attributes\":{\"axis_label\":\"ITP Grade\",\"formatter\":{\"id\":\"1443ff2a-cf57-4674-b9c8-b91bb626fcf9\",\"type\":\"BasicTickFormatter\"},\"plot\":{\"id\":\"a9db443b-4de3-425f-bc7b-b68225ce5720\",\"subtype\":\"Figure\",\"type\":\"Plot\"},\"ticker\":{\"id\":\"65ab1c90-533d-423b-99df-bc5a6759c6d8\",\"type\":\"BasicTicker\"}},\"id\":\"eba4d17b-7a40-4cd3-a25d-1c51c9980894\",\"type\":\"LinearAxis\"},{\"attributes\":{\"callback\":null},\"id\":\"3ee4acdb-e6d7-4dd4-93fc-8142fed5478c\",\"type\":\"DataRange1d\"},{\"attributes\":{\"callback\":null},\"id\":\"931aa949-fea7-4689-95d7-92b841f29fa3\",\"type\":\"DataRange1d\"},{\"attributes\":{},\"id\":\"26a0b1e8-2e1d-431f-b826-87fc6ec5a4e9\",\"type\":\"BasicTicker\"},{\"attributes\":{\"plot\":null,\"text\":\"2014.2 class of ITP: Green=SUCCESS, Red=FAILURE;\"},\"id\":\"70d68334-0a7c-4835-ae1b-a79996872a9d\",\"type\":\"Title\"},{\"attributes\":{\"active_drag\":\"auto\",\"active_scroll\":\"auto\",\"active_tap\":\"auto\",\"tools\":[{\"id\":\"dc72af13-8112-4277-b775-a9fda563c712\",\"type\":\"PanTool\"},{\"id\":\"f1ddbaca-dc70-44f7-b0ad-cfb87237791c\",\"type\":\"WheelZoomTool\"},{\"id\":\"6dd8e983-c757-4ba7-93b0-01b83d0ae002\",\"type\":\"BoxZoomTool\"},{\"id\":\"05d16f4e-8d12-4787-94a7-113cd2f37c9d\",\"type\":\"SaveTool\"},{\"id\":\"b475c35a-d093-4fa7-94f6-f75bc28ab7d7\",\"type\":\"ResetTool\"},{\"id\":\"84a87a96-e12d-4b58-82cd-2bfe19861fa2\",\"type\":\"HelpTool\"}]},\"id\":\"d5777535-bb5d-4bcd-b387-790733a89b67\",\"type\":\"Toolbar\"},{\"attributes\":{},\"id\":\"dff9c1e4-81d6-43e4-b7f7-3b8b0d8e9422\",\"type\":\"ToolEvents\"},{\"attributes\":{\"plot\":null,\"text\":\"2014.1 class of ITP: Green=SUCCESS, Red=FAILURE;\"},\"id\":\"073dbb56-c808-4e8b-95d2-e4d0b58a85a5\",\"type\":\"Title\"},{\"attributes\":{\"plot\":{\"id\":\"a9db443b-4de3-425f-bc7b-b68225ce5720\",\"subtype\":\"Figure\",\"type\":\"Plot\"}},\"id\":\"b475c35a-d093-4fa7-94f6-f75bc28ab7d7\",\"type\":\"ResetTool\"},{\"attributes\":{\"callback\":null,\"column_names\":[\"x\",\"y\"],\"data\":{\"x\":[7.0,7.3,9.3,7.3,7.5,7.3,7.1,8.6],\"y\":[7.879999999999998,4.1000000000000005,7.62,8.280000000000001,7.5,6.6499999999999995,4.275,\"NaN\"]}},\"id\":\"ab5f09d6-637f-470a-87e7-b8e488e7867c\",\"type\":\"ColumnDataSource\"},{\"attributes\":{\"plot\":{\"id\":\"0c548b7d-ccd4-4504-9d75-dcdf1e7f0564\",\"subtype\":\"Figure\",\"type\":\"Plot\"}},\"id\":\"98fef3fb-ebc5-498a-bb78-f5030ee7a9ec\",\"type\":\"HelpTool\"},{\"attributes\":{\"axis_label\":\"Average grade in other classes\",\"formatter\":{\"id\":\"22ee181a-a8ae-4320-b6fe-31ada9276357\",\"type\":\"BasicTickFormatter\"},\"plot\":{\"id\":\"a9db443b-4de3-425f-bc7b-b68225ce5720\",\"subtype\":\"Figure\",\"type\":\"Plot\"},\"ticker\":{\"id\":\"26a0b1e8-2e1d-431f-b826-87fc6ec5a4e9\",\"type\":\"BasicTicker\"}},\"id\":\"f22a34c4-3117-4327-af14-6b63068b04e1\",\"type\":\"LinearAxis\"},{\"attributes\":{\"plot\":{\"id\":\"a9db443b-4de3-425f-bc7b-b68225ce5720\",\"subtype\":\"Figure\",\"type\":\"Plot\"},\"ticker\":{\"id\":\"65ab1c90-533d-423b-99df-bc5a6759c6d8\",\"type\":\"BasicTicker\"}},\"id\":\"bb182fde-dd01-4947-a0b5-577648421591\",\"type\":\"Grid\"},{\"attributes\":{},\"id\":\"65ab1c90-533d-423b-99df-bc5a6759c6d8\",\"type\":\"BasicTicker\"},{\"attributes\":{\"callback\":null},\"id\":\"e6b064ec-7380-4b94-b3bd-5f78b0a94bdc\",\"type\":\"DataRange1d\"},{\"attributes\":{\"dimension\":1,\"plot\":{\"id\":\"a9db443b-4de3-425f-bc7b-b68225ce5720\",\"subtype\":\"Figure\",\"type\":\"Plot\"},\"ticker\":{\"id\":\"26a0b1e8-2e1d-431f-b826-87fc6ec5a4e9\",\"type\":\"BasicTicker\"}},\"id\":\"ebed766f-09c0-49f7-a5ac-75617abffb65\",\"type\":\"Grid\"},{\"attributes\":{\"plot\":{\"id\":\"a9db443b-4de3-425f-bc7b-b68225ce5720\",\"subtype\":\"Figure\",\"type\":\"Plot\"}},\"id\":\"f1ddbaca-dc70-44f7-b0ad-cfb87237791c\",\"type\":\"WheelZoomTool\"},{\"attributes\":{\"axis_label\":\"ITP Grade\",\"formatter\":{\"id\":\"7d5f9fa7-5f87-482c-abb8-ab8eb8ebdec2\",\"type\":\"BasicTickFormatter\"},\"plot\":{\"id\":\"0c548b7d-ccd4-4504-9d75-dcdf1e7f0564\",\"subtype\":\"Figure\",\"type\":\"Plot\"},\"ticker\":{\"id\":\"2293978b-d117-4d01-97a6-faf8ca76c869\",\"type\":\"BasicTicker\"}},\"id\":\"51ecb027-bb15-40c2-bed8-5926d8218a88\",\"type\":\"LinearAxis\"},{\"attributes\":{\"bottom_units\":\"screen\",\"fill_alpha\":{\"value\":0.5},\"fill_color\":{\"value\":\"lightgrey\"},\"left_units\":\"screen\",\"level\":\"overlay\",\"line_alpha\":{\"value\":1.0},\"line_color\":{\"value\":\"black\"},\"line_dash\":[4,4],\"line_width\":{\"value\":2},\"plot\":null,\"render_mode\":\"css\",\"right_units\":\"screen\",\"top_units\":\"screen\"},\"id\":\"8780b1aa-fb6e-4f6e-97b6-b87d704c3e39\",\"type\":\"BoxAnnotation\"},{\"attributes\":{\"plot\":{\"id\":\"0c548b7d-ccd4-4504-9d75-dcdf1e7f0564\",\"subtype\":\"Figure\",\"type\":\"Plot\"}},\"id\":\"55c3c2a0-a9ef-406c-a003-457893d25ebb\",\"type\":\"SaveTool\"},{\"attributes\":{\"active_drag\":\"auto\",\"active_scroll\":\"auto\",\"active_tap\":\"auto\",\"tools\":[{\"id\":\"8e0bd1f4-716a-40df-9a89-736e1a9e7af7\",\"type\":\"PanTool\"},{\"id\":\"f51d5fd3-6420-474d-bdc8-692ef5644aa1\",\"type\":\"WheelZoomTool\"},{\"id\":\"c49f9b50-9d76-44b6-b4da-b2b88f24a830\",\"type\":\"BoxZoomTool\"},{\"id\":\"55c3c2a0-a9ef-406c-a003-457893d25ebb\",\"type\":\"SaveTool\"},{\"id\":\"620dbf13-01db-4cb4-8e17-399fdc4fb833\",\"type\":\"ResetTool\"},{\"id\":\"98fef3fb-ebc5-498a-bb78-f5030ee7a9ec\",\"type\":\"HelpTool\"}]},\"id\":\"bb6b62db-4e96-4a17-8232-0a0d1104bfed\",\"type\":\"Toolbar\"},{\"attributes\":{\"plot\":{\"id\":\"a9db443b-4de3-425f-bc7b-b68225ce5720\",\"subtype\":\"Figure\",\"type\":\"Plot\"}},\"id\":\"dc72af13-8112-4277-b775-a9fda563c712\",\"type\":\"PanTool\"},{\"attributes\":{\"below\":[{\"id\":\"51ecb027-bb15-40c2-bed8-5926d8218a88\",\"type\":\"LinearAxis\"}],\"left\":[{\"id\":\"15921b03-6bd5-46d8-b358-87419efa9ac8\",\"type\":\"LinearAxis\"}],\"renderers\":[{\"id\":\"51ecb027-bb15-40c2-bed8-5926d8218a88\",\"type\":\"LinearAxis\"},{\"id\":\"d2f4a5cd-443d-4405-986a-288ceb9bf183\",\"type\":\"Grid\"},{\"id\":\"15921b03-6bd5-46d8-b358-87419efa9ac8\",\"type\":\"LinearAxis\"},{\"id\":\"17fc9cfa-a541-4fab-b255-a29111be6c90\",\"type\":\"Grid\"},{\"id\":\"076e4312-8334-4eb6-afb6-3b19e69768e0\",\"type\":\"BoxAnnotation\"},{\"id\":\"8b2cc4f8-ae12-4445-9556-74177ff16682\",\"type\":\"GlyphRenderer\"},{\"id\":\"64c8281e-6b48-44bd-a977-9fec6f180e01\",\"type\":\"GlyphRenderer\"},{\"id\":\"47ed6127-2c32-42e5-8fb7-ca842cb66bf2\",\"type\":\"GlyphRenderer\"}],\"sizing_mode\":\"scale_width\",\"title\":{\"id\":\"70d68334-0a7c-4835-ae1b-a79996872a9d\",\"type\":\"Title\"},\"tool_events\":{\"id\":\"6aea0895-d60d-446c-aa71-cb9e26aabb31\",\"type\":\"ToolEvents\"},\"toolbar\":{\"id\":\"bb6b62db-4e96-4a17-8232-0a0d1104bfed\",\"type\":\"Toolbar\"},\"toolbar_location\":null,\"x_range\":{\"id\":\"e6b064ec-7380-4b94-b3bd-5f78b0a94bdc\",\"type\":\"DataRange1d\"},\"y_range\":{\"id\":\"92c732db-396d-48ea-887c-58e602a3aa43\",\"type\":\"DataRange1d\"}},\"id\":\"0c548b7d-ccd4-4504-9d75-dcdf1e7f0564\",\"subtype\":\"Figure\",\"type\":\"Plot\"}],\"root_ids\":[\"5c66aab2-56a1-427a-9c3f-6b1180e34765\"]},\"title\":\"Bokeh Application\",\"version\":\"0.12.4\"}};\n",
       "            var render_items = [{\"docid\":\"777a407a-3c9a-4e90-b2c0-8e13d04e3ae5\",\"elementid\":\"da00d8f8-9e2a-496d-baf7-7085157e7139\",\"modelid\":\"5c66aab2-56a1-427a-9c3f-6b1180e34765\"}];\n",
       "            \n",
       "            Bokeh.embed.embed_items(docs_json, render_items);\n",
       "          };\n",
       "          if (document.readyState != \"loading\") fn();\n",
       "          else document.addEventListener(\"DOMContentLoaded\", fn);\n",
       "        })();\n",
       "      },\n",
       "      function(Bokeh) {\n",
       "      }\n",
       "    ];\n",
       "  \n",
       "    function run_inline_js() {\n",
       "      \n",
       "      if ((window.Bokeh !== undefined) || (force === true)) {\n",
       "        for (var i = 0; i < inline_js.length; i++) {\n",
       "          inline_js[i](window.Bokeh);\n",
       "        }if (force === true) {\n",
       "          display_loaded();\n",
       "        }} else if (Date.now() < window._bokeh_timeout) {\n",
       "        setTimeout(run_inline_js, 100);\n",
       "      } else if (!window._bokeh_failed_load) {\n",
       "        console.log(\"Bokeh: BokehJS failed to load within specified timeout.\");\n",
       "        window._bokeh_failed_load = true;\n",
       "      } else if (force !== true) {\n",
       "        var cell = $(document.getElementById(\"da00d8f8-9e2a-496d-baf7-7085157e7139\")).parents('.cell').data().cell;\n",
       "        cell.output_area.append_execute_result(NB_LOAD_WARNING)\n",
       "      }\n",
       "  \n",
       "    }\n",
       "  \n",
       "    if (window._bokeh_is_loading === 0) {\n",
       "      console.log(\"Bokeh: BokehJS loaded, going straight to plotting\");\n",
       "      run_inline_js();\n",
       "    } else {\n",
       "      load_libs(js_urls, function() {\n",
       "        console.log(\"Bokeh: BokehJS plotting callback run at\", now());\n",
       "        run_inline_js();\n",
       "      });\n",
       "    }\n",
       "  }(this));\n",
       "</script>"
      ]
     },
     "metadata": {},
     "output_type": "display_data"
    }
   ],
   "source": [
    "rows = []\n",
    "circleAlpha = 0.52\n",
    "circleSize = 40\n",
    "greenColor = '#006611'\n",
    "redColor = '#EE0000'\n",
    "yellowColor = '#EEEE00'\n",
    "for i in range(0, l, 2):    \n",
    "    f1 = figure(title = str(semesters[i]) + ' class of ITP: Green=SUCCESS, Red=FAILURE, Yellow=', \n",
    "                x_axis_label='ITP Grade', y_axis_label='Average grade in other classes')\n",
    "    f2 = figure(title = str(semesters[i+1]) + ' class of ITP: Green=SUCCESS, Red=FAILURE;', \n",
    "                x_axis_label='ITP Grade', y_axis_label='Average grade in other classes')\n",
    "    \n",
    "    f1.circle(points_green[i][0], points_green[i][1], fill_color = greenColor, line_alpha=0.0,\n",
    "              size=circleSize, fill_alpha=circleAlpha)\n",
    "    f1.circle(points_yellow[i][0], points_yellow[i][1], fill_color = yellowColor, line_alpha=0.0,\n",
    "              size=circleSize, fill_alpha=circleAlpha)\n",
    "    f1.circle(points_red[i][0], points_red[i][1], fill_color = redColor, line_alpha=0.0,\n",
    "              size=circleSize, fill_alpha=circleAlpha)\n",
    "    f2.circle(points_green[i+1][0], points_green[i+1][1], fill_color = greenColor, line_alpha=0.0,\n",
    "              size=circleSize, fill_alpha=circleAlpha)\n",
    "    f2.circle(points_yellow[i+1][0], points_yellow[i+1][1], fill_color = yellowColor, line_alpha=0.0,\n",
    "              size=circleSize, fill_alpha=circleAlpha)\n",
    "    f2.circle(points_red[i+1][0], points_red[i+1][1], fill_color = redColor, line_alpha=0.0,\n",
    "              size=circleSize, fill_alpha=circleAlpha)\n",
    "    rows.append([f1,f2])\n",
    "\n",
    "layout = gridplot(rows,sizing_mode='scale_width')\n",
    "output_notebook()\n",
    "show(layout)"
   ]
  },
  {
   "cell_type": "code",
   "execution_count": null,
   "metadata": {
    "collapsed": true
   },
   "outputs": [],
   "source": []
  }
 ],
 "metadata": {
  "kernelspec": {
   "display_name": "Python 3",
   "language": "python",
   "name": "python3"
  },
  "language_info": {
   "codemirror_mode": {
    "name": "ipython",
    "version": 3
   },
   "file_extension": ".py",
   "mimetype": "text/x-python",
   "name": "python",
   "nbconvert_exporter": "python",
   "pygments_lexer": "ipython3",
   "version": "3.6.0"
  }
 },
 "nbformat": 4,
 "nbformat_minor": 2
}
