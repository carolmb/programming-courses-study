{
 "cells": [
  {
   "cell_type": "markdown",
   "metadata": {},
   "source": [
    "# Performance study on BTI's programming classes"
   ]
  },
  {
   "cell_type": "code",
   "execution_count": 1,
   "metadata": {
    "collapsed": true
   },
   "outputs": [],
   "source": [
    "# Importing necessary modules\n",
    "# Import the ColumnDataSource class from bokeh.plotting\n",
    "# Import figure from bokeh.plotting\n",
    "from bokeh.plotting import figure\n",
    "# Import output_notebook and show from bokeh.io\n",
    "from bokeh.io import output_notebook, show\n",
    "# Import gridplot from bokeh.layouts\n",
    "from bokeh.layouts import gridplot\n",
    "from sqlalchemy import create_engine\n",
    "import pandas as pd"
   ]
  },
  {
   "cell_type": "markdown",
   "metadata": {
    "collapsed": false
   },
   "source": [
    "## Create engine to get the original dataframe from SQLite database"
   ]
  },
  {
   "cell_type": "code",
   "execution_count": 2,
   "metadata": {
    "collapsed": false
   },
   "outputs": [
    {
     "name": "stdout",
     "output_type": "stream",
     "text": [
      "Number of students on the database:\n",
      "766\n"
     ]
    },
    {
     "data": {
      "text/html": [
       "<div>\n",
       "<table border=\"1\" class=\"dataframe\">\n",
       "  <thead>\n",
       "    <tr style=\"text-align: right;\">\n",
       "      <th></th>\n",
       "      <th>Aluno_ID</th>\n",
       "      <th>Período</th>\n",
       "      <th>Disciplina</th>\n",
       "      <th>Situaçăo</th>\n",
       "      <th>Média Final</th>\n",
       "      <th>Unidade I</th>\n",
       "      <th>Unidade II</th>\n",
       "      <th>Unidade III</th>\n",
       "    </tr>\n",
       "  </thead>\n",
       "  <tbody>\n",
       "    <tr>\n",
       "      <th>0</th>\n",
       "      <td>0</td>\n",
       "      <td>2014.1</td>\n",
       "      <td>IMD0012.0 - INTRODUÇĂO ŔS TÉCNICAS DE PROGRAMAÇĂO</td>\n",
       "      <td>APROVADO</td>\n",
       "      <td>7.0</td>\n",
       "      <td>4.9</td>\n",
       "      <td>9.0</td>\n",
       "      <td>7.0</td>\n",
       "    </tr>\n",
       "    <tr>\n",
       "      <th>1</th>\n",
       "      <td>1</td>\n",
       "      <td>2014.1</td>\n",
       "      <td>IMD0012.0 - INTRODUÇĂO ŔS TÉCNICAS DE PROGRAMAÇĂO</td>\n",
       "      <td>APROVADO</td>\n",
       "      <td>7.3</td>\n",
       "      <td>8.0</td>\n",
       "      <td>7.0</td>\n",
       "      <td>7.0</td>\n",
       "    </tr>\n",
       "    <tr>\n",
       "      <th>2</th>\n",
       "      <td>2</td>\n",
       "      <td>2014.1</td>\n",
       "      <td>IMD0012.0 - INTRODUÇĂO ŔS TÉCNICAS DE PROGRAMAÇĂO</td>\n",
       "      <td>APROVADO</td>\n",
       "      <td>9.3</td>\n",
       "      <td>9.5</td>\n",
       "      <td>8.3</td>\n",
       "      <td>10.0</td>\n",
       "    </tr>\n",
       "    <tr>\n",
       "      <th>3</th>\n",
       "      <td>3</td>\n",
       "      <td>2014.1</td>\n",
       "      <td>IMD0012.0 - INTRODUÇĂO ŔS TÉCNICAS DE PROGRAMAÇĂO</td>\n",
       "      <td>APROVADO</td>\n",
       "      <td>7.3</td>\n",
       "      <td>6.5</td>\n",
       "      <td>7.0</td>\n",
       "      <td>8.3</td>\n",
       "    </tr>\n",
       "    <tr>\n",
       "      <th>4</th>\n",
       "      <td>4</td>\n",
       "      <td>2014.1</td>\n",
       "      <td>IMD0012.0 - INTRODUÇĂO ŔS TÉCNICAS DE PROGRAMAÇĂO</td>\n",
       "      <td>APROVADO</td>\n",
       "      <td>7.5</td>\n",
       "      <td>5.5</td>\n",
       "      <td>8.0</td>\n",
       "      <td>9.0</td>\n",
       "    </tr>\n",
       "  </tbody>\n",
       "</table>\n",
       "</div>"
      ],
      "text/plain": [
       "   Aluno_ID  Período                                         Disciplina  \\\n",
       "0         0   2014.1  IMD0012.0 - INTRODUÇĂO ŔS TÉCNICAS DE PROGRAMAÇĂO   \n",
       "1         1   2014.1  IMD0012.0 - INTRODUÇĂO ŔS TÉCNICAS DE PROGRAMAÇĂO   \n",
       "2         2   2014.1  IMD0012.0 - INTRODUÇĂO ŔS TÉCNICAS DE PROGRAMAÇĂO   \n",
       "3         3   2014.1  IMD0012.0 - INTRODUÇĂO ŔS TÉCNICAS DE PROGRAMAÇĂO   \n",
       "4         4   2014.1  IMD0012.0 - INTRODUÇĂO ŔS TÉCNICAS DE PROGRAMAÇĂO   \n",
       "\n",
       "   Situaçăo  Média Final  Unidade I  Unidade II   Unidade III  \n",
       "0  APROVADO          7.0        4.9          9.0          7.0  \n",
       "1  APROVADO          7.3        8.0          7.0          7.0  \n",
       "2  APROVADO          9.3        9.5          8.3         10.0  \n",
       "3  APROVADO          7.3        6.5          7.0          8.3  \n",
       "4  APROVADO          7.5        5.5          8.0          9.0  "
      ]
     },
     "execution_count": 2,
     "metadata": {},
     "output_type": "execute_result"
    }
   ],
   "source": [
    "#Create database engine\n",
    "engine = create_engine('sqlite:///programming.sqlite')\n",
    "\n",
    "# Execute query and store records in DataFrame: df\n",
    "df = pd.read_sql_query(\"select * from Grade\",engine)\n",
    "\n",
    "# drop the unnecessary column\n",
    "df = df.drop('index', 1)\n",
    "\n",
    "print(\"Number of students on the database:\")\n",
    "print(len(df['Aluno_ID'].unique()))\n",
    "\n",
    "# Print head of DataFrame\n",
    "df.head()\n"
   ]
  },
  {
   "cell_type": "markdown",
   "metadata": {
    "collapsed": true
   },
   "source": [
    "## Get semesters"
   ]
  },
  {
   "cell_type": "code",
   "execution_count": 3,
   "metadata": {
    "collapsed": false,
    "scrolled": true
   },
   "outputs": [
    {
     "name": "stdout",
     "output_type": "stream",
     "text": [
      "Semesters:\n"
     ]
    },
    {
     "data": {
      "text/plain": [
       "[2014.1, 2014.2, 2015.1, 2015.2, 2016.1, 2016.2]"
      ]
     },
     "execution_count": 3,
     "metadata": {},
     "output_type": "execute_result"
    }
   ],
   "source": [
    "semesters = pd.read_sql_query(\"SELECT DISTINCT Período FROM Grade\", engine)\n",
    "semesters = semesters[semesters.columns[0]].tolist()\n",
    "first_semester = min(semesters)\n",
    "print(\"Semesters:\")\n",
    "semesters"
   ]
  },
  {
   "cell_type": "markdown",
   "metadata": {
    "collapsed": false
   },
   "source": [
    "## Create dataframes for the grades of each student"
   ]
  },
  {
   "cell_type": "code",
   "execution_count": 4,
   "metadata": {
    "collapsed": false
   },
   "outputs": [],
   "source": [
    "maxID = pd.read_sql_query(\"SELECT MAX(Aluno_ID) as max FROM Grade\", engine) \n",
    "maxID = maxID['max'][0]\n",
    "students = dict()\n",
    "for i in range(0, maxID):\n",
    "    student = pd.read_sql_query(\n",
    "        \"SELECT Período, Disciplina, \\\"Situaçăo\\\", \\\"Média Final\\\" FROM Grade WHERE Aluno_ID = \" + str(i), \n",
    "        engine)\n",
    "    #print(student)\n",
    "    students[i] = student"
   ]
  },
  {
   "cell_type": "markdown",
   "metadata": {},
   "source": [
    "## Create dictionary with the students of IMD0012.0 of each semester"
   ]
  },
  {
   "cell_type": "code",
   "execution_count": 5,
   "metadata": {
    "collapsed": false
   },
   "outputs": [],
   "source": [
    "studentsBySemester = dict()\n",
    "for s in semesters:\n",
    "    studentsBySemester[s] = []\n",
    "for key, value in students.items():\n",
    "    first = value[value['Disciplina'] == 'IMD0012.0 - INTRODUÇĂO ŔS TÉCNICAS DE PROGRAMAÇĂO']['Período']\n",
    "    first = first.tolist()\n",
    "    if len(first) > 0:\n",
    "        first = first[0]\n",
    "        studentsBySemester[first].append(value)"
   ]
  },
  {
   "cell_type": "markdown",
   "metadata": {},
   "source": [
    "## Define function to get the a student's grade on IMD0012.0 and his average grades on the other classes"
   ]
  },
  {
   "cell_type": "code",
   "execution_count": 6,
   "metadata": {
    "collapsed": false
   },
   "outputs": [],
   "source": [
    "def studentGrades(grades):\n",
    "    itp = grades.loc[\n",
    "        (grades['Situaçăo'] == \"REPROVADO\") &\n",
    "        (grades['Disciplina'] == 'IMD0012.0 - INTRODUÇĂO ŔS TÉCNICAS DE PROGRAMAÇĂO')]\n",
    "    color = 'green'\n",
    "    if len(itp) > 0:\n",
    "        color = 'red'\n",
    "    s = 0\n",
    "    count = 0\n",
    "    itp = 0\n",
    "    for index, row in grades.iterrows(): \n",
    "        if not \"IMD0012.0\" in row['Disciplina']:\n",
    "            g = row['Média Final']\n",
    "            if g == None:\n",
    "                g = 0\n",
    "            s += g\n",
    "            count += 1\n",
    "        elif \"IMD0012.0\" in row['Disciplina']:\n",
    "            itp = row['Média Final']\n",
    "    if count > 0:\n",
    "        average = s/count\n",
    "    else:\n",
    "        average = 0\n",
    "    if itp == None:\n",
    "        itp = 0\n",
    "    return itp, average, color"
   ]
  },
  {
   "cell_type": "markdown",
   "metadata": {},
   "source": [
    "## Separate the students with red (failed) and green (succeded) circles"
   ]
  },
  {
   "cell_type": "code",
   "execution_count": 7,
   "metadata": {
    "collapsed": false
   },
   "outputs": [],
   "source": [
    "l = len(studentsBySemester)\n",
    "points_red = [None] * l\n",
    "points_green = [None] * l\n",
    "i = 0\n",
    "for key, value in studentsBySemester.items():\n",
    "    points_red[i] = [[],[]]\n",
    "    points_green[i] = [[],[]]\n",
    "    for grades in value:\n",
    "        itp, ave, color = studentGrades(grades)\n",
    "        if itp > 0:\n",
    "            if color is 'green':\n",
    "                points_green[i][0].append(itp)\n",
    "                points_green[i][1].append(ave)\n",
    "            else:\n",
    "                points_red[i][0].append(itp)\n",
    "                points_red[i][1].append(ave)\n",
    "    i += 1"
   ]
  },
  {
   "cell_type": "markdown",
   "metadata": {},
   "source": [
    "# Scatter plots relating the grades in ITP (IMD0012.0) with the average grades, on each semester"
   ]
  },
  {
   "cell_type": "code",
   "execution_count": 23,
   "metadata": {
    "collapsed": false,
    "scrolled": false
   },
   "outputs": [
    {
     "data": {
      "text/html": [
       "\n",
       "    <div class=\"bk-root\">\n",
       "        <a href=\"http://bokeh.pydata.org\" target=\"_blank\" class=\"bk-logo bk-logo-small bk-logo-notebook\"></a>\n",
       "        <span id=\"74a2947f-5e3d-4a30-99e8-252f54116462\">Loading BokehJS ...</span>\n",
       "    </div>"
      ]
     },
     "metadata": {},
     "output_type": "display_data"
    },
    {
     "data": {
      "application/javascript": [
       "\n",
       "(function(global) {\n",
       "  function now() {\n",
       "    return new Date();\n",
       "  }\n",
       "\n",
       "  var force = true;\n",
       "\n",
       "  if (typeof (window._bokeh_onload_callbacks) === \"undefined\" || force === true) {\n",
       "    window._bokeh_onload_callbacks = [];\n",
       "    window._bokeh_is_loading = undefined;\n",
       "  }\n",
       "\n",
       "\n",
       "  \n",
       "  if (typeof (window._bokeh_timeout) === \"undefined\" || force === true) {\n",
       "    window._bokeh_timeout = Date.now() + 5000;\n",
       "    window._bokeh_failed_load = false;\n",
       "  }\n",
       "\n",
       "  var NB_LOAD_WARNING = {'data': {'text/html':\n",
       "     \"<div style='background-color: #fdd'>\\n\"+\n",
       "     \"<p>\\n\"+\n",
       "     \"BokehJS does not appear to have successfully loaded. If loading BokehJS from CDN, this \\n\"+\n",
       "     \"may be due to a slow or bad network connection. Possible fixes:\\n\"+\n",
       "     \"</p>\\n\"+\n",
       "     \"<ul>\\n\"+\n",
       "     \"<li>re-rerun `output_notebook()` to attempt to load from CDN again, or</li>\\n\"+\n",
       "     \"<li>use INLINE resources instead, as so:</li>\\n\"+\n",
       "     \"</ul>\\n\"+\n",
       "     \"<code>\\n\"+\n",
       "     \"from bokeh.resources import INLINE\\n\"+\n",
       "     \"output_notebook(resources=INLINE)\\n\"+\n",
       "     \"</code>\\n\"+\n",
       "     \"</div>\"}};\n",
       "\n",
       "  function display_loaded() {\n",
       "    if (window.Bokeh !== undefined) {\n",
       "      document.getElementById(\"74a2947f-5e3d-4a30-99e8-252f54116462\").textContent = \"BokehJS successfully loaded.\";\n",
       "    } else if (Date.now() < window._bokeh_timeout) {\n",
       "      setTimeout(display_loaded, 100)\n",
       "    }\n",
       "  }\n",
       "\n",
       "  function run_callbacks() {\n",
       "    window._bokeh_onload_callbacks.forEach(function(callback) { callback() });\n",
       "    delete window._bokeh_onload_callbacks\n",
       "    console.info(\"Bokeh: all callbacks have finished\");\n",
       "  }\n",
       "\n",
       "  function load_libs(js_urls, callback) {\n",
       "    window._bokeh_onload_callbacks.push(callback);\n",
       "    if (window._bokeh_is_loading > 0) {\n",
       "      console.log(\"Bokeh: BokehJS is being loaded, scheduling callback at\", now());\n",
       "      return null;\n",
       "    }\n",
       "    if (js_urls == null || js_urls.length === 0) {\n",
       "      run_callbacks();\n",
       "      return null;\n",
       "    }\n",
       "    console.log(\"Bokeh: BokehJS not loaded, scheduling load and callback at\", now());\n",
       "    window._bokeh_is_loading = js_urls.length;\n",
       "    for (var i = 0; i < js_urls.length; i++) {\n",
       "      var url = js_urls[i];\n",
       "      var s = document.createElement('script');\n",
       "      s.src = url;\n",
       "      s.async = false;\n",
       "      s.onreadystatechange = s.onload = function() {\n",
       "        window._bokeh_is_loading--;\n",
       "        if (window._bokeh_is_loading === 0) {\n",
       "          console.log(\"Bokeh: all BokehJS libraries loaded\");\n",
       "          run_callbacks()\n",
       "        }\n",
       "      };\n",
       "      s.onerror = function() {\n",
       "        console.warn(\"failed to load library \" + url);\n",
       "      };\n",
       "      console.log(\"Bokeh: injecting script tag for BokehJS library: \", url);\n",
       "      document.getElementsByTagName(\"head\")[0].appendChild(s);\n",
       "    }\n",
       "  };var element = document.getElementById(\"74a2947f-5e3d-4a30-99e8-252f54116462\");\n",
       "  if (element == null) {\n",
       "    console.log(\"Bokeh: ERROR: autoload.js configured with elementid '74a2947f-5e3d-4a30-99e8-252f54116462' but no matching script tag was found. \")\n",
       "    return false;\n",
       "  }\n",
       "\n",
       "  var js_urls = [\"https://cdn.pydata.org/bokeh/release/bokeh-0.12.4.min.js\", \"https://cdn.pydata.org/bokeh/release/bokeh-widgets-0.12.4.min.js\"];\n",
       "\n",
       "  var inline_js = [\n",
       "    function(Bokeh) {\n",
       "      Bokeh.set_log_level(\"info\");\n",
       "    },\n",
       "    \n",
       "    function(Bokeh) {\n",
       "      \n",
       "      document.getElementById(\"74a2947f-5e3d-4a30-99e8-252f54116462\").textContent = \"BokehJS is loading...\";\n",
       "    },\n",
       "    function(Bokeh) {\n",
       "      console.log(\"Bokeh: injecting CSS: https://cdn.pydata.org/bokeh/release/bokeh-0.12.4.min.css\");\n",
       "      Bokeh.embed.inject_css(\"https://cdn.pydata.org/bokeh/release/bokeh-0.12.4.min.css\");\n",
       "      console.log(\"Bokeh: injecting CSS: https://cdn.pydata.org/bokeh/release/bokeh-widgets-0.12.4.min.css\");\n",
       "      Bokeh.embed.inject_css(\"https://cdn.pydata.org/bokeh/release/bokeh-widgets-0.12.4.min.css\");\n",
       "    }\n",
       "  ];\n",
       "\n",
       "  function run_inline_js() {\n",
       "    \n",
       "    if ((window.Bokeh !== undefined) || (force === true)) {\n",
       "      for (var i = 0; i < inline_js.length; i++) {\n",
       "        inline_js[i](window.Bokeh);\n",
       "      }if (force === true) {\n",
       "        display_loaded();\n",
       "      }} else if (Date.now() < window._bokeh_timeout) {\n",
       "      setTimeout(run_inline_js, 100);\n",
       "    } else if (!window._bokeh_failed_load) {\n",
       "      console.log(\"Bokeh: BokehJS failed to load within specified timeout.\");\n",
       "      window._bokeh_failed_load = true;\n",
       "    } else if (force !== true) {\n",
       "      var cell = $(document.getElementById(\"74a2947f-5e3d-4a30-99e8-252f54116462\")).parents('.cell').data().cell;\n",
       "      cell.output_area.append_execute_result(NB_LOAD_WARNING)\n",
       "    }\n",
       "\n",
       "  }\n",
       "\n",
       "  if (window._bokeh_is_loading === 0) {\n",
       "    console.log(\"Bokeh: BokehJS loaded, going straight to plotting\");\n",
       "    run_inline_js();\n",
       "  } else {\n",
       "    load_libs(js_urls, function() {\n",
       "      console.log(\"Bokeh: BokehJS plotting callback run at\", now());\n",
       "      run_inline_js();\n",
       "    });\n",
       "  }\n",
       "}(this));"
      ]
     },
     "metadata": {},
     "output_type": "display_data"
    },
    {
     "data": {
      "text/html": [
       "\n",
       "\n",
       "    <div class=\"bk-root\">\n",
       "        <div class=\"bk-plotdiv\" id=\"65b6496a-e160-4a2f-af02-4789c2577d63\"></div>\n",
       "    </div>\n",
       "<script type=\"text/javascript\">\n",
       "  \n",
       "  (function(global) {\n",
       "    function now() {\n",
       "      return new Date();\n",
       "    }\n",
       "  \n",
       "    var force = false;\n",
       "  \n",
       "    if (typeof (window._bokeh_onload_callbacks) === \"undefined\" || force === true) {\n",
       "      window._bokeh_onload_callbacks = [];\n",
       "      window._bokeh_is_loading = undefined;\n",
       "    }\n",
       "  \n",
       "  \n",
       "    \n",
       "    if (typeof (window._bokeh_timeout) === \"undefined\" || force === true) {\n",
       "      window._bokeh_timeout = Date.now() + 0;\n",
       "      window._bokeh_failed_load = false;\n",
       "    }\n",
       "  \n",
       "    var NB_LOAD_WARNING = {'data': {'text/html':\n",
       "       \"<div style='background-color: #fdd'>\\n\"+\n",
       "       \"<p>\\n\"+\n",
       "       \"BokehJS does not appear to have successfully loaded. If loading BokehJS from CDN, this \\n\"+\n",
       "       \"may be due to a slow or bad network connection. Possible fixes:\\n\"+\n",
       "       \"</p>\\n\"+\n",
       "       \"<ul>\\n\"+\n",
       "       \"<li>re-rerun `output_notebook()` to attempt to load from CDN again, or</li>\\n\"+\n",
       "       \"<li>use INLINE resources instead, as so:</li>\\n\"+\n",
       "       \"</ul>\\n\"+\n",
       "       \"<code>\\n\"+\n",
       "       \"from bokeh.resources import INLINE\\n\"+\n",
       "       \"output_notebook(resources=INLINE)\\n\"+\n",
       "       \"</code>\\n\"+\n",
       "       \"</div>\"}};\n",
       "  \n",
       "    function display_loaded() {\n",
       "      if (window.Bokeh !== undefined) {\n",
       "        document.getElementById(\"65b6496a-e160-4a2f-af02-4789c2577d63\").textContent = \"BokehJS successfully loaded.\";\n",
       "      } else if (Date.now() < window._bokeh_timeout) {\n",
       "        setTimeout(display_loaded, 100)\n",
       "      }\n",
       "    }\n",
       "  \n",
       "    function run_callbacks() {\n",
       "      window._bokeh_onload_callbacks.forEach(function(callback) { callback() });\n",
       "      delete window._bokeh_onload_callbacks\n",
       "      console.info(\"Bokeh: all callbacks have finished\");\n",
       "    }\n",
       "  \n",
       "    function load_libs(js_urls, callback) {\n",
       "      window._bokeh_onload_callbacks.push(callback);\n",
       "      if (window._bokeh_is_loading > 0) {\n",
       "        console.log(\"Bokeh: BokehJS is being loaded, scheduling callback at\", now());\n",
       "        return null;\n",
       "      }\n",
       "      if (js_urls == null || js_urls.length === 0) {\n",
       "        run_callbacks();\n",
       "        return null;\n",
       "      }\n",
       "      console.log(\"Bokeh: BokehJS not loaded, scheduling load and callback at\", now());\n",
       "      window._bokeh_is_loading = js_urls.length;\n",
       "      for (var i = 0; i < js_urls.length; i++) {\n",
       "        var url = js_urls[i];\n",
       "        var s = document.createElement('script');\n",
       "        s.src = url;\n",
       "        s.async = false;\n",
       "        s.onreadystatechange = s.onload = function() {\n",
       "          window._bokeh_is_loading--;\n",
       "          if (window._bokeh_is_loading === 0) {\n",
       "            console.log(\"Bokeh: all BokehJS libraries loaded\");\n",
       "            run_callbacks()\n",
       "          }\n",
       "        };\n",
       "        s.onerror = function() {\n",
       "          console.warn(\"failed to load library \" + url);\n",
       "        };\n",
       "        console.log(\"Bokeh: injecting script tag for BokehJS library: \", url);\n",
       "        document.getElementsByTagName(\"head\")[0].appendChild(s);\n",
       "      }\n",
       "    };var element = document.getElementById(\"65b6496a-e160-4a2f-af02-4789c2577d63\");\n",
       "    if (element == null) {\n",
       "      console.log(\"Bokeh: ERROR: autoload.js configured with elementid '65b6496a-e160-4a2f-af02-4789c2577d63' but no matching script tag was found. \")\n",
       "      return false;\n",
       "    }\n",
       "  \n",
       "    var js_urls = [];\n",
       "  \n",
       "    var inline_js = [\n",
       "      function(Bokeh) {\n",
       "        (function() {\n",
       "          var fn = function() {\n",
       "            var docs_json = {\"3007db42-c51c-4043-92e3-2287e55c563f\":{\"roots\":{\"references\":[{\"attributes\":{\"below\":[{\"id\":\"7f7a8b46-858b-4716-85e9-4db6bd6f16c5\",\"type\":\"LinearAxis\"}],\"left\":[{\"id\":\"eb31a61d-d89b-413d-b733-1d9b5941eec0\",\"type\":\"LinearAxis\"}],\"renderers\":[{\"id\":\"7f7a8b46-858b-4716-85e9-4db6bd6f16c5\",\"type\":\"LinearAxis\"},{\"id\":\"16336ce9-a3b7-484e-abeb-2bf72c140dbe\",\"type\":\"Grid\"},{\"id\":\"eb31a61d-d89b-413d-b733-1d9b5941eec0\",\"type\":\"LinearAxis\"},{\"id\":\"75f5ce35-1e1e-406d-a0e1-64ea2f747d77\",\"type\":\"Grid\"},{\"id\":\"7d109ba8-b78e-4249-b0a2-1fc5ec7ab4df\",\"type\":\"BoxAnnotation\"},{\"id\":\"d6937a49-8e53-4851-82a8-65b259474dc6\",\"type\":\"GlyphRenderer\"},{\"id\":\"5e690663-b3ac-416d-83e8-cfb790f5f97d\",\"type\":\"GlyphRenderer\"}],\"sizing_mode\":\"scale_width\",\"title\":{\"id\":\"f75e0ea2-8cb1-42c4-835e-19508c6625b3\",\"type\":\"Title\"},\"tool_events\":{\"id\":\"4f9638a4-06ce-4c45-92f5-5b31e2835b9e\",\"type\":\"ToolEvents\"},\"toolbar\":{\"id\":\"36efcb03-bd48-42cd-b39e-bf18c66433bc\",\"type\":\"Toolbar\"},\"toolbar_location\":null,\"x_range\":{\"id\":\"77032f3c-e043-4da1-9a64-22888eef3e59\",\"type\":\"DataRange1d\"},\"y_range\":{\"id\":\"3c065743-c0e3-419a-8561-2bf88af2b5b3\",\"type\":\"DataRange1d\"}},\"id\":\"bd4b82d2-5e5b-463a-956e-943cbd131643\",\"subtype\":\"Figure\",\"type\":\"Plot\"},{\"attributes\":{\"children\":[{\"id\":\"2caced4a-b8e9-4c22-b2cf-8760a41a3c3d\",\"type\":\"Row\"},{\"id\":\"35be0c72-8383-42af-99bd-0eb20c78a933\",\"type\":\"Row\"},{\"id\":\"95a05432-5b65-45cc-9bda-8db658d349fa\",\"type\":\"Row\"}],\"sizing_mode\":\"scale_width\"},\"id\":\"2faba488-a2d4-487e-b1ef-a2ccc24eccbb\",\"type\":\"Column\"},{\"attributes\":{},\"id\":\"8f752ebe-2d32-45e2-a7cd-b8bb4ee5d4fc\",\"type\":\"ToolEvents\"},{\"attributes\":{\"plot\":null,\"text\":\"2014.1 class of ITP: Green=SUCCESS, Red=FAILURE;\"},\"id\":\"f75e0ea2-8cb1-42c4-835e-19508c6625b3\",\"type\":\"Title\"},{\"attributes\":{\"callback\":null},\"id\":\"77032f3c-e043-4da1-9a64-22888eef3e59\",\"type\":\"DataRange1d\"},{\"attributes\":{},\"id\":\"4f9638a4-06ce-4c45-92f5-5b31e2835b9e\",\"type\":\"ToolEvents\"},{\"attributes\":{\"active_drag\":\"auto\",\"active_scroll\":\"auto\",\"active_tap\":\"auto\",\"tools\":[{\"id\":\"6993cc23-0f4b-4341-a727-a6ae1c82faeb\",\"type\":\"PanTool\"},{\"id\":\"df7dc94f-b200-4a1a-861a-5e1c33a55191\",\"type\":\"WheelZoomTool\"},{\"id\":\"1a5b478b-877d-4f40-9187-fef2544e9cde\",\"type\":\"BoxZoomTool\"},{\"id\":\"202324db-4c12-4167-ac3d-185748744031\",\"type\":\"SaveTool\"},{\"id\":\"efa62106-aae6-41bd-aff1-944272fd4cb9\",\"type\":\"ResetTool\"},{\"id\":\"b60f893c-47ad-47cd-a2f4-e63e280daa77\",\"type\":\"HelpTool\"}]},\"id\":\"36efcb03-bd48-42cd-b39e-bf18c66433bc\",\"type\":\"Toolbar\"},{\"attributes\":{\"plot\":null,\"text\":\"2014.2 class of ITP: Green=SUCCESS, Red=FAILURE;\"},\"id\":\"68681f2d-e603-45cf-a41c-bc649e292bb5\",\"type\":\"Title\"},{\"attributes\":{\"axis_label\":\"ITP Grade\",\"formatter\":{\"id\":\"1fa269e2-4ba2-46e1-a81d-3cfd5e269b5c\",\"type\":\"BasicTickFormatter\"},\"plot\":{\"id\":\"bd4b82d2-5e5b-463a-956e-943cbd131643\",\"subtype\":\"Figure\",\"type\":\"Plot\"},\"ticker\":{\"id\":\"b4510ee8-51de-4457-8945-87a2afde21ff\",\"type\":\"BasicTicker\"}},\"id\":\"7f7a8b46-858b-4716-85e9-4db6bd6f16c5\",\"type\":\"LinearAxis\"},{\"attributes\":{\"callback\":null},\"id\":\"3c065743-c0e3-419a-8561-2bf88af2b5b3\",\"type\":\"DataRange1d\"},{\"attributes\":{},\"id\":\"b4510ee8-51de-4457-8945-87a2afde21ff\",\"type\":\"BasicTicker\"},{\"attributes\":{\"plot\":{\"id\":\"bd4b82d2-5e5b-463a-956e-943cbd131643\",\"subtype\":\"Figure\",\"type\":\"Plot\"},\"ticker\":{\"id\":\"b4510ee8-51de-4457-8945-87a2afde21ff\",\"type\":\"BasicTicker\"}},\"id\":\"16336ce9-a3b7-484e-abeb-2bf72c140dbe\",\"type\":\"Grid\"},{\"attributes\":{\"axis_label\":\"Average grade in other classes\",\"formatter\":{\"id\":\"35f79a60-a4be-4623-b97d-d683a0a0447f\",\"type\":\"BasicTickFormatter\"},\"plot\":{\"id\":\"bd4b82d2-5e5b-463a-956e-943cbd131643\",\"subtype\":\"Figure\",\"type\":\"Plot\"},\"ticker\":{\"id\":\"7e0f1ccc-a9ef-4097-ab52-52f313c1bc03\",\"type\":\"BasicTicker\"}},\"id\":\"eb31a61d-d89b-413d-b733-1d9b5941eec0\",\"type\":\"LinearAxis\"},{\"attributes\":{},\"id\":\"7e0f1ccc-a9ef-4097-ab52-52f313c1bc03\",\"type\":\"BasicTicker\"},{\"attributes\":{\"dimension\":1,\"plot\":{\"id\":\"bd4b82d2-5e5b-463a-956e-943cbd131643\",\"subtype\":\"Figure\",\"type\":\"Plot\"},\"ticker\":{\"id\":\"7e0f1ccc-a9ef-4097-ab52-52f313c1bc03\",\"type\":\"BasicTicker\"}},\"id\":\"75f5ce35-1e1e-406d-a0e1-64ea2f747d77\",\"type\":\"Grid\"},{\"attributes\":{\"callback\":null},\"id\":\"7a195b6e-e935-4e79-952f-46e6906caca0\",\"type\":\"DataRange1d\"},{\"attributes\":{\"fill_alpha\":{\"value\":0.62},\"fill_color\":{\"value\":\"#006611\"},\"line_alpha\":{\"value\":0.62},\"line_color\":{\"value\":\"#1f77b4\"},\"size\":{\"units\":\"screen\",\"value\":25},\"x\":{\"field\":\"x\"},\"y\":{\"field\":\"y\"}},\"id\":\"4a6674a1-fe5a-48de-b6a7-83b6498b2aa1\",\"type\":\"Circle\"},{\"attributes\":{\"below\":[{\"id\":\"cc3695b3-5066-4aae-ad26-c2bfb7d17ef7\",\"type\":\"LinearAxis\"}],\"left\":[{\"id\":\"e0834616-5dd0-46e4-96ce-d0a3ad10f14a\",\"type\":\"LinearAxis\"}],\"renderers\":[{\"id\":\"cc3695b3-5066-4aae-ad26-c2bfb7d17ef7\",\"type\":\"LinearAxis\"},{\"id\":\"84d0beb1-0bdf-4dbe-a442-f0c79646c65d\",\"type\":\"Grid\"},{\"id\":\"e0834616-5dd0-46e4-96ce-d0a3ad10f14a\",\"type\":\"LinearAxis\"},{\"id\":\"45abd330-2058-4e2e-8d8d-c66240ab2207\",\"type\":\"Grid\"},{\"id\":\"044fcf36-0c16-4e2c-8924-6053f61f418d\",\"type\":\"BoxAnnotation\"},{\"id\":\"afb6441f-dc18-4a88-b167-3d1e9f2daed4\",\"type\":\"GlyphRenderer\"},{\"id\":\"9ce8bdb8-a8ff-443f-a293-96c11e15aac3\",\"type\":\"GlyphRenderer\"}],\"sizing_mode\":\"scale_width\",\"title\":{\"id\":\"68681f2d-e603-45cf-a41c-bc649e292bb5\",\"type\":\"Title\"},\"tool_events\":{\"id\":\"8f752ebe-2d32-45e2-a7cd-b8bb4ee5d4fc\",\"type\":\"ToolEvents\"},\"toolbar\":{\"id\":\"8173a87f-9eea-4cba-9d7a-55606004b18c\",\"type\":\"Toolbar\"},\"toolbar_location\":null,\"x_range\":{\"id\":\"7a195b6e-e935-4e79-952f-46e6906caca0\",\"type\":\"DataRange1d\"},\"y_range\":{\"id\":\"bf8a26d7-0289-4164-b9f7-2e1df5f5d84a\",\"type\":\"DataRange1d\"}},\"id\":\"5988fcd4-c663-4996-9396-6541b62614bb\",\"subtype\":\"Figure\",\"type\":\"Plot\"},{\"attributes\":{\"bottom_units\":\"screen\",\"fill_alpha\":{\"value\":0.5},\"fill_color\":{\"value\":\"lightgrey\"},\"left_units\":\"screen\",\"level\":\"overlay\",\"line_alpha\":{\"value\":1.0},\"line_color\":{\"value\":\"black\"},\"line_dash\":[4,4],\"line_width\":{\"value\":2},\"plot\":null,\"render_mode\":\"css\",\"right_units\":\"screen\",\"top_units\":\"screen\"},\"id\":\"7d109ba8-b78e-4249-b0a2-1fc5ec7ab4df\",\"type\":\"BoxAnnotation\"},{\"attributes\":{\"plot\":{\"id\":\"bd4b82d2-5e5b-463a-956e-943cbd131643\",\"subtype\":\"Figure\",\"type\":\"Plot\"}},\"id\":\"6993cc23-0f4b-4341-a727-a6ae1c82faeb\",\"type\":\"PanTool\"},{\"attributes\":{\"active_drag\":\"auto\",\"active_scroll\":\"auto\",\"active_tap\":\"auto\",\"tools\":[{\"id\":\"dcbca3db-5257-4fbf-b1c6-45cb82cdd560\",\"type\":\"PanTool\"},{\"id\":\"a4b6ed3a-daa3-42ba-a35d-34b56ee314eb\",\"type\":\"WheelZoomTool\"},{\"id\":\"22238965-2a7f-43eb-9beb-28f4b1768868\",\"type\":\"BoxZoomTool\"},{\"id\":\"92306795-2273-4858-b6a2-e542dc4172e1\",\"type\":\"SaveTool\"},{\"id\":\"284348fb-f4a4-4cf2-81fe-89e26b29c1f0\",\"type\":\"ResetTool\"},{\"id\":\"f734b22f-abcd-4531-bef3-b4fe34df626c\",\"type\":\"HelpTool\"}]},\"id\":\"8173a87f-9eea-4cba-9d7a-55606004b18c\",\"type\":\"Toolbar\"},{\"attributes\":{\"plot\":{\"id\":\"bd4b82d2-5e5b-463a-956e-943cbd131643\",\"subtype\":\"Figure\",\"type\":\"Plot\"}},\"id\":\"df7dc94f-b200-4a1a-861a-5e1c33a55191\",\"type\":\"WheelZoomTool\"},{\"attributes\":{\"overlay\":{\"id\":\"7d109ba8-b78e-4249-b0a2-1fc5ec7ab4df\",\"type\":\"BoxAnnotation\"},\"plot\":{\"id\":\"bd4b82d2-5e5b-463a-956e-943cbd131643\",\"subtype\":\"Figure\",\"type\":\"Plot\"}},\"id\":\"1a5b478b-877d-4f40-9187-fef2544e9cde\",\"type\":\"BoxZoomTool\"},{\"attributes\":{\"plot\":{\"id\":\"bd4b82d2-5e5b-463a-956e-943cbd131643\",\"subtype\":\"Figure\",\"type\":\"Plot\"}},\"id\":\"202324db-4c12-4167-ac3d-185748744031\",\"type\":\"SaveTool\"},{\"attributes\":{\"plot\":{\"id\":\"bd4b82d2-5e5b-463a-956e-943cbd131643\",\"subtype\":\"Figure\",\"type\":\"Plot\"}},\"id\":\"efa62106-aae6-41bd-aff1-944272fd4cb9\",\"type\":\"ResetTool\"},{\"attributes\":{\"plot\":{\"id\":\"bd4b82d2-5e5b-463a-956e-943cbd131643\",\"subtype\":\"Figure\",\"type\":\"Plot\"}},\"id\":\"b60f893c-47ad-47cd-a2f4-e63e280daa77\",\"type\":\"HelpTool\"},{\"attributes\":{\"axis_label\":\"ITP Grade\",\"formatter\":{\"id\":\"3bac91f9-9bc1-4234-897f-b6dd5a894777\",\"type\":\"BasicTickFormatter\"},\"plot\":{\"id\":\"5988fcd4-c663-4996-9396-6541b62614bb\",\"subtype\":\"Figure\",\"type\":\"Plot\"},\"ticker\":{\"id\":\"e1858d82-7619-4c46-ac38-773e32568a39\",\"type\":\"BasicTicker\"}},\"id\":\"cc3695b3-5066-4aae-ad26-c2bfb7d17ef7\",\"type\":\"LinearAxis\"},{\"attributes\":{\"fill_alpha\":{\"value\":0.62},\"fill_color\":{\"value\":\"#006611\"},\"line_alpha\":{\"value\":0.62},\"line_color\":{\"value\":\"#1f77b4\"},\"size\":{\"units\":\"screen\",\"value\":25},\"x\":{\"field\":\"x\"},\"y\":{\"field\":\"y\"}},\"id\":\"462dfcbb-ed0b-453b-bca0-fd860f6159e0\",\"type\":\"Circle\"},{\"attributes\":{\"callback\":null},\"id\":\"bf8a26d7-0289-4164-b9f7-2e1df5f5d84a\",\"type\":\"DataRange1d\"},{\"attributes\":{},\"id\":\"e1858d82-7619-4c46-ac38-773e32568a39\",\"type\":\"BasicTicker\"},{\"attributes\":{\"plot\":{\"id\":\"5988fcd4-c663-4996-9396-6541b62614bb\",\"subtype\":\"Figure\",\"type\":\"Plot\"},\"ticker\":{\"id\":\"e1858d82-7619-4c46-ac38-773e32568a39\",\"type\":\"BasicTicker\"}},\"id\":\"84d0beb1-0bdf-4dbe-a442-f0c79646c65d\",\"type\":\"Grid\"},{\"attributes\":{\"axis_label\":\"Average grade in other classes\",\"formatter\":{\"id\":\"533b0884-c9b9-46c1-a02b-102fee0a4ab7\",\"type\":\"BasicTickFormatter\"},\"plot\":{\"id\":\"5988fcd4-c663-4996-9396-6541b62614bb\",\"subtype\":\"Figure\",\"type\":\"Plot\"},\"ticker\":{\"id\":\"9b89c3dd-0357-435a-b585-7716d661adfd\",\"type\":\"BasicTicker\"}},\"id\":\"e0834616-5dd0-46e4-96ce-d0a3ad10f14a\",\"type\":\"LinearAxis\"},{\"attributes\":{},\"id\":\"9b89c3dd-0357-435a-b585-7716d661adfd\",\"type\":\"BasicTicker\"},{\"attributes\":{\"dimension\":1,\"plot\":{\"id\":\"5988fcd4-c663-4996-9396-6541b62614bb\",\"subtype\":\"Figure\",\"type\":\"Plot\"},\"ticker\":{\"id\":\"9b89c3dd-0357-435a-b585-7716d661adfd\",\"type\":\"BasicTicker\"}},\"id\":\"45abd330-2058-4e2e-8d8d-c66240ab2207\",\"type\":\"Grid\"},{\"attributes\":{\"fill_alpha\":{\"value\":0.1},\"fill_color\":{\"value\":\"#1f77b4\"},\"line_alpha\":{\"value\":0.1},\"line_color\":{\"value\":\"#1f77b4\"},\"size\":{\"units\":\"screen\",\"value\":25},\"x\":{\"field\":\"x\"},\"y\":{\"field\":\"y\"}},\"id\":\"498601f3-0729-415c-b9be-9e61f266ebcc\",\"type\":\"Circle\"},{\"attributes\":{\"below\":[{\"id\":\"3d905015-8ce7-4151-8180-0635ec70d1a8\",\"type\":\"LinearAxis\"}],\"left\":[{\"id\":\"eee9264e-3310-4b7d-ade7-f180e08d2eea\",\"type\":\"LinearAxis\"}],\"renderers\":[{\"id\":\"3d905015-8ce7-4151-8180-0635ec70d1a8\",\"type\":\"LinearAxis\"},{\"id\":\"b48a1b6f-acb6-4b56-a840-5d5f6c00bd5e\",\"type\":\"Grid\"},{\"id\":\"eee9264e-3310-4b7d-ade7-f180e08d2eea\",\"type\":\"LinearAxis\"},{\"id\":\"9a343037-4470-401e-9486-7ae3adabd767\",\"type\":\"Grid\"},{\"id\":\"ba35af38-22cc-4a21-9356-7da95bc5fd4b\",\"type\":\"BoxAnnotation\"},{\"id\":\"5641bd2b-b0ee-4fce-996c-780d07f44a24\",\"type\":\"GlyphRenderer\"},{\"id\":\"4f18eaf1-9dcb-4465-aed8-929516a3f872\",\"type\":\"GlyphRenderer\"}],\"sizing_mode\":\"scale_width\",\"title\":{\"id\":\"baa56bc6-36b8-49b1-801c-87081d3811b2\",\"type\":\"Title\"},\"tool_events\":{\"id\":\"0408458c-519a-49af-a1d3-b02553582f06\",\"type\":\"ToolEvents\"},\"toolbar\":{\"id\":\"bfa9be48-d90f-495b-b3a7-2165c905e9ba\",\"type\":\"Toolbar\"},\"toolbar_location\":null,\"x_range\":{\"id\":\"3419abfc-8ae9-4263-b557-939c3571e767\",\"type\":\"DataRange1d\"},\"y_range\":{\"id\":\"ff60d966-348b-41d4-9f86-b8753c481d76\",\"type\":\"DataRange1d\"}},\"id\":\"bf71e665-9980-4871-8766-3bd032502ded\",\"subtype\":\"Figure\",\"type\":\"Plot\"},{\"attributes\":{\"callback\":null,\"column_names\":[\"x\",\"y\"],\"data\":{\"x\":[7.0,7.3,9.3,7.3,7.5,5.6,7.3,7.1,6.0,5.0,5.6,6.7,6.8,2.3,5.0,3.6,1.0,6.1,5.3,0.5,0.7,5.6,2.5,1.2,2.5,8.6,0.9],\"y\":[7.879999999999998,4.1000000000000005,7.62,8.280000000000001,7.5,6.7,6.6499999999999995,4.275,\"NaN\",7.959999999999999,6.9799999999999995,\"NaN\",\"NaN\",0.7000000000000001,3.4499999999999997,4.3,0.0,\"NaN\",\"NaN\",\"NaN\",\"NaN\",2.375,2.3,0.0,\"NaN\",\"NaN\",3.3]}},\"id\":\"759101ee-1f28-4e95-9a9b-274f047f8005\",\"type\":\"ColumnDataSource\"},{\"attributes\":{\"bottom_units\":\"screen\",\"fill_alpha\":{\"value\":0.5},\"fill_color\":{\"value\":\"lightgrey\"},\"left_units\":\"screen\",\"level\":\"overlay\",\"line_alpha\":{\"value\":1.0},\"line_color\":{\"value\":\"black\"},\"line_dash\":[4,4],\"line_width\":{\"value\":2},\"plot\":null,\"render_mode\":\"css\",\"right_units\":\"screen\",\"top_units\":\"screen\"},\"id\":\"044fcf36-0c16-4e2c-8924-6053f61f418d\",\"type\":\"BoxAnnotation\"},{\"attributes\":{\"plot\":{\"id\":\"5988fcd4-c663-4996-9396-6541b62614bb\",\"subtype\":\"Figure\",\"type\":\"Plot\"}},\"id\":\"dcbca3db-5257-4fbf-b1c6-45cb82cdd560\",\"type\":\"PanTool\"},{\"attributes\":{\"fill_alpha\":{\"value\":0.1},\"fill_color\":{\"value\":\"#1f77b4\"},\"line_alpha\":{\"value\":0.1},\"line_color\":{\"value\":\"#1f77b4\"},\"size\":{\"units\":\"screen\",\"value\":25},\"x\":{\"field\":\"x\"},\"y\":{\"field\":\"y\"}},\"id\":\"3e239e95-c0cd-4648-aaeb-234dbddd712a\",\"type\":\"Circle\"},{\"attributes\":{\"plot\":{\"id\":\"5988fcd4-c663-4996-9396-6541b62614bb\",\"subtype\":\"Figure\",\"type\":\"Plot\"}},\"id\":\"a4b6ed3a-daa3-42ba-a35d-34b56ee314eb\",\"type\":\"WheelZoomTool\"},{\"attributes\":{\"overlay\":{\"id\":\"044fcf36-0c16-4e2c-8924-6053f61f418d\",\"type\":\"BoxAnnotation\"},\"plot\":{\"id\":\"5988fcd4-c663-4996-9396-6541b62614bb\",\"subtype\":\"Figure\",\"type\":\"Plot\"}},\"id\":\"22238965-2a7f-43eb-9beb-28f4b1768868\",\"type\":\"BoxZoomTool\"},{\"attributes\":{\"plot\":{\"id\":\"5988fcd4-c663-4996-9396-6541b62614bb\",\"subtype\":\"Figure\",\"type\":\"Plot\"}},\"id\":\"92306795-2273-4858-b6a2-e542dc4172e1\",\"type\":\"SaveTool\"},{\"attributes\":{\"plot\":{\"id\":\"5988fcd4-c663-4996-9396-6541b62614bb\",\"subtype\":\"Figure\",\"type\":\"Plot\"}},\"id\":\"284348fb-f4a4-4cf2-81fe-89e26b29c1f0\",\"type\":\"ResetTool\"},{\"attributes\":{\"plot\":{\"id\":\"5988fcd4-c663-4996-9396-6541b62614bb\",\"subtype\":\"Figure\",\"type\":\"Plot\"}},\"id\":\"f734b22f-abcd-4531-bef3-b4fe34df626c\",\"type\":\"HelpTool\"},{\"attributes\":{},\"id\":\"35f79a60-a4be-4623-b97d-d683a0a0447f\",\"type\":\"BasicTickFormatter\"},{\"attributes\":{\"data_source\":{\"id\":\"759101ee-1f28-4e95-9a9b-274f047f8005\",\"type\":\"ColumnDataSource\"},\"glyph\":{\"id\":\"4a6674a1-fe5a-48de-b6a7-83b6498b2aa1\",\"type\":\"Circle\"},\"hover_glyph\":null,\"nonselection_glyph\":{\"id\":\"3e239e95-c0cd-4648-aaeb-234dbddd712a\",\"type\":\"Circle\"},\"selection_glyph\":null},\"id\":\"d6937a49-8e53-4851-82a8-65b259474dc6\",\"type\":\"GlyphRenderer\"},{\"attributes\":{},\"id\":\"1fa269e2-4ba2-46e1-a81d-3cfd5e269b5c\",\"type\":\"BasicTickFormatter\"},{\"attributes\":{\"fill_alpha\":{\"value\":0.62},\"fill_color\":{\"value\":\"#EE0000\"},\"line_alpha\":{\"value\":0.62},\"line_color\":{\"value\":\"#000000\"},\"size\":{\"units\":\"screen\",\"value\":25},\"x\":{\"field\":\"x\"},\"y\":{\"field\":\"y\"}},\"id\":\"756756cd-9ff6-4049-8ca2-70850640791b\",\"type\":\"Circle\"},{\"attributes\":{\"data_source\":{\"id\":\"2aae31df-80b8-45f4-a691-95ae7f80f25e\",\"type\":\"ColumnDataSource\"},\"glyph\":{\"id\":\"756756cd-9ff6-4049-8ca2-70850640791b\",\"type\":\"Circle\"},\"hover_glyph\":null,\"nonselection_glyph\":{\"id\":\"9ef6db5d-deb2-4a9b-9552-e24aa69fd952\",\"type\":\"Circle\"},\"selection_glyph\":null},\"id\":\"5e690663-b3ac-416d-83e8-cfb790f5f97d\",\"type\":\"GlyphRenderer\"},{\"attributes\":{\"fill_alpha\":{\"value\":0.1},\"fill_color\":{\"value\":\"#1f77b4\"},\"line_alpha\":{\"value\":0.1},\"line_color\":{\"value\":\"#1f77b4\"},\"size\":{\"units\":\"screen\",\"value\":25},\"x\":{\"field\":\"x\"},\"y\":{\"field\":\"y\"}},\"id\":\"9ef6db5d-deb2-4a9b-9552-e24aa69fd952\",\"type\":\"Circle\"},{\"attributes\":{\"callback\":null,\"column_names\":[\"x\",\"y\"],\"data\":{\"x\":[3.0,9.3,6.4,7.4,6.6,3.1,5.0,5.0,5.0,5.7,5.0,5.4,5.2,4.9,6.1,5.8,5.5,9.0,3.9,2.2,3.1,8.0,1.9],\"y\":[1.4333333333333333,\"NaN\",5.566666666666666,4.733333333333333,\"NaN\",4.6,3.625,\"NaN\",5.642857142857143,3.3666666666666667,3.45,3.6999999999999997,2.1666666666666665,\"NaN\",2.8999999999999995,3.9333333333333336,\"NaN\",4.428571428571429,2.1,2.25,\"NaN\",3.62,\"NaN\"]}},\"id\":\"f49e48b7-f370-416f-bb95-ae9f7131c8b2\",\"type\":\"ColumnDataSource\"},{\"attributes\":{\"below\":[{\"id\":\"488fbb36-c651-4bc9-994e-28f6480ffa2c\",\"type\":\"LinearAxis\"}],\"left\":[{\"id\":\"0151d933-08eb-45ff-8314-c17ea6869274\",\"type\":\"LinearAxis\"}],\"renderers\":[{\"id\":\"488fbb36-c651-4bc9-994e-28f6480ffa2c\",\"type\":\"LinearAxis\"},{\"id\":\"86ff18f5-1007-48e3-a722-e6a0bc5df82b\",\"type\":\"Grid\"},{\"id\":\"0151d933-08eb-45ff-8314-c17ea6869274\",\"type\":\"LinearAxis\"},{\"id\":\"dd350501-4ce3-4499-b325-47adc0779bd0\",\"type\":\"Grid\"},{\"id\":\"02d89cca-9b06-4740-831a-220fb233b2ad\",\"type\":\"BoxAnnotation\"},{\"id\":\"194af164-c16a-447d-b154-7135d180f6ce\",\"type\":\"GlyphRenderer\"},{\"id\":\"6927e946-8492-45fa-9745-32d2bfb2f958\",\"type\":\"GlyphRenderer\"}],\"sizing_mode\":\"scale_width\",\"title\":{\"id\":\"ecfee283-208a-4eec-8815-62278809878e\",\"type\":\"Title\"},\"tool_events\":{\"id\":\"0c89fc00-ddb8-4d38-a8e2-6a67f2fda32c\",\"type\":\"ToolEvents\"},\"toolbar\":{\"id\":\"58925dc6-8851-47d7-baac-cc62de38f6a4\",\"type\":\"Toolbar\"},\"toolbar_location\":null,\"x_range\":{\"id\":\"907b140e-9252-41e3-a6cd-2dbf4c1ebe28\",\"type\":\"DataRange1d\"},\"y_range\":{\"id\":\"e0628634-ce37-4c27-90b8-e909acd81bbf\",\"type\":\"DataRange1d\"}},\"id\":\"a5be8750-8242-4f55-9667-642e013f27fd\",\"subtype\":\"Figure\",\"type\":\"Plot\"},{\"attributes\":{\"plot\":null,\"text\":\"2015.1 class of ITP: Green=SUCCESS, Red=FAILURE;\"},\"id\":\"baa56bc6-36b8-49b1-801c-87081d3811b2\",\"type\":\"Title\"},{\"attributes\":{},\"id\":\"3bac91f9-9bc1-4234-897f-b6dd5a894777\",\"type\":\"BasicTickFormatter\"},{\"attributes\":{\"fill_alpha\":{\"value\":0.1},\"fill_color\":{\"value\":\"#1f77b4\"},\"line_alpha\":{\"value\":0.1},\"line_color\":{\"value\":\"#1f77b4\"},\"size\":{\"units\":\"screen\",\"value\":25},\"x\":{\"field\":\"x\"},\"y\":{\"field\":\"y\"}},\"id\":\"a401942a-7409-405e-8db4-9a7f12dbb1d1\",\"type\":\"Circle\"},{\"attributes\":{\"fill_alpha\":{\"value\":0.62},\"fill_color\":{\"value\":\"#EE0000\"},\"line_alpha\":{\"value\":0.62},\"line_color\":{\"value\":\"#000000\"},\"size\":{\"units\":\"screen\",\"value\":25},\"x\":{\"field\":\"x\"},\"y\":{\"field\":\"y\"}},\"id\":\"578af0ad-c4b0-4bc8-a563-a7fd6e62cff2\",\"type\":\"Circle\"},{\"attributes\":{},\"id\":\"0408458c-519a-49af-a1d3-b02553582f06\",\"type\":\"ToolEvents\"},{\"attributes\":{\"callback\":null},\"id\":\"3419abfc-8ae9-4263-b557-939c3571e767\",\"type\":\"DataRange1d\"},{\"attributes\":{\"active_drag\":\"auto\",\"active_scroll\":\"auto\",\"active_tap\":\"auto\",\"tools\":[{\"id\":\"4e2be6b3-e7f1-4119-943d-2f21ec4b0b64\",\"type\":\"PanTool\"},{\"id\":\"3b70bfaf-53b7-42f8-a79c-ac4241c83308\",\"type\":\"WheelZoomTool\"},{\"id\":\"86b72067-9cbc-42c6-9781-04b59ae2dd36\",\"type\":\"BoxZoomTool\"},{\"id\":\"bad1011e-347e-4e97-b36e-46491a14afd8\",\"type\":\"SaveTool\"},{\"id\":\"b8bebd15-104d-4a96-99ab-cbeded1489d0\",\"type\":\"ResetTool\"},{\"id\":\"fa74e7ba-6859-4453-8b7c-d9a9f03e42d1\",\"type\":\"HelpTool\"}]},\"id\":\"bfa9be48-d90f-495b-b3a7-2165c905e9ba\",\"type\":\"Toolbar\"},{\"attributes\":{\"axis_label\":\"Average grade in other classes\",\"formatter\":{\"id\":\"985840a2-e318-4c3a-b0d4-9c62c95505ca\",\"type\":\"BasicTickFormatter\"},\"plot\":{\"id\":\"bf71e665-9980-4871-8766-3bd032502ded\",\"subtype\":\"Figure\",\"type\":\"Plot\"},\"ticker\":{\"id\":\"cc3b2845-d023-407a-9b51-7be689fd4fdf\",\"type\":\"BasicTicker\"}},\"id\":\"eee9264e-3310-4b7d-ade7-f180e08d2eea\",\"type\":\"LinearAxis\"},{\"attributes\":{\"axis_label\":\"ITP Grade\",\"formatter\":{\"id\":\"b46525eb-c59e-479a-ab79-75a5d11a79dd\",\"type\":\"BasicTickFormatter\"},\"plot\":{\"id\":\"bf71e665-9980-4871-8766-3bd032502ded\",\"subtype\":\"Figure\",\"type\":\"Plot\"},\"ticker\":{\"id\":\"178eb518-77db-44e9-8693-f4874574053b\",\"type\":\"BasicTicker\"}},\"id\":\"3d905015-8ce7-4151-8180-0635ec70d1a8\",\"type\":\"LinearAxis\"},{\"attributes\":{\"callback\":null},\"id\":\"ff60d966-348b-41d4-9f86-b8753c481d76\",\"type\":\"DataRange1d\"},{\"attributes\":{\"callback\":null,\"column_names\":[\"x\",\"y\"],\"data\":{\"x\":[4.6,5.6,8.1,5.9,1.5,0.6,1.6,7.8,6.7,6.2,5.9,6.4],\"y\":[1.25,\"NaN\",4.833333333333333,\"NaN\",0.7,0.6,4.0,6.749999999999999,5.012499999999999,\"NaN\",3.5500000000000003,\"NaN\"]}},\"id\":\"2aae31df-80b8-45f4-a691-95ae7f80f25e\",\"type\":\"ColumnDataSource\"},{\"attributes\":{},\"id\":\"178eb518-77db-44e9-8693-f4874574053b\",\"type\":\"BasicTicker\"},{\"attributes\":{\"plot\":{\"id\":\"bf71e665-9980-4871-8766-3bd032502ded\",\"subtype\":\"Figure\",\"type\":\"Plot\"},\"ticker\":{\"id\":\"178eb518-77db-44e9-8693-f4874574053b\",\"type\":\"BasicTicker\"}},\"id\":\"b48a1b6f-acb6-4b56-a840-5d5f6c00bd5e\",\"type\":\"Grid\"},{\"attributes\":{\"callback\":null},\"id\":\"907b140e-9252-41e3-a6cd-2dbf4c1ebe28\",\"type\":\"DataRange1d\"},{\"attributes\":{},\"id\":\"cc3b2845-d023-407a-9b51-7be689fd4fdf\",\"type\":\"BasicTicker\"},{\"attributes\":{\"dimension\":1,\"plot\":{\"id\":\"bf71e665-9980-4871-8766-3bd032502ded\",\"subtype\":\"Figure\",\"type\":\"Plot\"},\"ticker\":{\"id\":\"cc3b2845-d023-407a-9b51-7be689fd4fdf\",\"type\":\"BasicTicker\"}},\"id\":\"9a343037-4470-401e-9486-7ae3adabd767\",\"type\":\"Grid\"},{\"attributes\":{},\"id\":\"0c89fc00-ddb8-4d38-a8e2-6a67f2fda32c\",\"type\":\"ToolEvents\"},{\"attributes\":{\"plot\":null,\"text\":\"2015.2 class of ITP: Green=SUCCESS, Red=FAILURE;\"},\"id\":\"ecfee283-208a-4eec-8815-62278809878e\",\"type\":\"Title\"},{\"attributes\":{\"data_source\":{\"id\":\"a9b9c121-65b4-45e2-b5f5-b5982e9935cf\",\"type\":\"ColumnDataSource\"},\"glyph\":{\"id\":\"0853c7cf-e8a2-48f9-a117-db37ae0ca997\",\"type\":\"Circle\"},\"hover_glyph\":null,\"nonselection_glyph\":{\"id\":\"71a3840a-2d9a-44ed-88f5-8f517ef94f98\",\"type\":\"Circle\"},\"selection_glyph\":null},\"id\":\"5641bd2b-b0ee-4fce-996c-780d07f44a24\",\"type\":\"GlyphRenderer\"},{\"attributes\":{\"bottom_units\":\"screen\",\"fill_alpha\":{\"value\":0.5},\"fill_color\":{\"value\":\"lightgrey\"},\"left_units\":\"screen\",\"level\":\"overlay\",\"line_alpha\":{\"value\":1.0},\"line_color\":{\"value\":\"black\"},\"line_dash\":[4,4],\"line_width\":{\"value\":2},\"plot\":null,\"render_mode\":\"css\",\"right_units\":\"screen\",\"top_units\":\"screen\"},\"id\":\"ba35af38-22cc-4a21-9356-7da95bc5fd4b\",\"type\":\"BoxAnnotation\"},{\"attributes\":{\"plot\":{\"id\":\"bf71e665-9980-4871-8766-3bd032502ded\",\"subtype\":\"Figure\",\"type\":\"Plot\"}},\"id\":\"4e2be6b3-e7f1-4119-943d-2f21ec4b0b64\",\"type\":\"PanTool\"},{\"attributes\":{\"active_drag\":\"auto\",\"active_scroll\":\"auto\",\"active_tap\":\"auto\",\"tools\":[{\"id\":\"39c94757-e691-47d7-a9c8-3c974dd1a961\",\"type\":\"PanTool\"},{\"id\":\"a953eabe-5a22-49f3-b222-70e5c35db12d\",\"type\":\"WheelZoomTool\"},{\"id\":\"89563b18-c14a-49dd-b997-93eb4271194e\",\"type\":\"BoxZoomTool\"},{\"id\":\"d8cdac80-9c9b-46ae-b772-aa4e70594500\",\"type\":\"SaveTool\"},{\"id\":\"e53ef398-2b7c-4279-af4a-5003eb0ebd42\",\"type\":\"ResetTool\"},{\"id\":\"335ca38a-e998-4860-a23f-9669f79e78a5\",\"type\":\"HelpTool\"}]},\"id\":\"58925dc6-8851-47d7-baac-cc62de38f6a4\",\"type\":\"Toolbar\"},{\"attributes\":{\"plot\":{\"id\":\"bf71e665-9980-4871-8766-3bd032502ded\",\"subtype\":\"Figure\",\"type\":\"Plot\"}},\"id\":\"3b70bfaf-53b7-42f8-a79c-ac4241c83308\",\"type\":\"WheelZoomTool\"},{\"attributes\":{\"data_source\":{\"id\":\"f49e48b7-f370-416f-bb95-ae9f7131c8b2\",\"type\":\"ColumnDataSource\"},\"glyph\":{\"id\":\"578af0ad-c4b0-4bc8-a563-a7fd6e62cff2\",\"type\":\"Circle\"},\"hover_glyph\":null,\"nonselection_glyph\":{\"id\":\"a401942a-7409-405e-8db4-9a7f12dbb1d1\",\"type\":\"Circle\"},\"selection_glyph\":null},\"id\":\"9ce8bdb8-a8ff-443f-a293-96c11e15aac3\",\"type\":\"GlyphRenderer\"},{\"attributes\":{\"overlay\":{\"id\":\"ba35af38-22cc-4a21-9356-7da95bc5fd4b\",\"type\":\"BoxAnnotation\"},\"plot\":{\"id\":\"bf71e665-9980-4871-8766-3bd032502ded\",\"subtype\":\"Figure\",\"type\":\"Plot\"}},\"id\":\"86b72067-9cbc-42c6-9781-04b59ae2dd36\",\"type\":\"BoxZoomTool\"},{\"attributes\":{\"plot\":{\"id\":\"bf71e665-9980-4871-8766-3bd032502ded\",\"subtype\":\"Figure\",\"type\":\"Plot\"}},\"id\":\"bad1011e-347e-4e97-b36e-46491a14afd8\",\"type\":\"SaveTool\"},{\"attributes\":{\"plot\":{\"id\":\"bf71e665-9980-4871-8766-3bd032502ded\",\"subtype\":\"Figure\",\"type\":\"Plot\"}},\"id\":\"b8bebd15-104d-4a96-99ab-cbeded1489d0\",\"type\":\"ResetTool\"},{\"attributes\":{\"plot\":{\"id\":\"bf71e665-9980-4871-8766-3bd032502ded\",\"subtype\":\"Figure\",\"type\":\"Plot\"}},\"id\":\"fa74e7ba-6859-4453-8b7c-d9a9f03e42d1\",\"type\":\"HelpTool\"},{\"attributes\":{\"axis_label\":\"ITP Grade\",\"formatter\":{\"id\":\"5d5b765b-6796-4888-942b-4e643233f3b1\",\"type\":\"BasicTickFormatter\"},\"plot\":{\"id\":\"a5be8750-8242-4f55-9667-642e013f27fd\",\"subtype\":\"Figure\",\"type\":\"Plot\"},\"ticker\":{\"id\":\"13715fd4-b9d5-4b84-b018-366dd320d0bf\",\"type\":\"BasicTicker\"}},\"id\":\"488fbb36-c651-4bc9-994e-28f6480ffa2c\",\"type\":\"LinearAxis\"},{\"attributes\":{\"fill_alpha\":{\"value\":0.62},\"fill_color\":{\"value\":\"#006611\"},\"line_alpha\":{\"value\":0.62},\"line_color\":{\"value\":\"#1f77b4\"},\"size\":{\"units\":\"screen\",\"value\":25},\"x\":{\"field\":\"x\"},\"y\":{\"field\":\"y\"}},\"id\":\"0853c7cf-e8a2-48f9-a117-db37ae0ca997\",\"type\":\"Circle\"},{\"attributes\":{\"callback\":null},\"id\":\"e0628634-ce37-4c27-90b8-e909acd81bbf\",\"type\":\"DataRange1d\"},{\"attributes\":{},\"id\":\"13715fd4-b9d5-4b84-b018-366dd320d0bf\",\"type\":\"BasicTicker\"},{\"attributes\":{\"plot\":{\"id\":\"a5be8750-8242-4f55-9667-642e013f27fd\",\"subtype\":\"Figure\",\"type\":\"Plot\"},\"ticker\":{\"id\":\"13715fd4-b9d5-4b84-b018-366dd320d0bf\",\"type\":\"BasicTicker\"}},\"id\":\"86ff18f5-1007-48e3-a722-e6a0bc5df82b\",\"type\":\"Grid\"},{\"attributes\":{\"axis_label\":\"Average grade in other classes\",\"formatter\":{\"id\":\"54802b07-19e4-43a7-8fa8-2f3758d5e331\",\"type\":\"BasicTickFormatter\"},\"plot\":{\"id\":\"a5be8750-8242-4f55-9667-642e013f27fd\",\"subtype\":\"Figure\",\"type\":\"Plot\"},\"ticker\":{\"id\":\"6b5101db-76ca-4c63-a1ee-dccec3b276d6\",\"type\":\"BasicTicker\"}},\"id\":\"0151d933-08eb-45ff-8314-c17ea6869274\",\"type\":\"LinearAxis\"},{\"attributes\":{},\"id\":\"6b5101db-76ca-4c63-a1ee-dccec3b276d6\",\"type\":\"BasicTicker\"},{\"attributes\":{\"dimension\":1,\"plot\":{\"id\":\"a5be8750-8242-4f55-9667-642e013f27fd\",\"subtype\":\"Figure\",\"type\":\"Plot\"},\"ticker\":{\"id\":\"6b5101db-76ca-4c63-a1ee-dccec3b276d6\",\"type\":\"BasicTicker\"}},\"id\":\"dd350501-4ce3-4499-b325-47adc0779bd0\",\"type\":\"Grid\"},{\"attributes\":{\"fill_alpha\":{\"value\":0.1},\"fill_color\":{\"value\":\"#1f77b4\"},\"line_alpha\":{\"value\":0.1},\"line_color\":{\"value\":\"#1f77b4\"},\"size\":{\"units\":\"screen\",\"value\":25},\"x\":{\"field\":\"x\"},\"y\":{\"field\":\"y\"}},\"id\":\"71a3840a-2d9a-44ed-88f5-8f517ef94f98\",\"type\":\"Circle\"},{\"attributes\":{\"callback\":null,\"column_names\":[\"x\",\"y\"],\"data\":{\"x\":[2.6],\"y\":[2.3]}},\"id\":\"37f10588-1cec-4719-b7c9-2f1f17039533\",\"type\":\"ColumnDataSource\"},{\"attributes\":{\"callback\":null,\"column_names\":[\"x\",\"y\"],\"data\":{\"x\":[7.4,9.5,10.0,7.7,8.4,8.7,8.7,10.0,7.4,9.4,7.9,8.4,9.8,6.9,7.3,0.9,2.8,3.2,0.7,8.2],\"y\":[6.06,5.4750000000000005,9.34,\"NaN\",\"NaN\",\"NaN\",\"NaN\",9.52,5.3,7.140000000000001,6.5200000000000005,6.58,\"NaN\",8.72,4.8,2.2,0.3,3.1,\"NaN\",\"NaN\"]}},\"id\":\"a9b9c121-65b4-45e2-b5f5-b5982e9935cf\",\"type\":\"ColumnDataSource\"},{\"attributes\":{\"bottom_units\":\"screen\",\"fill_alpha\":{\"value\":0.5},\"fill_color\":{\"value\":\"lightgrey\"},\"left_units\":\"screen\",\"level\":\"overlay\",\"line_alpha\":{\"value\":1.0},\"line_color\":{\"value\":\"black\"},\"line_dash\":[4,4],\"line_width\":{\"value\":2},\"plot\":null,\"render_mode\":\"css\",\"right_units\":\"screen\",\"top_units\":\"screen\"},\"id\":\"02d89cca-9b06-4740-831a-220fb233b2ad\",\"type\":\"BoxAnnotation\"},{\"attributes\":{\"plot\":{\"id\":\"a5be8750-8242-4f55-9667-642e013f27fd\",\"subtype\":\"Figure\",\"type\":\"Plot\"}},\"id\":\"39c94757-e691-47d7-a9c8-3c974dd1a961\",\"type\":\"PanTool\"},{\"attributes\":{},\"id\":\"985840a2-e318-4c3a-b0d4-9c62c95505ca\",\"type\":\"BasicTickFormatter\"},{\"attributes\":{\"plot\":{\"id\":\"a5be8750-8242-4f55-9667-642e013f27fd\",\"subtype\":\"Figure\",\"type\":\"Plot\"}},\"id\":\"a953eabe-5a22-49f3-b222-70e5c35db12d\",\"type\":\"WheelZoomTool\"},{\"attributes\":{\"overlay\":{\"id\":\"02d89cca-9b06-4740-831a-220fb233b2ad\",\"type\":\"BoxAnnotation\"},\"plot\":{\"id\":\"a5be8750-8242-4f55-9667-642e013f27fd\",\"subtype\":\"Figure\",\"type\":\"Plot\"}},\"id\":\"89563b18-c14a-49dd-b997-93eb4271194e\",\"type\":\"BoxZoomTool\"},{\"attributes\":{\"plot\":{\"id\":\"a5be8750-8242-4f55-9667-642e013f27fd\",\"subtype\":\"Figure\",\"type\":\"Plot\"}},\"id\":\"d8cdac80-9c9b-46ae-b772-aa4e70594500\",\"type\":\"SaveTool\"},{\"attributes\":{\"plot\":{\"id\":\"a5be8750-8242-4f55-9667-642e013f27fd\",\"subtype\":\"Figure\",\"type\":\"Plot\"}},\"id\":\"e53ef398-2b7c-4279-af4a-5003eb0ebd42\",\"type\":\"ResetTool\"},{\"attributes\":{\"plot\":{\"id\":\"a5be8750-8242-4f55-9667-642e013f27fd\",\"subtype\":\"Figure\",\"type\":\"Plot\"}},\"id\":\"335ca38a-e998-4860-a23f-9669f79e78a5\",\"type\":\"HelpTool\"},{\"attributes\":{\"fill_alpha\":{\"value\":0.62},\"fill_color\":{\"value\":\"#006611\"},\"line_alpha\":{\"value\":0.62},\"line_color\":{\"value\":\"#1f77b4\"},\"size\":{\"units\":\"screen\",\"value\":25},\"x\":{\"field\":\"x\"},\"y\":{\"field\":\"y\"}},\"id\":\"989cde53-07d7-4b33-ac53-fc2d4b53dd81\",\"type\":\"Circle\"},{\"attributes\":{},\"id\":\"b46525eb-c59e-479a-ab79-75a5d11a79dd\",\"type\":\"BasicTickFormatter\"},{\"attributes\":{\"fill_alpha\":{\"value\":0.1},\"fill_color\":{\"value\":\"#1f77b4\"},\"line_alpha\":{\"value\":0.1},\"line_color\":{\"value\":\"#1f77b4\"},\"size\":{\"units\":\"screen\",\"value\":25},\"x\":{\"field\":\"x\"},\"y\":{\"field\":\"y\"}},\"id\":\"788be7f7-ae66-4b2e-a73a-94a26dc7c99b\",\"type\":\"Circle\"},{\"attributes\":{\"fill_alpha\":{\"value\":0.62},\"fill_color\":{\"value\":\"#EE0000\"},\"line_alpha\":{\"value\":0.62},\"line_color\":{\"value\":\"#000000\"},\"size\":{\"units\":\"screen\",\"value\":25},\"x\":{\"field\":\"x\"},\"y\":{\"field\":\"y\"}},\"id\":\"55bcfe37-b204-46e0-aae2-0ad1c7a5a592\",\"type\":\"Circle\"},{\"attributes\":{\"data_source\":{\"id\":\"37f10588-1cec-4719-b7c9-2f1f17039533\",\"type\":\"ColumnDataSource\"},\"glyph\":{\"id\":\"55bcfe37-b204-46e0-aae2-0ad1c7a5a592\",\"type\":\"Circle\"},\"hover_glyph\":null,\"nonselection_glyph\":{\"id\":\"788be7f7-ae66-4b2e-a73a-94a26dc7c99b\",\"type\":\"Circle\"},\"selection_glyph\":null},\"id\":\"4f18eaf1-9dcb-4465-aed8-929516a3f872\",\"type\":\"GlyphRenderer\"},{\"attributes\":{\"callback\":null,\"column_names\":[\"x\",\"y\"],\"data\":{\"x\":[9.8,7.9,8.0,7.6,7.1,9.3,8.5,7.0,9.8,7.6,8.5,9.6,9.7,9.0,8.5,8.2,7.1,7.5,8.5,9.4,8.3,9.7,8.6,7.1,8.5,8.9,8.5,9.4,9.7,7.5,7.9,7.4,8.1,8.0,9.1,8.0,8.8,7.9,8.7,7.8,9.2,8.8,9.4,7.7,7.8,8.2,7.1,8.2,7.3,7.7,7.3,7.3,8.2,5.0,6.0,6.8,6.9,5.0,5.8,5.9,5.5,6.7,6.3,5.0,5.1,5.8,6.5,6.7,5.4,5.6,6.5,7.4,6.4,1.8,5.3,1.2,2.0,5.2,1.3,1.0,6.0,0.8,0.5,9.3,8.3,7.1,0.9,2.1,6.5,1.8,1.5,2.5,3.5,6.1,5.2],\"y\":[8.48,7.8,6.859999999999999,5.36,6.8,9.34,6.824999999999999,4.58,9.66,5.425000000000001,3.1399999999999997,8.94,6.720000000000001,4.16,4.88,6.04,7.5200000000000005,7.640000000000001,4.16,7.76,8.080000000000002,7.219999999999999,8.219999999999999,6.74,8.74,\"NaN\",\"NaN\",7.9,7.9,\"NaN\",5.64,7.7,7.139999999999999,3.5200000000000005,7.9,\"NaN\",7.62,\"NaN\",7.76,5.74,7.066666666666666,6.279999999999999,6.760000000000001,4.96,6.58,\"NaN\",\"NaN\",3.3,4.58,4.76,4.675,\"NaN\",5.36,2.54,5.84,5.26,2.08,4.76,\"NaN\",7.88,\"NaN\",5.94,7.38,\"NaN\",5.875,6.88,6.859999999999999,5.140000000000001,\"NaN\",5.8,3.0599999999999996,3.0749999999999997,\"NaN\",\"NaN\",5.05,1.1,1.4333333333333333,\"NaN\",0.5,3.3,\"NaN\",\"NaN\",\"NaN\",4.6,\"NaN\",5.033333333333333,0.0,1.15,4.033333333333334,0.5,0.05,0.16666666666666666,\"NaN\",2.325,3.1333333333333333]}},\"id\":\"c80988d0-e7ff-4c46-b68a-a3f5e6a6e0c7\",\"type\":\"ColumnDataSource\"},{\"attributes\":{\"callback\":null,\"column_names\":[\"x\",\"y\"],\"data\":{\"x\":[1.5,5.0,5.9,7.6,3.7,6.5,4.2,6.2,7.9,1.5,7.1,0.6,3.4,3.6,5.7,5.0,3.3,5.8,1.4,6.3,3.8,7.5,5.8,5.6,5.3,5.1],\"y\":[1.8666666666666665,3.766666666666667,4.45,2.6,1.0999999999999999,4.825,3.3000000000000003,3.7000000000000006,5.475,1.2666666666666666,6.050000000000001,0.2,1.25,1.35,4.825,3.475,1.2333333333333334,1.75,1.0,4.45,2.5999999999999996,2.466666666666667,2.75,\"NaN\",1.725,2.6]}},\"id\":\"d85cec26-6aad-4832-a774-9ee550f0a0d1\",\"type\":\"ColumnDataSource\"},{\"attributes\":{\"data_source\":{\"id\":\"c80988d0-e7ff-4c46-b68a-a3f5e6a6e0c7\",\"type\":\"ColumnDataSource\"},\"glyph\":{\"id\":\"989cde53-07d7-4b33-ac53-fc2d4b53dd81\",\"type\":\"Circle\"},\"hover_glyph\":null,\"nonselection_glyph\":{\"id\":\"52edf35b-4e89-4402-b0fb-a515a0210a91\",\"type\":\"Circle\"},\"selection_glyph\":null},\"id\":\"194af164-c16a-447d-b154-7135d180f6ce\",\"type\":\"GlyphRenderer\"},{\"attributes\":{\"fill_alpha\":{\"value\":0.1},\"fill_color\":{\"value\":\"#1f77b4\"},\"line_alpha\":{\"value\":0.1},\"line_color\":{\"value\":\"#1f77b4\"},\"size\":{\"units\":\"screen\",\"value\":25},\"x\":{\"field\":\"x\"},\"y\":{\"field\":\"y\"}},\"id\":\"52edf35b-4e89-4402-b0fb-a515a0210a91\",\"type\":\"Circle\"},{\"attributes\":{},\"id\":\"54802b07-19e4-43a7-8fa8-2f3758d5e331\",\"type\":\"BasicTickFormatter\"},{\"attributes\":{},\"id\":\"5d5b765b-6796-4888-942b-4e643233f3b1\",\"type\":\"BasicTickFormatter\"},{\"attributes\":{\"plot\":null,\"text\":\"2016.1 class of ITP: Green=SUCCESS, Red=FAILURE;\"},\"id\":\"7c4274c1-ab98-424e-a8d0-bbbe3d6bd847\",\"type\":\"Title\"},{\"attributes\":{\"callback\":null,\"column_names\":[\"x\",\"y\"],\"data\":{\"x\":[10.0,10.0,8.4,8.3,9.1,7.9,8.5,8.1,6.2,8.3,7.5,9.3,8.3,10.0,8.7,7.4,8.4,7.9,9.6,8.5,7.9,9.3,9.3,7.3,8.3,9.5,7.7,8.0,7.0,7.4,7.3,8.9,7.9,8.4,9.8,5.5,5.0,6.9,6.4,6.8,6.8,5.8,5.0,5.8,6.9,6.0,6.7,6.5,6.7,6.2,6.7,6.7,6.1,5.7,6.0,6.0,6.6,5.6,6.2,6.3,0.3,4.8,8.4,0.2,1.5,8.2,3.6,6.4,2.0,5.4,5.7,0.7,0.7,6.3,1.0,0.8,5.0,6.4,9.5,0.9,2.2,9.3,6.4,4.2,2.1,5.8,1.9,8.4,5.3,6.5,5.4,8.5,7.6,8.5,8.7,7.5,2.7],\"y\":[7.816666666666666,8.52,7.18,6.960000000000001,8.36,3.614285714285714,5.2,7.62,7.483333333333333,\"NaN\",7.279999999999999,7.840000000000001,8.04,8.419999999999998,8.2,6.1499999999999995,8.3,7.279999999999999,8.419999999999998,9.08,7.359999999999999,7.76,9.0,\"NaN\",\"NaN\",\"NaN\",5.562499999999999,8.06,\"NaN\",\"NaN\",1.5285714285714287,5.325,5.983333333333333,8.38,8.26,2.733333333333333,\"NaN\",5.033333333333333,7.0600000000000005,1.385714285714286,7.279999999999999,7.24,\"NaN\",3.5555555555555554,\"NaN\",\"NaN\",\"NaN\",1.9333333333333333,\"NaN\",\"NaN\",6.233333333333333,2.9799999999999995,7.62,\"NaN\",\"NaN\",5.1,6.233333333333333,6.38,\"NaN\",\"NaN\",0.8,0.5,1.75,0.5,\"NaN\",\"NaN\",2.6,4.4,0.7749999999999999,2.614285714285714,1.46,0.0,0.0,4.071428571428571,\"NaN\",0.0,5.266666666666667,2.3625000000000003,7.283333333333334,2.3,0.0,4.040000000000001,3.8833333333333333,3.9,0.875,\"NaN\",0.78,\"NaN\",1.675,\"NaN\",3.35,4.4,\"NaN\",\"NaN\",\"NaN\",\"NaN\",\"NaN\"]}},\"id\":\"808e3e83-9a34-4281-ab46-ff3b695ab1aa\",\"type\":\"ColumnDataSource\"},{\"attributes\":{\"fill_alpha\":{\"value\":0.1},\"fill_color\":{\"value\":\"#1f77b4\"},\"line_alpha\":{\"value\":0.1},\"line_color\":{\"value\":\"#1f77b4\"},\"size\":{\"units\":\"screen\",\"value\":25},\"x\":{\"field\":\"x\"},\"y\":{\"field\":\"y\"}},\"id\":\"082782e4-fd09-4d8e-b14b-a7fc3b9dc675\",\"type\":\"Circle\"},{\"attributes\":{\"fill_alpha\":{\"value\":0.62},\"fill_color\":{\"value\":\"#EE0000\"},\"line_alpha\":{\"value\":0.62},\"line_color\":{\"value\":\"#000000\"},\"size\":{\"units\":\"screen\",\"value\":25},\"x\":{\"field\":\"x\"},\"y\":{\"field\":\"y\"}},\"id\":\"c15573ea-cf06-46ed-a665-32c4dad4936d\",\"type\":\"Circle\"},{\"attributes\":{\"data_source\":{\"id\":\"d85cec26-6aad-4832-a774-9ee550f0a0d1\",\"type\":\"ColumnDataSource\"},\"glyph\":{\"id\":\"c15573ea-cf06-46ed-a665-32c4dad4936d\",\"type\":\"Circle\"},\"hover_glyph\":null,\"nonselection_glyph\":{\"id\":\"082782e4-fd09-4d8e-b14b-a7fc3b9dc675\",\"type\":\"Circle\"},\"selection_glyph\":null},\"id\":\"6927e946-8492-45fa-9745-32d2bfb2f958\",\"type\":\"GlyphRenderer\"},{\"attributes\":{\"below\":[{\"id\":\"60f11946-7866-4cb9-8f8e-602c027d3301\",\"type\":\"LinearAxis\"}],\"left\":[{\"id\":\"a2964c6a-af53-400d-b531-be49498e046c\",\"type\":\"LinearAxis\"}],\"renderers\":[{\"id\":\"60f11946-7866-4cb9-8f8e-602c027d3301\",\"type\":\"LinearAxis\"},{\"id\":\"3c3817d2-26ca-44d3-bd96-e5bc2d5b4c25\",\"type\":\"Grid\"},{\"id\":\"a2964c6a-af53-400d-b531-be49498e046c\",\"type\":\"LinearAxis\"},{\"id\":\"4ce23b36-d3f9-4508-9e1e-14456f997c20\",\"type\":\"Grid\"},{\"id\":\"72d29904-5858-4129-810c-c7ad24ff2994\",\"type\":\"BoxAnnotation\"},{\"id\":\"1c7fa952-f3ca-4e46-8efc-d62a9078ef67\",\"type\":\"GlyphRenderer\"},{\"id\":\"ea80e82d-90bd-4f44-bc26-e44f87582eda\",\"type\":\"GlyphRenderer\"}],\"sizing_mode\":\"scale_width\",\"title\":{\"id\":\"7c4274c1-ab98-424e-a8d0-bbbe3d6bd847\",\"type\":\"Title\"},\"tool_events\":{\"id\":\"1a52345b-0d9b-430c-a8d7-374476f1f6de\",\"type\":\"ToolEvents\"},\"toolbar\":{\"id\":\"be5838b9-29a0-4dd6-b1d9-59252bd5c908\",\"type\":\"Toolbar\"},\"toolbar_location\":null,\"x_range\":{\"id\":\"2496dba6-8807-44d3-8953-dd8982cd285f\",\"type\":\"DataRange1d\"},\"y_range\":{\"id\":\"440d57fd-02d2-453c-bcf4-b3b1ec804a4f\",\"type\":\"DataRange1d\"}},\"id\":\"2f6fc056-78fb-44b9-b17c-99b79ea411df\",\"subtype\":\"Figure\",\"type\":\"Plot\"},{\"attributes\":{},\"id\":\"0158e0a4-ee96-4f5a-a753-983f1e5d1dba\",\"type\":\"ToolEvents\"},{\"attributes\":{},\"id\":\"1a52345b-0d9b-430c-a8d7-374476f1f6de\",\"type\":\"ToolEvents\"},{\"attributes\":{\"callback\":null},\"id\":\"2496dba6-8807-44d3-8953-dd8982cd285f\",\"type\":\"DataRange1d\"},{\"attributes\":{\"active_drag\":\"auto\",\"active_scroll\":\"auto\",\"active_tap\":\"auto\",\"tools\":[{\"id\":\"8700071e-6588-474c-afe2-04a20091fdab\",\"type\":\"PanTool\"},{\"id\":\"3741cef2-1638-45a4-b26b-5a6f475a269d\",\"type\":\"WheelZoomTool\"},{\"id\":\"c0ad042d-399f-4b75-b4e5-d0bec2280825\",\"type\":\"BoxZoomTool\"},{\"id\":\"52841033-700b-44a5-896f-8cdf7f93c58b\",\"type\":\"SaveTool\"},{\"id\":\"b603213e-db2a-4b59-88c8-78b695cae1ee\",\"type\":\"ResetTool\"},{\"id\":\"84940a87-bea8-4113-a682-6f865da804c1\",\"type\":\"HelpTool\"}]},\"id\":\"be5838b9-29a0-4dd6-b1d9-59252bd5c908\",\"type\":\"Toolbar\"},{\"attributes\":{\"plot\":null,\"text\":\"2016.2 class of ITP: Green=SUCCESS, Red=FAILURE;\"},\"id\":\"d091c214-d10b-44e7-abfd-7bc1d08fce68\",\"type\":\"Title\"},{\"attributes\":{\"axis_label\":\"ITP Grade\",\"formatter\":{\"id\":\"dde00533-ccda-4501-80b2-442861127cd2\",\"type\":\"BasicTickFormatter\"},\"plot\":{\"id\":\"2f6fc056-78fb-44b9-b17c-99b79ea411df\",\"subtype\":\"Figure\",\"type\":\"Plot\"},\"ticker\":{\"id\":\"e4493ba0-033c-44b0-8389-77f85721bb37\",\"type\":\"BasicTicker\"}},\"id\":\"60f11946-7866-4cb9-8f8e-602c027d3301\",\"type\":\"LinearAxis\"},{\"attributes\":{\"callback\":null},\"id\":\"440d57fd-02d2-453c-bcf4-b3b1ec804a4f\",\"type\":\"DataRange1d\"},{\"attributes\":{},\"id\":\"e4493ba0-033c-44b0-8389-77f85721bb37\",\"type\":\"BasicTicker\"},{\"attributes\":{\"plot\":{\"id\":\"2f6fc056-78fb-44b9-b17c-99b79ea411df\",\"subtype\":\"Figure\",\"type\":\"Plot\"},\"ticker\":{\"id\":\"e4493ba0-033c-44b0-8389-77f85721bb37\",\"type\":\"BasicTicker\"}},\"id\":\"3c3817d2-26ca-44d3-bd96-e5bc2d5b4c25\",\"type\":\"Grid\"},{\"attributes\":{\"axis_label\":\"Average grade in other classes\",\"formatter\":{\"id\":\"d9457363-fa79-4043-8ffe-404897b086d7\",\"type\":\"BasicTickFormatter\"},\"plot\":{\"id\":\"2f6fc056-78fb-44b9-b17c-99b79ea411df\",\"subtype\":\"Figure\",\"type\":\"Plot\"},\"ticker\":{\"id\":\"7aee7c99-23d1-4e8b-ac3c-3457d35bef41\",\"type\":\"BasicTicker\"}},\"id\":\"a2964c6a-af53-400d-b531-be49498e046c\",\"type\":\"LinearAxis\"},{\"attributes\":{},\"id\":\"7aee7c99-23d1-4e8b-ac3c-3457d35bef41\",\"type\":\"BasicTicker\"},{\"attributes\":{\"dimension\":1,\"plot\":{\"id\":\"2f6fc056-78fb-44b9-b17c-99b79ea411df\",\"subtype\":\"Figure\",\"type\":\"Plot\"},\"ticker\":{\"id\":\"7aee7c99-23d1-4e8b-ac3c-3457d35bef41\",\"type\":\"BasicTicker\"}},\"id\":\"4ce23b36-d3f9-4508-9e1e-14456f997c20\",\"type\":\"Grid\"},{\"attributes\":{\"callback\":null},\"id\":\"fab952a8-f8a1-4d09-bee1-568105a8540b\",\"type\":\"DataRange1d\"},{\"attributes\":{\"callback\":null,\"column_names\":[\"x\",\"y\"],\"data\":{\"x\":[7.1,7.6,9.9,7.0,7.5,7.1,7.0,8.0,7.3,8.6,7.1,7.6,8.3,7.4,5.8,6.5,5.0,5.3,5.3,5.2,5.6,5.2,5.0,5.4,8.7,6.8,5.8,6.0,5.9,6.1,3.8,5.0,6.6,5.0,6.5,5.8,0.1,1.0,0.9,9.5,1.5,6.8,5.1,6.1,1.4,0.5,1.5,5.9,5.3,6.6],\"y\":[\"NaN\",3.733333333333333,8.299999999999999,6.633333333333333,\"NaN\",\"NaN\",7.633333333333334,5.8999999999999995,\"NaN\",4.3,4.9,7.166666666666667,2.8666666666666667,2.9,1.6666666666666667,4.1000000000000005,4.333333333333333,3.6999999999999997,2.3333333333333335,4.2,4.300000000000001,\"NaN\",4.266666666666667,\"NaN\",6.6000000000000005,\"NaN\",3.8000000000000003,\"NaN\",3.733333333333333,6.233333333333333,4.9,4.233333333333333,6.8,2.733333333333333,2.8,1.95,0.9,\"NaN\",1.6,2.8,1.35,3.55,1.9500000000000002,2.95,1.2999999999999998,1.75,1.9,4.25,3.9,3.3]}},\"id\":\"2a5a285f-f0c0-4b60-9d29-d6389107ce03\",\"type\":\"ColumnDataSource\"},{\"attributes\":{\"below\":[{\"id\":\"cc705707-4b83-4387-a508-b72f4f4978be\",\"type\":\"LinearAxis\"}],\"left\":[{\"id\":\"7e0a051e-6dc1-4f16-a2e0-06539e0c5745\",\"type\":\"LinearAxis\"}],\"renderers\":[{\"id\":\"cc705707-4b83-4387-a508-b72f4f4978be\",\"type\":\"LinearAxis\"},{\"id\":\"910fa368-4814-43b5-8ccf-48675961824a\",\"type\":\"Grid\"},{\"id\":\"7e0a051e-6dc1-4f16-a2e0-06539e0c5745\",\"type\":\"LinearAxis\"},{\"id\":\"67522a42-82a2-4548-a033-eb1833418da5\",\"type\":\"Grid\"},{\"id\":\"0efa80ef-dd80-43d0-8c1e-7656197e892f\",\"type\":\"BoxAnnotation\"},{\"id\":\"560d01f6-6c92-4596-b121-82b2b22b1f22\",\"type\":\"GlyphRenderer\"},{\"id\":\"6612a1a0-c0cf-4ab7-ae8f-d9b9ef945c63\",\"type\":\"GlyphRenderer\"}],\"sizing_mode\":\"scale_width\",\"title\":{\"id\":\"d091c214-d10b-44e7-abfd-7bc1d08fce68\",\"type\":\"Title\"},\"tool_events\":{\"id\":\"0158e0a4-ee96-4f5a-a753-983f1e5d1dba\",\"type\":\"ToolEvents\"},\"toolbar\":{\"id\":\"4d50409b-5fab-4243-bfb4-bd4699c8ecb6\",\"type\":\"Toolbar\"},\"toolbar_location\":null,\"x_range\":{\"id\":\"fab952a8-f8a1-4d09-bee1-568105a8540b\",\"type\":\"DataRange1d\"},\"y_range\":{\"id\":\"5220a509-4fad-4616-b16b-6b00db3b6f04\",\"type\":\"DataRange1d\"}},\"id\":\"94087273-4d42-4941-90bd-07f1815c05a0\",\"subtype\":\"Figure\",\"type\":\"Plot\"},{\"attributes\":{\"active_drag\":\"auto\",\"active_scroll\":\"auto\",\"active_tap\":\"auto\",\"tools\":[{\"id\":\"36972992-08ea-4b33-bb96-53aefcbaab4e\",\"type\":\"PanTool\"},{\"id\":\"db470f7c-689c-4621-9279-b59338094216\",\"type\":\"WheelZoomTool\"},{\"id\":\"99f15652-7ec7-4db0-bc54-5deb16aececb\",\"type\":\"BoxZoomTool\"},{\"id\":\"1e6b98f6-8b9f-4e6f-8d36-05c5569b4b7f\",\"type\":\"SaveTool\"},{\"id\":\"b583cf48-bb76-45ad-8474-7eb3c78af2f9\",\"type\":\"ResetTool\"},{\"id\":\"c2c0090e-80ec-4d24-bc5b-2845600a064e\",\"type\":\"HelpTool\"}]},\"id\":\"4d50409b-5fab-4243-bfb4-bd4699c8ecb6\",\"type\":\"Toolbar\"},{\"attributes\":{\"plot\":{\"id\":\"2f6fc056-78fb-44b9-b17c-99b79ea411df\",\"subtype\":\"Figure\",\"type\":\"Plot\"}},\"id\":\"8700071e-6588-474c-afe2-04a20091fdab\",\"type\":\"PanTool\"},{\"attributes\":{\"bottom_units\":\"screen\",\"fill_alpha\":{\"value\":0.5},\"fill_color\":{\"value\":\"lightgrey\"},\"left_units\":\"screen\",\"level\":\"overlay\",\"line_alpha\":{\"value\":1.0},\"line_color\":{\"value\":\"black\"},\"line_dash\":[4,4],\"line_width\":{\"value\":2},\"plot\":null,\"render_mode\":\"css\",\"right_units\":\"screen\",\"top_units\":\"screen\"},\"id\":\"72d29904-5858-4129-810c-c7ad24ff2994\",\"type\":\"BoxAnnotation\"},{\"attributes\":{\"plot\":{\"id\":\"2f6fc056-78fb-44b9-b17c-99b79ea411df\",\"subtype\":\"Figure\",\"type\":\"Plot\"}},\"id\":\"3741cef2-1638-45a4-b26b-5a6f475a269d\",\"type\":\"WheelZoomTool\"},{\"attributes\":{\"overlay\":{\"id\":\"72d29904-5858-4129-810c-c7ad24ff2994\",\"type\":\"BoxAnnotation\"},\"plot\":{\"id\":\"2f6fc056-78fb-44b9-b17c-99b79ea411df\",\"subtype\":\"Figure\",\"type\":\"Plot\"}},\"id\":\"c0ad042d-399f-4b75-b4e5-d0bec2280825\",\"type\":\"BoxZoomTool\"},{\"attributes\":{\"plot\":{\"id\":\"2f6fc056-78fb-44b9-b17c-99b79ea411df\",\"subtype\":\"Figure\",\"type\":\"Plot\"}},\"id\":\"52841033-700b-44a5-896f-8cdf7f93c58b\",\"type\":\"SaveTool\"},{\"attributes\":{\"plot\":{\"id\":\"2f6fc056-78fb-44b9-b17c-99b79ea411df\",\"subtype\":\"Figure\",\"type\":\"Plot\"}},\"id\":\"b603213e-db2a-4b59-88c8-78b695cae1ee\",\"type\":\"ResetTool\"},{\"attributes\":{\"plot\":{\"id\":\"2f6fc056-78fb-44b9-b17c-99b79ea411df\",\"subtype\":\"Figure\",\"type\":\"Plot\"}},\"id\":\"84940a87-bea8-4113-a682-6f865da804c1\",\"type\":\"HelpTool\"},{\"attributes\":{\"fill_alpha\":{\"value\":0.1},\"fill_color\":{\"value\":\"#1f77b4\"},\"line_alpha\":{\"value\":0.1},\"line_color\":{\"value\":\"#1f77b4\"},\"size\":{\"units\":\"screen\",\"value\":25},\"x\":{\"field\":\"x\"},\"y\":{\"field\":\"y\"}},\"id\":\"ebf14015-6051-4711-bea1-939fa4fc269b\",\"type\":\"Circle\"},{\"attributes\":{\"axis_label\":\"ITP Grade\",\"formatter\":{\"id\":\"bd5bc65e-1ba2-44c4-84e5-f5c8e22bb1bd\",\"type\":\"BasicTickFormatter\"},\"plot\":{\"id\":\"94087273-4d42-4941-90bd-07f1815c05a0\",\"subtype\":\"Figure\",\"type\":\"Plot\"},\"ticker\":{\"id\":\"3668e516-c044-4a5d-ba69-9d2a85452300\",\"type\":\"BasicTicker\"}},\"id\":\"cc705707-4b83-4387-a508-b72f4f4978be\",\"type\":\"LinearAxis\"},{\"attributes\":{\"callback\":null},\"id\":\"5220a509-4fad-4616-b16b-6b00db3b6f04\",\"type\":\"DataRange1d\"},{\"attributes\":{},\"id\":\"3668e516-c044-4a5d-ba69-9d2a85452300\",\"type\":\"BasicTicker\"},{\"attributes\":{\"plot\":{\"id\":\"94087273-4d42-4941-90bd-07f1815c05a0\",\"subtype\":\"Figure\",\"type\":\"Plot\"},\"ticker\":{\"id\":\"3668e516-c044-4a5d-ba69-9d2a85452300\",\"type\":\"BasicTicker\"}},\"id\":\"910fa368-4814-43b5-8ccf-48675961824a\",\"type\":\"Grid\"},{\"attributes\":{\"axis_label\":\"Average grade in other classes\",\"formatter\":{\"id\":\"ff1f53c5-ef17-460f-a270-920b2bf5fc71\",\"type\":\"BasicTickFormatter\"},\"plot\":{\"id\":\"94087273-4d42-4941-90bd-07f1815c05a0\",\"subtype\":\"Figure\",\"type\":\"Plot\"},\"ticker\":{\"id\":\"8bfd3705-014c-407f-a791-f03f50f3d5ea\",\"type\":\"BasicTicker\"}},\"id\":\"7e0a051e-6dc1-4f16-a2e0-06539e0c5745\",\"type\":\"LinearAxis\"},{\"attributes\":{},\"id\":\"8bfd3705-014c-407f-a791-f03f50f3d5ea\",\"type\":\"BasicTicker\"},{\"attributes\":{\"dimension\":1,\"plot\":{\"id\":\"94087273-4d42-4941-90bd-07f1815c05a0\",\"subtype\":\"Figure\",\"type\":\"Plot\"},\"ticker\":{\"id\":\"8bfd3705-014c-407f-a791-f03f50f3d5ea\",\"type\":\"BasicTicker\"}},\"id\":\"67522a42-82a2-4548-a033-eb1833418da5\",\"type\":\"Grid\"},{\"attributes\":{\"data_source\":{\"id\":\"2a5a285f-f0c0-4b60-9d29-d6389107ce03\",\"type\":\"ColumnDataSource\"},\"glyph\":{\"id\":\"73c9b691-edfb-4d0f-a516-e1fce913122c\",\"type\":\"Circle\"},\"hover_glyph\":null,\"nonselection_glyph\":{\"id\":\"ebf14015-6051-4711-bea1-939fa4fc269b\",\"type\":\"Circle\"},\"selection_glyph\":null},\"id\":\"1c7fa952-f3ca-4e46-8efc-d62a9078ef67\",\"type\":\"GlyphRenderer\"},{\"attributes\":{\"fill_alpha\":{\"value\":0.62},\"fill_color\":{\"value\":\"#006611\"},\"line_alpha\":{\"value\":0.62},\"line_color\":{\"value\":\"#1f77b4\"},\"size\":{\"units\":\"screen\",\"value\":25},\"x\":{\"field\":\"x\"},\"y\":{\"field\":\"y\"}},\"id\":\"73c9b691-edfb-4d0f-a516-e1fce913122c\",\"type\":\"Circle\"},{\"attributes\":{\"callback\":null,\"column_names\":[\"x\",\"y\"],\"data\":{\"x\":[2.2,6.6,5.2,4.0,7.8,6.3,6.4,5.8,0.5,0.3,8.4,7.6,2.9,5.7,4.0,0.7,1.1],\"y\":[3.15,5.449999999999999,3.3,3.1,4.75,5.75,3.95,3.05,1.7999999999999998,1.15,6.800000000000001,5.5,1.25,5.55,1.1,1.85,1.35]}},\"id\":\"e7b756c2-8793-4f71-998f-95fe139bd9a2\",\"type\":\"ColumnDataSource\"},{\"attributes\":{\"bottom_units\":\"screen\",\"fill_alpha\":{\"value\":0.5},\"fill_color\":{\"value\":\"lightgrey\"},\"left_units\":\"screen\",\"level\":\"overlay\",\"line_alpha\":{\"value\":1.0},\"line_color\":{\"value\":\"black\"},\"line_dash\":[4,4],\"line_width\":{\"value\":2},\"plot\":null,\"render_mode\":\"css\",\"right_units\":\"screen\",\"top_units\":\"screen\"},\"id\":\"0efa80ef-dd80-43d0-8c1e-7656197e892f\",\"type\":\"BoxAnnotation\"},{\"attributes\":{\"plot\":{\"id\":\"94087273-4d42-4941-90bd-07f1815c05a0\",\"subtype\":\"Figure\",\"type\":\"Plot\"}},\"id\":\"36972992-08ea-4b33-bb96-53aefcbaab4e\",\"type\":\"PanTool\"},{\"attributes\":{},\"id\":\"d9457363-fa79-4043-8ffe-404897b086d7\",\"type\":\"BasicTickFormatter\"},{\"attributes\":{\"plot\":{\"id\":\"94087273-4d42-4941-90bd-07f1815c05a0\",\"subtype\":\"Figure\",\"type\":\"Plot\"}},\"id\":\"db470f7c-689c-4621-9279-b59338094216\",\"type\":\"WheelZoomTool\"},{\"attributes\":{\"overlay\":{\"id\":\"0efa80ef-dd80-43d0-8c1e-7656197e892f\",\"type\":\"BoxAnnotation\"},\"plot\":{\"id\":\"94087273-4d42-4941-90bd-07f1815c05a0\",\"subtype\":\"Figure\",\"type\":\"Plot\"}},\"id\":\"99f15652-7ec7-4db0-bc54-5deb16aececb\",\"type\":\"BoxZoomTool\"},{\"attributes\":{\"plot\":{\"id\":\"94087273-4d42-4941-90bd-07f1815c05a0\",\"subtype\":\"Figure\",\"type\":\"Plot\"}},\"id\":\"1e6b98f6-8b9f-4e6f-8d36-05c5569b4b7f\",\"type\":\"SaveTool\"},{\"attributes\":{\"plot\":{\"id\":\"94087273-4d42-4941-90bd-07f1815c05a0\",\"subtype\":\"Figure\",\"type\":\"Plot\"}},\"id\":\"b583cf48-bb76-45ad-8474-7eb3c78af2f9\",\"type\":\"ResetTool\"},{\"attributes\":{\"plot\":{\"id\":\"94087273-4d42-4941-90bd-07f1815c05a0\",\"subtype\":\"Figure\",\"type\":\"Plot\"}},\"id\":\"c2c0090e-80ec-4d24-bc5b-2845600a064e\",\"type\":\"HelpTool\"},{\"attributes\":{\"fill_alpha\":{\"value\":0.62},\"fill_color\":{\"value\":\"#006611\"},\"line_alpha\":{\"value\":0.62},\"line_color\":{\"value\":\"#1f77b4\"},\"size\":{\"units\":\"screen\",\"value\":25},\"x\":{\"field\":\"x\"},\"y\":{\"field\":\"y\"}},\"id\":\"5ca41864-47a0-44fb-9619-99c94021d1a1\",\"type\":\"Circle\"},{\"attributes\":{},\"id\":\"dde00533-ccda-4501-80b2-442861127cd2\",\"type\":\"BasicTickFormatter\"},{\"attributes\":{\"fill_alpha\":{\"value\":0.1},\"fill_color\":{\"value\":\"#1f77b4\"},\"line_alpha\":{\"value\":0.1},\"line_color\":{\"value\":\"#1f77b4\"},\"size\":{\"units\":\"screen\",\"value\":25},\"x\":{\"field\":\"x\"},\"y\":{\"field\":\"y\"}},\"id\":\"3b1db761-e8d8-4d6b-ad98-4a13e043c1ff\",\"type\":\"Circle\"},{\"attributes\":{\"fill_alpha\":{\"value\":0.62},\"fill_color\":{\"value\":\"#EE0000\"},\"line_alpha\":{\"value\":0.62},\"line_color\":{\"value\":\"#000000\"},\"size\":{\"units\":\"screen\",\"value\":25},\"x\":{\"field\":\"x\"},\"y\":{\"field\":\"y\"}},\"id\":\"3d183600-157f-440a-8a8c-4a86f5260a94\",\"type\":\"Circle\"},{\"attributes\":{\"data_source\":{\"id\":\"e7b756c2-8793-4f71-998f-95fe139bd9a2\",\"type\":\"ColumnDataSource\"},\"glyph\":{\"id\":\"3d183600-157f-440a-8a8c-4a86f5260a94\",\"type\":\"Circle\"},\"hover_glyph\":null,\"nonselection_glyph\":{\"id\":\"3b1db761-e8d8-4d6b-ad98-4a13e043c1ff\",\"type\":\"Circle\"},\"selection_glyph\":null},\"id\":\"ea80e82d-90bd-4f44-bc26-e44f87582eda\",\"type\":\"GlyphRenderer\"},{\"attributes\":{\"callback\":null,\"column_names\":[\"x\",\"y\"],\"data\":{\"x\":[6.5,7.5,9.0,8.3,8.0,9.5,9.8,9.2,8.2,8.8,7.3,9.5,10.0,8.0,7.1,7.1,8.5,8.1,9.4,7.3,7.5,8.6,9.7,9.0,9.2,10.0,9.2,7.4,8.4,8.6,9.4,7.8,8.8,9.3,7.5,8.1,9.1,8.0,8.8,7.8,7.7,8.6,7.8,8.4,9.4,8.8,9.0,9.3,9.3,9.0,7.0,7.9,7.7,5.4,5.2,6.8,6.1,6.4,6.9,6.6,6.7,5.5,6.8,6.6,5.7,6.5,5.8,2.3,4.1,5.4,1.7,1.5,1.9,0.3,1.4,4.4,5.7,5.2],\"y\":[\"NaN\",5.6,6.8,6.7,9.2,9.8,5.8,8.6,7.0,8.9,6.4,9.0,9.6,6.3,8.8,4.7,8.0,8.5,9.5,4.3,6.2,6.0,8.2,9.1,9.3,10.0,3.4,9.8,8.7,9.3,5.7,6.7,8.2,8.0,9.4,6.7,8.4,8.2,4.7,8.2,8.6,10.0,5.2,6.6,9.8,8.1,7.7,9.7,9.4,5.1,6.7,7.5,4.7,8.7,7.9,9.2,5.4,9.7,7.7,7.3,8.2,5.8,2.1,5.0,3.4,8.5,9.0,1.7,1.4,2.7,1.8,1.5,0.5,1.5,2.3,2.1,1.2,1.3]}},\"id\":\"be6fa5f3-6fdf-4092-a762-877232210dbc\",\"type\":\"ColumnDataSource\"},{\"attributes\":{\"callback\":null,\"column_names\":[\"x\",\"y\"],\"data\":{\"x\":[2.0,1.7,3.5,1.8,2.5,2.7,0.5],\"y\":[2.5,0.0,0.4,0.0,2.7,2.4,0.3]}},\"id\":\"420b446a-6f12-43e6-8f7b-a3d66bf7fe61\",\"type\":\"ColumnDataSource\"},{\"attributes\":{\"data_source\":{\"id\":\"be6fa5f3-6fdf-4092-a762-877232210dbc\",\"type\":\"ColumnDataSource\"},\"glyph\":{\"id\":\"5ca41864-47a0-44fb-9619-99c94021d1a1\",\"type\":\"Circle\"},\"hover_glyph\":null,\"nonselection_glyph\":{\"id\":\"e20ace71-c981-4ec2-ac94-d99ec8e71dd8\",\"type\":\"Circle\"},\"selection_glyph\":null},\"id\":\"560d01f6-6c92-4596-b121-82b2b22b1f22\",\"type\":\"GlyphRenderer\"},{\"attributes\":{\"fill_alpha\":{\"value\":0.1},\"fill_color\":{\"value\":\"#1f77b4\"},\"line_alpha\":{\"value\":0.1},\"line_color\":{\"value\":\"#1f77b4\"},\"size\":{\"units\":\"screen\",\"value\":25},\"x\":{\"field\":\"x\"},\"y\":{\"field\":\"y\"}},\"id\":\"e20ace71-c981-4ec2-ac94-d99ec8e71dd8\",\"type\":\"Circle\"},{\"attributes\":{},\"id\":\"ff1f53c5-ef17-460f-a270-920b2bf5fc71\",\"type\":\"BasicTickFormatter\"},{\"attributes\":{},\"id\":\"bd5bc65e-1ba2-44c4-84e5-f5c8e22bb1bd\",\"type\":\"BasicTickFormatter\"},{\"attributes\":{\"children\":[{\"id\":\"bd4b82d2-5e5b-463a-956e-943cbd131643\",\"subtype\":\"Figure\",\"type\":\"Plot\"},{\"id\":\"5988fcd4-c663-4996-9396-6541b62614bb\",\"subtype\":\"Figure\",\"type\":\"Plot\"}],\"sizing_mode\":\"scale_width\"},\"id\":\"2caced4a-b8e9-4c22-b2cf-8760a41a3c3d\",\"type\":\"Row\"},{\"attributes\":{\"fill_alpha\":{\"value\":0.1},\"fill_color\":{\"value\":\"#1f77b4\"},\"line_alpha\":{\"value\":0.1},\"line_color\":{\"value\":\"#1f77b4\"},\"size\":{\"units\":\"screen\",\"value\":25},\"x\":{\"field\":\"x\"},\"y\":{\"field\":\"y\"}},\"id\":\"9789d63d-0c0d-45f9-9624-44c16da32a1a\",\"type\":\"Circle\"},{\"attributes\":{\"fill_alpha\":{\"value\":0.62},\"fill_color\":{\"value\":\"#EE0000\"},\"line_alpha\":{\"value\":0.62},\"line_color\":{\"value\":\"#000000\"},\"size\":{\"units\":\"screen\",\"value\":25},\"x\":{\"field\":\"x\"},\"y\":{\"field\":\"y\"}},\"id\":\"1fa21f4e-0ab3-4f4a-9ec2-e53ad11ed120\",\"type\":\"Circle\"},{\"attributes\":{\"data_source\":{\"id\":\"420b446a-6f12-43e6-8f7b-a3d66bf7fe61\",\"type\":\"ColumnDataSource\"},\"glyph\":{\"id\":\"1fa21f4e-0ab3-4f4a-9ec2-e53ad11ed120\",\"type\":\"Circle\"},\"hover_glyph\":null,\"nonselection_glyph\":{\"id\":\"9789d63d-0c0d-45f9-9624-44c16da32a1a\",\"type\":\"Circle\"},\"selection_glyph\":null},\"id\":\"6612a1a0-c0cf-4ab7-ae8f-d9b9ef945c63\",\"type\":\"GlyphRenderer\"},{\"attributes\":{\"children\":[{\"id\":\"bf71e665-9980-4871-8766-3bd032502ded\",\"subtype\":\"Figure\",\"type\":\"Plot\"},{\"id\":\"a5be8750-8242-4f55-9667-642e013f27fd\",\"subtype\":\"Figure\",\"type\":\"Plot\"}],\"sizing_mode\":\"scale_width\"},\"id\":\"35be0c72-8383-42af-99bd-0eb20c78a933\",\"type\":\"Row\"},{\"attributes\":{\"sizing_mode\":\"scale_width\",\"toolbar_location\":\"above\",\"tools\":[{\"id\":\"6993cc23-0f4b-4341-a727-a6ae1c82faeb\",\"type\":\"PanTool\"},{\"id\":\"df7dc94f-b200-4a1a-861a-5e1c33a55191\",\"type\":\"WheelZoomTool\"},{\"id\":\"1a5b478b-877d-4f40-9187-fef2544e9cde\",\"type\":\"BoxZoomTool\"},{\"id\":\"202324db-4c12-4167-ac3d-185748744031\",\"type\":\"SaveTool\"},{\"id\":\"efa62106-aae6-41bd-aff1-944272fd4cb9\",\"type\":\"ResetTool\"},{\"id\":\"b60f893c-47ad-47cd-a2f4-e63e280daa77\",\"type\":\"HelpTool\"},{\"id\":\"dcbca3db-5257-4fbf-b1c6-45cb82cdd560\",\"type\":\"PanTool\"},{\"id\":\"a4b6ed3a-daa3-42ba-a35d-34b56ee314eb\",\"type\":\"WheelZoomTool\"},{\"id\":\"22238965-2a7f-43eb-9beb-28f4b1768868\",\"type\":\"BoxZoomTool\"},{\"id\":\"92306795-2273-4858-b6a2-e542dc4172e1\",\"type\":\"SaveTool\"},{\"id\":\"284348fb-f4a4-4cf2-81fe-89e26b29c1f0\",\"type\":\"ResetTool\"},{\"id\":\"f734b22f-abcd-4531-bef3-b4fe34df626c\",\"type\":\"HelpTool\"},{\"id\":\"4e2be6b3-e7f1-4119-943d-2f21ec4b0b64\",\"type\":\"PanTool\"},{\"id\":\"3b70bfaf-53b7-42f8-a79c-ac4241c83308\",\"type\":\"WheelZoomTool\"},{\"id\":\"86b72067-9cbc-42c6-9781-04b59ae2dd36\",\"type\":\"BoxZoomTool\"},{\"id\":\"bad1011e-347e-4e97-b36e-46491a14afd8\",\"type\":\"SaveTool\"},{\"id\":\"b8bebd15-104d-4a96-99ab-cbeded1489d0\",\"type\":\"ResetTool\"},{\"id\":\"fa74e7ba-6859-4453-8b7c-d9a9f03e42d1\",\"type\":\"HelpTool\"},{\"id\":\"39c94757-e691-47d7-a9c8-3c974dd1a961\",\"type\":\"PanTool\"},{\"id\":\"a953eabe-5a22-49f3-b222-70e5c35db12d\",\"type\":\"WheelZoomTool\"},{\"id\":\"89563b18-c14a-49dd-b997-93eb4271194e\",\"type\":\"BoxZoomTool\"},{\"id\":\"d8cdac80-9c9b-46ae-b772-aa4e70594500\",\"type\":\"SaveTool\"},{\"id\":\"e53ef398-2b7c-4279-af4a-5003eb0ebd42\",\"type\":\"ResetTool\"},{\"id\":\"335ca38a-e998-4860-a23f-9669f79e78a5\",\"type\":\"HelpTool\"},{\"id\":\"8700071e-6588-474c-afe2-04a20091fdab\",\"type\":\"PanTool\"},{\"id\":\"3741cef2-1638-45a4-b26b-5a6f475a269d\",\"type\":\"WheelZoomTool\"},{\"id\":\"c0ad042d-399f-4b75-b4e5-d0bec2280825\",\"type\":\"BoxZoomTool\"},{\"id\":\"52841033-700b-44a5-896f-8cdf7f93c58b\",\"type\":\"SaveTool\"},{\"id\":\"b603213e-db2a-4b59-88c8-78b695cae1ee\",\"type\":\"ResetTool\"},{\"id\":\"84940a87-bea8-4113-a682-6f865da804c1\",\"type\":\"HelpTool\"},{\"id\":\"36972992-08ea-4b33-bb96-53aefcbaab4e\",\"type\":\"PanTool\"},{\"id\":\"db470f7c-689c-4621-9279-b59338094216\",\"type\":\"WheelZoomTool\"},{\"id\":\"99f15652-7ec7-4db0-bc54-5deb16aececb\",\"type\":\"BoxZoomTool\"},{\"id\":\"1e6b98f6-8b9f-4e6f-8d36-05c5569b4b7f\",\"type\":\"SaveTool\"},{\"id\":\"b583cf48-bb76-45ad-8474-7eb3c78af2f9\",\"type\":\"ResetTool\"},{\"id\":\"c2c0090e-80ec-4d24-bc5b-2845600a064e\",\"type\":\"HelpTool\"}]},\"id\":\"a7df2f52-9f40-47c5-8d9f-571b318ee097\",\"type\":\"ToolbarBox\"},{\"attributes\":{\"children\":[{\"id\":\"2f6fc056-78fb-44b9-b17c-99b79ea411df\",\"subtype\":\"Figure\",\"type\":\"Plot\"},{\"id\":\"94087273-4d42-4941-90bd-07f1815c05a0\",\"subtype\":\"Figure\",\"type\":\"Plot\"}],\"sizing_mode\":\"scale_width\"},\"id\":\"95a05432-5b65-45cc-9bda-8db658d349fa\",\"type\":\"Row\"},{\"attributes\":{\"children\":[{\"id\":\"a7df2f52-9f40-47c5-8d9f-571b318ee097\",\"type\":\"ToolbarBox\"},{\"id\":\"2faba488-a2d4-487e-b1ef-a2ccc24eccbb\",\"type\":\"Column\"}],\"sizing_mode\":\"scale_width\"},\"id\":\"24ff5b72-33a0-433f-aacb-ea90a7b61829\",\"type\":\"Column\"},{\"attributes\":{\"data_source\":{\"id\":\"808e3e83-9a34-4281-ab46-ff3b695ab1aa\",\"type\":\"ColumnDataSource\"},\"glyph\":{\"id\":\"462dfcbb-ed0b-453b-bca0-fd860f6159e0\",\"type\":\"Circle\"},\"hover_glyph\":null,\"nonselection_glyph\":{\"id\":\"498601f3-0729-415c-b9be-9e61f266ebcc\",\"type\":\"Circle\"},\"selection_glyph\":null},\"id\":\"afb6441f-dc18-4a88-b167-3d1e9f2daed4\",\"type\":\"GlyphRenderer\"},{\"attributes\":{},\"id\":\"533b0884-c9b9-46c1-a02b-102fee0a4ab7\",\"type\":\"BasicTickFormatter\"}],\"root_ids\":[\"24ff5b72-33a0-433f-aacb-ea90a7b61829\"]},\"title\":\"Bokeh Application\",\"version\":\"0.12.4\"}};\n",
       "            var render_items = [{\"docid\":\"3007db42-c51c-4043-92e3-2287e55c563f\",\"elementid\":\"65b6496a-e160-4a2f-af02-4789c2577d63\",\"modelid\":\"24ff5b72-33a0-433f-aacb-ea90a7b61829\"}];\n",
       "            \n",
       "            Bokeh.embed.embed_items(docs_json, render_items);\n",
       "          };\n",
       "          if (document.readyState != \"loading\") fn();\n",
       "          else document.addEventListener(\"DOMContentLoaded\", fn);\n",
       "        })();\n",
       "      },\n",
       "      function(Bokeh) {\n",
       "      }\n",
       "    ];\n",
       "  \n",
       "    function run_inline_js() {\n",
       "      \n",
       "      if ((window.Bokeh !== undefined) || (force === true)) {\n",
       "        for (var i = 0; i < inline_js.length; i++) {\n",
       "          inline_js[i](window.Bokeh);\n",
       "        }if (force === true) {\n",
       "          display_loaded();\n",
       "        }} else if (Date.now() < window._bokeh_timeout) {\n",
       "        setTimeout(run_inline_js, 100);\n",
       "      } else if (!window._bokeh_failed_load) {\n",
       "        console.log(\"Bokeh: BokehJS failed to load within specified timeout.\");\n",
       "        window._bokeh_failed_load = true;\n",
       "      } else if (force !== true) {\n",
       "        var cell = $(document.getElementById(\"65b6496a-e160-4a2f-af02-4789c2577d63\")).parents('.cell').data().cell;\n",
       "        cell.output_area.append_execute_result(NB_LOAD_WARNING)\n",
       "      }\n",
       "  \n",
       "    }\n",
       "  \n",
       "    if (window._bokeh_is_loading === 0) {\n",
       "      console.log(\"Bokeh: BokehJS loaded, going straight to plotting\");\n",
       "      run_inline_js();\n",
       "    } else {\n",
       "      load_libs(js_urls, function() {\n",
       "        console.log(\"Bokeh: BokehJS plotting callback run at\", now());\n",
       "        run_inline_js();\n",
       "      });\n",
       "    }\n",
       "  }(this));\n",
       "</script>"
      ]
     },
     "metadata": {},
     "output_type": "display_data"
    }
   ],
   "source": [
    "rows = []\n",
    "circleAlpha = 0.62\n",
    "circleSize = 25\n",
    "greenColor = '#006611'\n",
    "redColor = '#EE0000'\n",
    "for i in range(0, l, 2):    \n",
    "    f1 = figure(title = str(semesters[i]) + ' class of ITP: Green=SUCCESS, Red=FAILURE;', \n",
    "                x_axis_label='ITP Grade', y_axis_label='Average grade in other classes')\n",
    "    f2 = figure(title = str(semesters[i+1]) + ' class of ITP: Green=SUCCESS, Red=FAILURE;', \n",
    "                x_axis_label='ITP Grade', y_axis_label='Average grade in other classes')\n",
    "    \n",
    "    f1.circle(points_green[i][0], points_green[i][1], fill_color = greenColor,\n",
    "              size=circleSize, alpha=circleAlpha)\n",
    "    f1.circle(points_red[i][0], points_red[i][1], fill_color = redColor, line_color='#000000',\n",
    "              size=circleSize, alpha=circleAlpha)\n",
    "    f2.circle(points_green[i+1][0], points_green[i+1][1], fill_color = greenColor,\n",
    "              size=circleSize, alpha=circleAlpha)\n",
    "    f2.circle(points_red[i+1][0], points_red[i+1][1], fill_color = redColor, line_color='#000000',\n",
    "              size=circleSize, alpha=circleAlpha)\n",
    "    rows.append([f1,f2])\n",
    "\n",
    "layout = gridplot(rows,sizing_mode='scale_width')\n",
    "output_notebook()\n",
    "show(layout)"
   ]
  },
  {
   "cell_type": "code",
   "execution_count": null,
   "metadata": {
    "collapsed": true
   },
   "outputs": [],
   "source": []
  }
 ],
 "metadata": {
  "kernelspec": {
   "display_name": "Python 3",
   "language": "python",
   "name": "python3"
  },
  "language_info": {
   "codemirror_mode": {
    "name": "ipython",
    "version": 3
   },
   "file_extension": ".py",
   "mimetype": "text/x-python",
   "name": "python",
   "nbconvert_exporter": "python",
   "pygments_lexer": "ipython3",
   "version": "3.6.0"
  }
 },
 "nbformat": 4,
 "nbformat_minor": 2
}
